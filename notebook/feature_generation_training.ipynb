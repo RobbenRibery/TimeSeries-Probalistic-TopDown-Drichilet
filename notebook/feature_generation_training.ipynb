{
 "cells": [
  {
   "cell_type": "code",
   "execution_count": 40,
   "metadata": {},
   "outputs": [
    {
     "name": "stdout",
     "output_type": "stream",
     "text": [
      "The autoreload extension is already loaded. To reload it, use:\n",
      "  %reload_ext autoreload\n"
     ]
    }
   ],
   "source": [
    "%load_ext autoreload\n",
    "%autoreload 2\n",
    "\n",
    "from tqdm import trange \n",
    "import sys \n",
    "sys.path.insert(0, '../src/')\n",
    "\n",
    "import pandas as pd \n",
    "import numpy as np \n",
    "from datetime import datetime \n",
    "import torch \n",
    "\n",
    "import proption_model \n",
    "import hierachy_encoding \n",
    "import utils \n",
    "import preprocessing "
   ]
  },
  {
   "cell_type": "code",
   "execution_count": 41,
   "metadata": {},
   "outputs": [],
   "source": [
    "sales_train_validation = pd.read_csv('../data/sales_train_validation.csv')\n",
    "sales_train_evaluation = pd.read_csv('../data/sales_train_evaluation.csv') \n",
    "calender = pd.read_csv('../data/calendar.csv') \n",
    "date_to_d = dict(zip(calender.date, calender.d)) \n",
    "d_to_date = dict(zip(calender.d, calender.date)) "
   ]
  },
  {
   "cell_type": "markdown",
   "metadata": {},
   "source": [
    "## Parent nodes sales "
   ]
  },
  {
   "cell_type": "code",
   "execution_count": 42,
   "metadata": {},
   "outputs": [
    {
     "name": "stdout",
     "output_type": "stream",
     "text": [
      "(1913,)\n"
     ]
    }
   ],
   "source": [
    "parent_sales = sales_train_validation[sales_train_validation.columns[6:]].sum(axis=0).values\n",
    "print(parent_sales.shape)"
   ]
  },
  {
   "cell_type": "markdown",
   "metadata": {},
   "source": [
    "## Hie EDA "
   ]
  },
  {
   "cell_type": "code",
   "execution_count": 43,
   "metadata": {},
   "outputs": [
    {
     "data": {
      "text/html": [
       "<div>\n",
       "<style scoped>\n",
       "    .dataframe tbody tr th:only-of-type {\n",
       "        vertical-align: middle;\n",
       "    }\n",
       "\n",
       "    .dataframe tbody tr th {\n",
       "        vertical-align: top;\n",
       "    }\n",
       "\n",
       "    .dataframe thead th {\n",
       "        text-align: right;\n",
       "    }\n",
       "</style>\n",
       "<table border=\"1\" class=\"dataframe\">\n",
       "  <thead>\n",
       "    <tr style=\"text-align: right;\">\n",
       "      <th></th>\n",
       "      <th>id</th>\n",
       "      <th>item_id</th>\n",
       "      <th>dept_id</th>\n",
       "      <th>cat_id</th>\n",
       "      <th>store_id</th>\n",
       "      <th>state_id</th>\n",
       "      <th>d_1</th>\n",
       "      <th>d_2</th>\n",
       "      <th>d_3</th>\n",
       "      <th>d_4</th>\n",
       "      <th>...</th>\n",
       "      <th>d_1932</th>\n",
       "      <th>d_1933</th>\n",
       "      <th>d_1934</th>\n",
       "      <th>d_1935</th>\n",
       "      <th>d_1936</th>\n",
       "      <th>d_1937</th>\n",
       "      <th>d_1938</th>\n",
       "      <th>d_1939</th>\n",
       "      <th>d_1940</th>\n",
       "      <th>d_1941</th>\n",
       "    </tr>\n",
       "  </thead>\n",
       "  <tbody>\n",
       "    <tr>\n",
       "      <th>0</th>\n",
       "      <td>HOBBIES_1_001_CA_1_evaluation</td>\n",
       "      <td>HOBBIES_1_001</td>\n",
       "      <td>HOBBIES_1</td>\n",
       "      <td>HOBBIES</td>\n",
       "      <td>CA_1</td>\n",
       "      <td>CA</td>\n",
       "      <td>0</td>\n",
       "      <td>0</td>\n",
       "      <td>0</td>\n",
       "      <td>0</td>\n",
       "      <td>...</td>\n",
       "      <td>2</td>\n",
       "      <td>4</td>\n",
       "      <td>0</td>\n",
       "      <td>0</td>\n",
       "      <td>0</td>\n",
       "      <td>0</td>\n",
       "      <td>3</td>\n",
       "      <td>3</td>\n",
       "      <td>0</td>\n",
       "      <td>1</td>\n",
       "    </tr>\n",
       "    <tr>\n",
       "      <th>1</th>\n",
       "      <td>HOBBIES_1_002_CA_1_evaluation</td>\n",
       "      <td>HOBBIES_1_002</td>\n",
       "      <td>HOBBIES_1</td>\n",
       "      <td>HOBBIES</td>\n",
       "      <td>CA_1</td>\n",
       "      <td>CA</td>\n",
       "      <td>0</td>\n",
       "      <td>0</td>\n",
       "      <td>0</td>\n",
       "      <td>0</td>\n",
       "      <td>...</td>\n",
       "      <td>0</td>\n",
       "      <td>1</td>\n",
       "      <td>2</td>\n",
       "      <td>1</td>\n",
       "      <td>1</td>\n",
       "      <td>0</td>\n",
       "      <td>0</td>\n",
       "      <td>0</td>\n",
       "      <td>0</td>\n",
       "      <td>0</td>\n",
       "    </tr>\n",
       "    <tr>\n",
       "      <th>2</th>\n",
       "      <td>HOBBIES_1_003_CA_1_evaluation</td>\n",
       "      <td>HOBBIES_1_003</td>\n",
       "      <td>HOBBIES_1</td>\n",
       "      <td>HOBBIES</td>\n",
       "      <td>CA_1</td>\n",
       "      <td>CA</td>\n",
       "      <td>0</td>\n",
       "      <td>0</td>\n",
       "      <td>0</td>\n",
       "      <td>0</td>\n",
       "      <td>...</td>\n",
       "      <td>1</td>\n",
       "      <td>0</td>\n",
       "      <td>2</td>\n",
       "      <td>0</td>\n",
       "      <td>0</td>\n",
       "      <td>0</td>\n",
       "      <td>2</td>\n",
       "      <td>3</td>\n",
       "      <td>0</td>\n",
       "      <td>1</td>\n",
       "    </tr>\n",
       "    <tr>\n",
       "      <th>3</th>\n",
       "      <td>HOBBIES_1_004_CA_1_evaluation</td>\n",
       "      <td>HOBBIES_1_004</td>\n",
       "      <td>HOBBIES_1</td>\n",
       "      <td>HOBBIES</td>\n",
       "      <td>CA_1</td>\n",
       "      <td>CA</td>\n",
       "      <td>0</td>\n",
       "      <td>0</td>\n",
       "      <td>0</td>\n",
       "      <td>0</td>\n",
       "      <td>...</td>\n",
       "      <td>1</td>\n",
       "      <td>1</td>\n",
       "      <td>0</td>\n",
       "      <td>4</td>\n",
       "      <td>0</td>\n",
       "      <td>1</td>\n",
       "      <td>3</td>\n",
       "      <td>0</td>\n",
       "      <td>2</td>\n",
       "      <td>6</td>\n",
       "    </tr>\n",
       "    <tr>\n",
       "      <th>4</th>\n",
       "      <td>HOBBIES_1_005_CA_1_evaluation</td>\n",
       "      <td>HOBBIES_1_005</td>\n",
       "      <td>HOBBIES_1</td>\n",
       "      <td>HOBBIES</td>\n",
       "      <td>CA_1</td>\n",
       "      <td>CA</td>\n",
       "      <td>0</td>\n",
       "      <td>0</td>\n",
       "      <td>0</td>\n",
       "      <td>0</td>\n",
       "      <td>...</td>\n",
       "      <td>0</td>\n",
       "      <td>0</td>\n",
       "      <td>0</td>\n",
       "      <td>2</td>\n",
       "      <td>1</td>\n",
       "      <td>0</td>\n",
       "      <td>0</td>\n",
       "      <td>2</td>\n",
       "      <td>1</td>\n",
       "      <td>0</td>\n",
       "    </tr>\n",
       "  </tbody>\n",
       "</table>\n",
       "<p>5 rows × 1947 columns</p>\n",
       "</div>"
      ],
      "text/plain": [
       "                              id        item_id    dept_id   cat_id store_id  \\\n",
       "0  HOBBIES_1_001_CA_1_evaluation  HOBBIES_1_001  HOBBIES_1  HOBBIES     CA_1   \n",
       "1  HOBBIES_1_002_CA_1_evaluation  HOBBIES_1_002  HOBBIES_1  HOBBIES     CA_1   \n",
       "2  HOBBIES_1_003_CA_1_evaluation  HOBBIES_1_003  HOBBIES_1  HOBBIES     CA_1   \n",
       "3  HOBBIES_1_004_CA_1_evaluation  HOBBIES_1_004  HOBBIES_1  HOBBIES     CA_1   \n",
       "4  HOBBIES_1_005_CA_1_evaluation  HOBBIES_1_005  HOBBIES_1  HOBBIES     CA_1   \n",
       "\n",
       "  state_id  d_1  d_2  d_3  d_4  ...  d_1932  d_1933  d_1934  d_1935  d_1936  \\\n",
       "0       CA    0    0    0    0  ...       2       4       0       0       0   \n",
       "1       CA    0    0    0    0  ...       0       1       2       1       1   \n",
       "2       CA    0    0    0    0  ...       1       0       2       0       0   \n",
       "3       CA    0    0    0    0  ...       1       1       0       4       0   \n",
       "4       CA    0    0    0    0  ...       0       0       0       2       1   \n",
       "\n",
       "   d_1937  d_1938  d_1939  d_1940  d_1941  \n",
       "0       0       3       3       0       1  \n",
       "1       0       0       0       0       0  \n",
       "2       0       2       3       0       1  \n",
       "3       1       3       0       2       6  \n",
       "4       0       0       2       1       0  \n",
       "\n",
       "[5 rows x 1947 columns]"
      ]
     },
     "execution_count": 43,
     "metadata": {},
     "output_type": "execute_result"
    }
   ],
   "source": [
    "sales_train_evaluation.head()"
   ]
  },
  {
   "cell_type": "code",
   "execution_count": 44,
   "metadata": {},
   "outputs": [
    {
     "name": "stdout",
     "output_type": "stream",
     "text": [
      "(30490, 1947)\n",
      "Index(['id', 'item_id', 'dept_id', 'cat_id', 'store_id', 'state_id'], dtype='object')\n"
     ]
    }
   ],
   "source": [
    "print(sales_train_evaluation.shape)\n",
    "print(sales_train_evaluation.columns[:6])"
   ]
  },
  {
   "cell_type": "code",
   "execution_count": 45,
   "metadata": {},
   "outputs": [],
   "source": [
    "groupby_list = ['state_id','store_id','cat_id','dept_id','item_id']"
   ]
  },
  {
   "cell_type": "markdown",
   "metadata": {},
   "source": [
    "- Fully encoded hierachy "
   ]
  },
  {
   "cell_type": "code",
   "execution_count": 46,
   "metadata": {},
   "outputs": [
    {
     "data": {
      "text/html": [
       "<div>\n",
       "<style scoped>\n",
       "    .dataframe tbody tr th:only-of-type {\n",
       "        vertical-align: middle;\n",
       "    }\n",
       "\n",
       "    .dataframe tbody tr th {\n",
       "        vertical-align: top;\n",
       "    }\n",
       "\n",
       "    .dataframe thead th {\n",
       "        text-align: right;\n",
       "    }\n",
       "</style>\n",
       "<table border=\"1\" class=\"dataframe\">\n",
       "  <thead>\n",
       "    <tr style=\"text-align: right;\">\n",
       "      <th></th>\n",
       "      <th></th>\n",
       "      <th></th>\n",
       "      <th></th>\n",
       "      <th></th>\n",
       "      <th>id</th>\n",
       "    </tr>\n",
       "    <tr>\n",
       "      <th>state_id</th>\n",
       "      <th>store_id</th>\n",
       "      <th>cat_id</th>\n",
       "      <th>dept_id</th>\n",
       "      <th>item_id</th>\n",
       "      <th></th>\n",
       "    </tr>\n",
       "  </thead>\n",
       "  <tbody>\n",
       "    <tr>\n",
       "      <th rowspan=\"5\" valign=\"top\">CA</th>\n",
       "      <th rowspan=\"5\" valign=\"top\">CA_1</th>\n",
       "      <th rowspan=\"5\" valign=\"top\">FOODS</th>\n",
       "      <th rowspan=\"5\" valign=\"top\">FOODS_1</th>\n",
       "      <th>FOODS_1_001</th>\n",
       "      <td>1</td>\n",
       "    </tr>\n",
       "    <tr>\n",
       "      <th>FOODS_1_002</th>\n",
       "      <td>1</td>\n",
       "    </tr>\n",
       "    <tr>\n",
       "      <th>FOODS_1_003</th>\n",
       "      <td>1</td>\n",
       "    </tr>\n",
       "    <tr>\n",
       "      <th>FOODS_1_004</th>\n",
       "      <td>1</td>\n",
       "    </tr>\n",
       "    <tr>\n",
       "      <th>FOODS_1_005</th>\n",
       "      <td>1</td>\n",
       "    </tr>\n",
       "    <tr>\n",
       "      <th>...</th>\n",
       "      <th>...</th>\n",
       "      <th>...</th>\n",
       "      <th>...</th>\n",
       "      <th>...</th>\n",
       "      <td>...</td>\n",
       "    </tr>\n",
       "    <tr>\n",
       "      <th rowspan=\"5\" valign=\"top\">WI</th>\n",
       "      <th rowspan=\"5\" valign=\"top\">WI_3</th>\n",
       "      <th rowspan=\"5\" valign=\"top\">HOUSEHOLD</th>\n",
       "      <th rowspan=\"5\" valign=\"top\">HOUSEHOLD_2</th>\n",
       "      <th>HOUSEHOLD_2_512</th>\n",
       "      <td>1</td>\n",
       "    </tr>\n",
       "    <tr>\n",
       "      <th>HOUSEHOLD_2_513</th>\n",
       "      <td>1</td>\n",
       "    </tr>\n",
       "    <tr>\n",
       "      <th>HOUSEHOLD_2_514</th>\n",
       "      <td>1</td>\n",
       "    </tr>\n",
       "    <tr>\n",
       "      <th>HOUSEHOLD_2_515</th>\n",
       "      <td>1</td>\n",
       "    </tr>\n",
       "    <tr>\n",
       "      <th>HOUSEHOLD_2_516</th>\n",
       "      <td>1</td>\n",
       "    </tr>\n",
       "  </tbody>\n",
       "</table>\n",
       "<p>30490 rows × 1 columns</p>\n",
       "</div>"
      ],
      "text/plain": [
       "                                                         id\n",
       "state_id store_id cat_id    dept_id     item_id            \n",
       "CA       CA_1     FOODS     FOODS_1     FOODS_1_001       1\n",
       "                                        FOODS_1_002       1\n",
       "                                        FOODS_1_003       1\n",
       "                                        FOODS_1_004       1\n",
       "                                        FOODS_1_005       1\n",
       "...                                                      ..\n",
       "WI       WI_3     HOUSEHOLD HOUSEHOLD_2 HOUSEHOLD_2_512   1\n",
       "                                        HOUSEHOLD_2_513   1\n",
       "                                        HOUSEHOLD_2_514   1\n",
       "                                        HOUSEHOLD_2_515   1\n",
       "                                        HOUSEHOLD_2_516   1\n",
       "\n",
       "[30490 rows x 1 columns]"
      ]
     },
     "execution_count": 46,
     "metadata": {},
     "output_type": "execute_result"
    }
   ],
   "source": [
    "hierachy_lookup = sales_train_evaluation.groupby(groupby_list[:]).count()[['id']]\n",
    "hierachy_lookup"
   ]
  },
  {
   "cell_type": "code",
   "execution_count": 47,
   "metadata": {},
   "outputs": [],
   "source": [
    "#hierachy_lookup.loc[('CA','CA_1','FOODS','FOODS_1')].index.to_list()"
   ]
  },
  {
   "cell_type": "markdown",
   "metadata": {},
   "source": [
    "- Partially encoded hierachy"
   ]
  },
  {
   "cell_type": "code",
   "execution_count": 48,
   "metadata": {},
   "outputs": [
    {
     "data": {
      "text/html": [
       "<div>\n",
       "<style scoped>\n",
       "    .dataframe tbody tr th:only-of-type {\n",
       "        vertical-align: middle;\n",
       "    }\n",
       "\n",
       "    .dataframe tbody tr th {\n",
       "        vertical-align: top;\n",
       "    }\n",
       "\n",
       "    .dataframe thead th {\n",
       "        text-align: right;\n",
       "    }\n",
       "</style>\n",
       "<table border=\"1\" class=\"dataframe\">\n",
       "  <thead>\n",
       "    <tr style=\"text-align: right;\">\n",
       "      <th></th>\n",
       "      <th></th>\n",
       "      <th></th>\n",
       "      <th>id</th>\n",
       "    </tr>\n",
       "    <tr>\n",
       "      <th>cat_id</th>\n",
       "      <th>dept_id</th>\n",
       "      <th>item_id</th>\n",
       "      <th></th>\n",
       "    </tr>\n",
       "  </thead>\n",
       "  <tbody>\n",
       "    <tr>\n",
       "      <th rowspan=\"5\" valign=\"top\">FOODS</th>\n",
       "      <th rowspan=\"5\" valign=\"top\">FOODS_1</th>\n",
       "      <th>FOODS_1_001</th>\n",
       "      <td>10</td>\n",
       "    </tr>\n",
       "    <tr>\n",
       "      <th>FOODS_1_002</th>\n",
       "      <td>10</td>\n",
       "    </tr>\n",
       "    <tr>\n",
       "      <th>FOODS_1_003</th>\n",
       "      <td>10</td>\n",
       "    </tr>\n",
       "    <tr>\n",
       "      <th>FOODS_1_004</th>\n",
       "      <td>10</td>\n",
       "    </tr>\n",
       "    <tr>\n",
       "      <th>FOODS_1_005</th>\n",
       "      <td>10</td>\n",
       "    </tr>\n",
       "  </tbody>\n",
       "</table>\n",
       "</div>"
      ],
      "text/plain": [
       "                            id\n",
       "cat_id dept_id item_id        \n",
       "FOODS  FOODS_1 FOODS_1_001  10\n",
       "               FOODS_1_002  10\n",
       "               FOODS_1_003  10\n",
       "               FOODS_1_004  10\n",
       "               FOODS_1_005  10"
      ]
     },
     "execution_count": 48,
     "metadata": {},
     "output_type": "execute_result"
    }
   ],
   "source": [
    "hierachy_lookup_2 = sales_train_evaluation.groupby(groupby_list[2:]).count()[['id']]\n",
    "hierachy_lookup_2.head()"
   ]
  },
  {
   "cell_type": "code",
   "execution_count": 49,
   "metadata": {},
   "outputs": [
    {
     "data": {
      "text/html": [
       "<div>\n",
       "<style scoped>\n",
       "    .dataframe tbody tr th:only-of-type {\n",
       "        vertical-align: middle;\n",
       "    }\n",
       "\n",
       "    .dataframe tbody tr th {\n",
       "        vertical-align: top;\n",
       "    }\n",
       "\n",
       "    .dataframe thead th {\n",
       "        text-align: right;\n",
       "    }\n",
       "</style>\n",
       "<table border=\"1\" class=\"dataframe\">\n",
       "  <thead>\n",
       "    <tr style=\"text-align: right;\">\n",
       "      <th></th>\n",
       "      <th></th>\n",
       "      <th></th>\n",
       "      <th>id</th>\n",
       "    </tr>\n",
       "    <tr>\n",
       "      <th>cat_id</th>\n",
       "      <th>dept_id</th>\n",
       "      <th>item_id</th>\n",
       "      <th></th>\n",
       "    </tr>\n",
       "  </thead>\n",
       "  <tbody>\n",
       "    <tr>\n",
       "      <th rowspan=\"5\" valign=\"top\">FOODS</th>\n",
       "      <th rowspan=\"5\" valign=\"top\">FOODS_1</th>\n",
       "      <th>FOODS_1_001</th>\n",
       "      <td>10</td>\n",
       "    </tr>\n",
       "    <tr>\n",
       "      <th>FOODS_1_002</th>\n",
       "      <td>10</td>\n",
       "    </tr>\n",
       "    <tr>\n",
       "      <th>FOODS_1_003</th>\n",
       "      <td>10</td>\n",
       "    </tr>\n",
       "    <tr>\n",
       "      <th>FOODS_1_004</th>\n",
       "      <td>10</td>\n",
       "    </tr>\n",
       "    <tr>\n",
       "      <th>FOODS_1_005</th>\n",
       "      <td>10</td>\n",
       "    </tr>\n",
       "    <tr>\n",
       "      <th>...</th>\n",
       "      <th>...</th>\n",
       "      <th>...</th>\n",
       "      <td>...</td>\n",
       "    </tr>\n",
       "    <tr>\n",
       "      <th rowspan=\"5\" valign=\"top\">HOUSEHOLD</th>\n",
       "      <th rowspan=\"5\" valign=\"top\">HOUSEHOLD_2</th>\n",
       "      <th>HOUSEHOLD_2_512</th>\n",
       "      <td>10</td>\n",
       "    </tr>\n",
       "    <tr>\n",
       "      <th>HOUSEHOLD_2_513</th>\n",
       "      <td>10</td>\n",
       "    </tr>\n",
       "    <tr>\n",
       "      <th>HOUSEHOLD_2_514</th>\n",
       "      <td>10</td>\n",
       "    </tr>\n",
       "    <tr>\n",
       "      <th>HOUSEHOLD_2_515</th>\n",
       "      <td>10</td>\n",
       "    </tr>\n",
       "    <tr>\n",
       "      <th>HOUSEHOLD_2_516</th>\n",
       "      <td>10</td>\n",
       "    </tr>\n",
       "  </tbody>\n",
       "</table>\n",
       "<p>3049 rows × 1 columns</p>\n",
       "</div>"
      ],
      "text/plain": [
       "                                       id\n",
       "cat_id    dept_id     item_id            \n",
       "FOODS     FOODS_1     FOODS_1_001      10\n",
       "                      FOODS_1_002      10\n",
       "                      FOODS_1_003      10\n",
       "                      FOODS_1_004      10\n",
       "                      FOODS_1_005      10\n",
       "...                                    ..\n",
       "HOUSEHOLD HOUSEHOLD_2 HOUSEHOLD_2_512  10\n",
       "                      HOUSEHOLD_2_513  10\n",
       "                      HOUSEHOLD_2_514  10\n",
       "                      HOUSEHOLD_2_515  10\n",
       "                      HOUSEHOLD_2_516  10\n",
       "\n",
       "[3049 rows x 1 columns]"
      ]
     },
     "execution_count": 49,
     "metadata": {},
     "output_type": "execute_result"
    }
   ],
   "source": [
    "hierachy_lookup_2"
   ]
  },
  {
   "cell_type": "markdown",
   "metadata": {},
   "source": [
    "- TS encoding generation"
   ]
  },
  {
   "cell_type": "code",
   "execution_count": 50,
   "metadata": {},
   "outputs": [],
   "source": [
    "hierachy_lookup_2 = hierachy_lookup_2.reset_index()"
   ]
  },
  {
   "cell_type": "code",
   "execution_count": 51,
   "metadata": {},
   "outputs": [
    {
     "data": {
      "text/plain": [
       "FOODS_3        823\n",
       "HOUSEHOLD_1    532\n",
       "HOUSEHOLD_2    515\n",
       "HOBBIES_1      416\n",
       "FOODS_2        398\n",
       "FOODS_1        216\n",
       "HOBBIES_2      149\n",
       "Name: dept_id, dtype: int64"
      ]
     },
     "execution_count": 51,
     "metadata": {},
     "output_type": "execute_result"
    }
   ],
   "source": [
    "hierachy_lookup_2.dept_id.value_counts()"
   ]
  },
  {
   "cell_type": "code",
   "execution_count": 52,
   "metadata": {},
   "outputs": [
    {
     "name": "stdout",
     "output_type": "stream",
     "text": [
      "{'FOODS': 0, 'HOBBIES': 1, 'HOUSEHOLD': 2}\n",
      "{'FOODS_1': 3, 'FOODS_2': 4, 'FOODS_3': 5, 'HOBBIES_1': 6, 'HOBBIES_2': 7, 'HOUSEHOLD_1': 8, 'HOUSEHOLD_2': 9}\n"
     ]
    }
   ],
   "source": [
    "\n",
    "hierachy_with_encoded_columns = hierachy_encoding.hie_encoder(hierachy_lookup_2, ['cat_id','dept_id','item_id'])\n",
    "\n",
    "root_to_index = {'root':0}\n",
    "\n",
    "cat_to_dix = dict(zip(hierachy_with_encoded_columns.cat_id,hierachy_with_encoded_columns.cat_id_))\n",
    "print(cat_to_dix)\n",
    "\n",
    "\n",
    "dep_to_dix = dict(zip(hierachy_with_encoded_columns.dept_id,hierachy_with_encoded_columns.dept_id_))\n",
    "print(dep_to_dix)\n",
    "\n",
    "item_to_dix = dict(zip(hierachy_with_encoded_columns.item_id,hierachy_with_encoded_columns.item_id_))\n",
    "#print(item_to_dix)"
   ]
  },
  {
   "cell_type": "code",
   "execution_count": 53,
   "metadata": {},
   "outputs": [
    {
     "name": "stdout",
     "output_type": "stream",
     "text": [
      "3060\n"
     ]
    }
   ],
   "source": [
    "ts_to_index = {}\n",
    "for dic in [root_to_index, cat_to_dix, dep_to_dix, item_to_dix]:\n",
    "    ts_to_index.update(dic)\n",
    "print(len(ts_to_index.items()))"
   ]
  },
  {
   "cell_type": "code",
   "execution_count": 54,
   "metadata": {},
   "outputs": [
    {
     "name": "stdout",
     "output_type": "stream",
     "text": [
      "3059\n"
     ]
    }
   ],
   "source": [
    "inde_to_ts = dict(zip(ts_to_index.values(), ts_to_index.keys()))\n",
    "print(len(inde_to_ts.items()))"
   ]
  },
  {
   "cell_type": "code",
   "execution_count": 55,
   "metadata": {},
   "outputs": [
    {
     "data": {
      "text/plain": [
       "defaultdict(int,\n",
       "            {'FOODS_1': 0,\n",
       "             'FOODS_2': 0,\n",
       "             'FOODS_3': 0,\n",
       "             'HOBBIES_1': 1,\n",
       "             'HOBBIES_2': 1,\n",
       "             'HOUSEHOLD_1': 2,\n",
       "             'HOUSEHOLD_2': 2})"
      ]
     },
     "execution_count": 55,
     "metadata": {},
     "output_type": "execute_result"
    }
   ],
   "source": [
    "dep_parent_index = hierachy_encoding.get_parent_index(dep_to_dix, cat_to_dix)\n",
    "dep_parent_index "
   ]
  },
  {
   "cell_type": "code",
   "execution_count": 56,
   "metadata": {},
   "outputs": [],
   "source": [
    "item_parent_index = hierachy_encoding.get_parent_index(item_to_dix, dep_to_dix)"
   ]
  },
  {
   "cell_type": "markdown",
   "metadata": {},
   "source": [
    "---- Need to constrcut a grpah here, proceeed to next step first "
   ]
  },
  {
   "cell_type": "code",
   "execution_count": 57,
   "metadata": {},
   "outputs": [
    {
     "data": {
      "text/plain": [
       "defaultdict(list, {'root': [0, 1, 2]})"
      ]
     },
     "execution_count": 57,
     "metadata": {},
     "output_type": "execute_result"
    }
   ],
   "source": [
    "hierachy_encoding.get_children_index(cat_to_dix)"
   ]
  },
  {
   "cell_type": "markdown",
   "metadata": {},
   "source": [
    "- Pick a particular familry to construct one training data points \n",
    "    - Parent node - 0 \n",
    "    - Children node - 1, 2, 3 "
   ]
  },
  {
   "cell_type": "code",
   "execution_count": 58,
   "metadata": {},
   "outputs": [
    {
     "name": "stdout",
     "output_type": "stream",
     "text": [
      "(1, 1913)\n"
     ]
    }
   ],
   "source": [
    "# collect parent sales \n",
    "yp = sales_train_validation.sum(axis=0)[6:].values.reshape(-1,1)# np array \n",
    "yp = yp.T \n",
    "print(yp.shape)"
   ]
  },
  {
   "cell_type": "code",
   "execution_count": 59,
   "metadata": {},
   "outputs": [
    {
     "data": {
      "text/html": [
       "<div>\n",
       "<style scoped>\n",
       "    .dataframe tbody tr th:only-of-type {\n",
       "        vertical-align: middle;\n",
       "    }\n",
       "\n",
       "    .dataframe tbody tr th {\n",
       "        vertical-align: top;\n",
       "    }\n",
       "\n",
       "    .dataframe thead th {\n",
       "        text-align: right;\n",
       "    }\n",
       "</style>\n",
       "<table border=\"1\" class=\"dataframe\">\n",
       "  <thead>\n",
       "    <tr style=\"text-align: right;\">\n",
       "      <th></th>\n",
       "      <th>d_1</th>\n",
       "      <th>d_2</th>\n",
       "      <th>d_3</th>\n",
       "      <th>d_4</th>\n",
       "      <th>d_5</th>\n",
       "      <th>d_6</th>\n",
       "      <th>d_7</th>\n",
       "      <th>d_8</th>\n",
       "      <th>d_9</th>\n",
       "      <th>d_10</th>\n",
       "      <th>...</th>\n",
       "      <th>d_1904</th>\n",
       "      <th>d_1905</th>\n",
       "      <th>d_1906</th>\n",
       "      <th>d_1907</th>\n",
       "      <th>d_1908</th>\n",
       "      <th>d_1909</th>\n",
       "      <th>d_1910</th>\n",
       "      <th>d_1911</th>\n",
       "      <th>d_1912</th>\n",
       "      <th>d_1913</th>\n",
       "    </tr>\n",
       "    <tr>\n",
       "      <th>cat_id</th>\n",
       "      <th></th>\n",
       "      <th></th>\n",
       "      <th></th>\n",
       "      <th></th>\n",
       "      <th></th>\n",
       "      <th></th>\n",
       "      <th></th>\n",
       "      <th></th>\n",
       "      <th></th>\n",
       "      <th></th>\n",
       "      <th></th>\n",
       "      <th></th>\n",
       "      <th></th>\n",
       "      <th></th>\n",
       "      <th></th>\n",
       "      <th></th>\n",
       "      <th></th>\n",
       "      <th></th>\n",
       "      <th></th>\n",
       "      <th></th>\n",
       "      <th></th>\n",
       "    </tr>\n",
       "  </thead>\n",
       "  <tbody>\n",
       "    <tr>\n",
       "      <th>FOODS</th>\n",
       "      <td>23178</td>\n",
       "      <td>22758</td>\n",
       "      <td>17174</td>\n",
       "      <td>18878</td>\n",
       "      <td>14603</td>\n",
       "      <td>22093</td>\n",
       "      <td>20490</td>\n",
       "      <td>27751</td>\n",
       "      <td>24862</td>\n",
       "      <td>18901</td>\n",
       "      <td>...</td>\n",
       "      <td>28682</td>\n",
       "      <td>32007</td>\n",
       "      <td>34497</td>\n",
       "      <td>26151</td>\n",
       "      <td>24948</td>\n",
       "      <td>23632</td>\n",
       "      <td>23317</td>\n",
       "      <td>26704</td>\n",
       "      <td>31927</td>\n",
       "      <td>32654</td>\n",
       "    </tr>\n",
       "    <tr>\n",
       "      <th>HOBBIES</th>\n",
       "      <td>3764</td>\n",
       "      <td>3357</td>\n",
       "      <td>2682</td>\n",
       "      <td>2669</td>\n",
       "      <td>1814</td>\n",
       "      <td>3220</td>\n",
       "      <td>2944</td>\n",
       "      <td>3986</td>\n",
       "      <td>2899</td>\n",
       "      <td>2615</td>\n",
       "      <td>...</td>\n",
       "      <td>3786</td>\n",
       "      <td>4634</td>\n",
       "      <td>4820</td>\n",
       "      <td>3323</td>\n",
       "      <td>3787</td>\n",
       "      <td>3472</td>\n",
       "      <td>3353</td>\n",
       "      <td>4085</td>\n",
       "      <td>4787</td>\n",
       "      <td>4683</td>\n",
       "    </tr>\n",
       "    <tr>\n",
       "      <th>HOUSEHOLD</th>\n",
       "      <td>5689</td>\n",
       "      <td>5634</td>\n",
       "      <td>3927</td>\n",
       "      <td>3865</td>\n",
       "      <td>2729</td>\n",
       "      <td>3898</td>\n",
       "      <td>4576</td>\n",
       "      <td>6195</td>\n",
       "      <td>4975</td>\n",
       "      <td>4056</td>\n",
       "      <td>...</td>\n",
       "      <td>9321</td>\n",
       "      <td>11721</td>\n",
       "      <td>12323</td>\n",
       "      <td>8585</td>\n",
       "      <td>8835</td>\n",
       "      <td>8239</td>\n",
       "      <td>8363</td>\n",
       "      <td>9728</td>\n",
       "      <td>12248</td>\n",
       "      <td>12458</td>\n",
       "    </tr>\n",
       "  </tbody>\n",
       "</table>\n",
       "<p>3 rows × 1913 columns</p>\n",
       "</div>"
      ],
      "text/plain": [
       "             d_1    d_2    d_3    d_4    d_5    d_6    d_7    d_8    d_9  \\\n",
       "cat_id                                                                     \n",
       "FOODS      23178  22758  17174  18878  14603  22093  20490  27751  24862   \n",
       "HOBBIES     3764   3357   2682   2669   1814   3220   2944   3986   2899   \n",
       "HOUSEHOLD   5689   5634   3927   3865   2729   3898   4576   6195   4975   \n",
       "\n",
       "            d_10  ...  d_1904  d_1905  d_1906  d_1907  d_1908  d_1909  d_1910  \\\n",
       "cat_id            ...                                                           \n",
       "FOODS      18901  ...   28682   32007   34497   26151   24948   23632   23317   \n",
       "HOBBIES     2615  ...    3786    4634    4820    3323    3787    3472    3353   \n",
       "HOUSEHOLD   4056  ...    9321   11721   12323    8585    8835    8239    8363   \n",
       "\n",
       "           d_1911  d_1912  d_1913  \n",
       "cat_id                             \n",
       "FOODS       26704   31927   32654  \n",
       "HOBBIES      4085    4787    4683  \n",
       "HOUSEHOLD    9728   12248   12458  \n",
       "\n",
       "[3 rows x 1913 columns]"
      ]
     },
     "execution_count": 59,
     "metadata": {},
     "output_type": "execute_result"
    }
   ],
   "source": [
    "sales_train_validation.groupby('cat_id').sum()"
   ]
  },
  {
   "cell_type": "code",
   "execution_count": 60,
   "metadata": {},
   "outputs": [
    {
     "name": "stdout",
     "output_type": "stream",
     "text": [
      "(3, 1913)\n",
      "<class 'numpy.ndarray'>\n"
     ]
    }
   ],
   "source": [
    "# collect the proportinos \n",
    "ac = sales_train_validation.groupby('cat_id').sum().values/yp\n",
    "print(ac.shape)\n",
    "print(type(ac))"
   ]
  },
  {
   "cell_type": "code",
   "execution_count": 61,
   "metadata": {},
   "outputs": [
    {
     "name": "stdout",
     "output_type": "stream",
     "text": [
      "(3, 1913)\n",
      "<class 'numpy.ndarray'>\n"
     ]
    }
   ],
   "source": [
    "# collect the embedding layer input \n",
    "ec = np.array(hierachy_encoding.get_children_index(cat_to_dix)['root']).reshape(-1,1)\n",
    "ec = np.repeat(ec, 1913, axis=1)\n",
    "print(ec.shape)\n",
    "print(type(ec))"
   ]
  },
  {
   "cell_type": "code",
   "execution_count": 62,
   "metadata": {},
   "outputs": [
    {
     "data": {
      "text/plain": [
       "array([0, 1, 2])"
      ]
     },
     "execution_count": 62,
     "metadata": {},
     "output_type": "execute_result"
    }
   ],
   "source": [
    "ec[:,0]"
   ]
  },
  {
   "cell_type": "code",
   "execution_count": 63,
   "metadata": {},
   "outputs": [
    {
     "name": "stdout",
     "output_type": "stream",
     "text": [
      "(3, 1913, 3)\n",
      "0\n",
      "(1913, 3)\n",
      "1\n",
      "(1913, 3)\n",
      "2\n",
      "(1913, 3)\n"
     ]
    }
   ],
   "source": [
    "if ac.shape[0] == ec.shape[0]: \n",
    "\n",
    "    input = np.empty(\n",
    "        \n",
    "        (ac.shape[0], ac.shape[1], 3), \n",
    "    \n",
    "    )\n",
    "    print(input.shape)\n",
    "\n",
    "    for c in range(input.shape[0]): \n",
    "        print(c)\n",
    "        # print(yp.T.shape)\n",
    "        # print(ac[c].reshape(-1,1).shape)\n",
    "        # print(ec[c].reshape(-1,1).shape)\n",
    "        input[c] = np.concatenate(\n",
    "            [\n",
    "                ac[c].reshape(-1,1), \n",
    "                yp.T, \n",
    "                ## ---- PLACE HOLDER FOR COVARIATES X ---- ## \n",
    "                ## ---- PLACE HOLDER FOR COVARIATES X ---- ## \n",
    "                ec[c].reshape(-1,1),\n",
    "            ], \n",
    "            axis = 1 \n",
    "        )\n",
    "        print(input[c].shape)    \n",
    "else: \n",
    "    raise \"size of children in embedding does not agree with size of the children in proportions\""
   ]
  },
  {
   "cell_type": "code",
   "execution_count": 64,
   "metadata": {},
   "outputs": [
    {
     "name": "stdout",
     "output_type": "stream",
     "text": [
      "(3, 1913, 3)\n"
     ]
    }
   ],
   "source": [
    "print(input.shape)"
   ]
  },
  {
   "cell_type": "code",
   "execution_count": 75,
   "metadata": {},
   "outputs": [
    {
     "name": "stdout",
     "output_type": "stream",
     "text": [
      "------- Time batched input --------\n",
      "(1879, 3, 35, 3)\n",
      "-------- X, y split ------------\n",
      "X input shape is (1879, 3, 28, 3)\n",
      "y input shape is (1879, 3, 7, 1)\n"
     ]
    }
   ],
   "source": [
    "## time batching \n",
    "# dimension about the dataset\n",
    "print('------- Time batched input --------')\n",
    "History = 28 \n",
    "Forward = 7\n",
    "\n",
    "number_observations = input.shape[1] - (History + Forward) + 1\n",
    "\n",
    "input_time_batched = np.empty(\n",
    "    (number_observations,input.shape[0], History + Forward, input.shape[-1])\n",
    ")\n",
    "\n",
    "for i in range(number_observations):\n",
    "\n",
    "    input_time_batched[i] = np.array(input[:, i:i + History + Forward, :])\n",
    "\n",
    "print(input_time_batched.shape)\n",
    "# print(input_time_batched[0][0])\n",
    "\n",
    "print(\"-------- X, y split ------------\")\n",
    "input_array = np.empty((\n",
    "    number_observations,\n",
    "    input.shape[0],\n",
    "    History,\n",
    "    input.shape[-1])\n",
    ")\n",
    "\n",
    "target_array = np.empty((\n",
    "    number_observations,\n",
    "    input.shape[0],\n",
    "    Forward,\n",
    "    1)\n",
    ")\n",
    "\n",
    "# print(input_tensor.shape)\n",
    "# print(target_tensor.shape)\n",
    "\n",
    "for i in range(input_time_batched.shape[0]):\n",
    "\n",
    "    input_array[i] = input_time_batched[i, :, :History, :]\n",
    "\n",
    "    #print(input_array[i,0,-1,0])\n",
    "\n",
    "    target_2d = input_time_batched[i, :, History:, 0]\n",
    "    \n",
    "    target_array[i] = target_2d.reshape(\n",
    "        target_2d.shape[0], target_2d.shape[1], 1\n",
    "    )\n",
    "\n",
    "    #print(target_array[i,0,0,0])\n",
    "    #print()\n",
    "\n",
    "print(f\"X input shape is {input_array.shape}\")\n",
    "print(f\"y input shape is {target_array.shape}\")\n"
   ]
  },
  {
   "cell_type": "markdown",
   "metadata": {},
   "source": [
    "- blue box X shape (1893, 2, 14, 3)\n",
    "- green box X shape (1893, 2, 14, 3)\n",
    "- y target is the proportal of ever single child \n"
   ]
  },
  {
   "cell_type": "code",
   "execution_count": 76,
   "metadata": {},
   "outputs": [
    {
     "data": {
      "text/plain": [
       "array([[7.16809978e-01, 3.17490000e+04, 0.00000000e+00],\n",
       "       [7.22112433e-01, 2.37830000e+04, 0.00000000e+00],\n",
       "       [7.42877381e-01, 2.54120000e+04, 0.00000000e+00],\n",
       "       [7.62718061e-01, 1.91460000e+04, 0.00000000e+00],\n",
       "       [7.56324672e-01, 2.92110000e+04, 0.00000000e+00],\n",
       "       [7.31524456e-01, 2.80100000e+04, 0.00000000e+00],\n",
       "       [7.31598650e-01, 3.79320000e+04, 0.00000000e+00],\n",
       "       [7.59469697e-01, 3.27360000e+04, 0.00000000e+00],\n",
       "       [7.39128735e-01, 2.55720000e+04, 0.00000000e+00],\n",
       "       [7.35252048e-01, 2.30710000e+04, 0.00000000e+00],\n",
       "       [7.46259194e-01, 2.36580000e+04, 0.00000000e+00],\n",
       "       [7.29920862e-01, 2.37560000e+04, 0.00000000e+00],\n",
       "       [7.19909246e-01, 2.64450000e+04, 0.00000000e+00],\n",
       "       [7.23078690e-01, 3.48330000e+04, 0.00000000e+00],\n",
       "       [7.32710280e-01, 3.63800000e+04, 0.00000000e+00],\n",
       "       [7.34498257e-01, 2.18040000e+04, 0.00000000e+00],\n",
       "       [7.23930204e-01, 2.40700000e+04, 0.00000000e+00],\n",
       "       [7.15897962e-01, 2.14430000e+04, 0.00000000e+00],\n",
       "       [7.03317256e-01, 2.03180000e+04, 0.00000000e+00],\n",
       "       [6.99548923e-01, 2.37210000e+04, 0.00000000e+00],\n",
       "       [6.60734009e-01, 3.16890000e+04, 0.00000000e+00],\n",
       "       [6.83946317e-01, 2.92830000e+04, 0.00000000e+00],\n",
       "       [6.83176166e-01, 2.39660000e+04, 0.00000000e+00],\n",
       "       [6.84990976e-01, 2.05010000e+04, 0.00000000e+00],\n",
       "       [6.71195259e-01, 2.07570000e+04, 0.00000000e+00],\n",
       "       [6.77269813e-01, 2.02770000e+04, 0.00000000e+00],\n",
       "       [6.87114386e-01, 2.25290000e+04, 0.00000000e+00],\n",
       "       [6.65540992e-01, 2.99080000e+04, 0.00000000e+00]])"
      ]
     },
     "execution_count": 76,
     "metadata": {},
     "output_type": "execute_result"
    }
   ],
   "source": [
    "input_array[1,0,:,:]"
   ]
  },
  {
   "cell_type": "code",
   "execution_count": 77,
   "metadata": {},
   "outputs": [
    {
     "data": {
      "text/plain": [
       "array([[0.66554099],\n",
       "       [0.71968509],\n",
       "       [0.70932203],\n",
       "       [0.72437915],\n",
       "       [0.73564365],\n",
       "       [0.73448349],\n",
       "       [0.74291532]])"
      ]
     },
     "execution_count": 77,
     "metadata": {},
     "output_type": "execute_result"
    }
   ],
   "source": [
    "target_array[0,0,:,:]"
   ]
  },
  {
   "cell_type": "code",
   "execution_count": 78,
   "metadata": {},
   "outputs": [
    {
     "data": {
      "text/plain": [
       "array([[0.71968509],\n",
       "       [0.70932203],\n",
       "       [0.72437915],\n",
       "       [0.73564365],\n",
       "       [0.73448349],\n",
       "       [0.74291532],\n",
       "       [0.73943978]])"
      ]
     },
     "execution_count": 78,
     "metadata": {},
     "output_type": "execute_result"
    }
   ],
   "source": [
    "target_array[1,0,:,:]"
   ]
  },
  {
   "cell_type": "code",
   "execution_count": 79,
   "metadata": {},
   "outputs": [
    {
     "data": {
      "text/plain": [
       "array([[7.10306151e-01, 3.26310000e+04, 0.00000000e+00],\n",
       "       [1.15350434e-01, 3.26310000e+04, 1.00000000e+00],\n",
       "       [1.74343416e-01, 3.26310000e+04, 2.00000000e+00]])"
      ]
     },
     "execution_count": 79,
     "metadata": {},
     "output_type": "execute_result"
    }
   ],
   "source": [
    "input_array[0,:,0,:]"
   ]
  },
  {
   "cell_type": "code",
   "execution_count": 80,
   "metadata": {},
   "outputs": [
    {
     "name": "stdout",
     "output_type": "stream",
     "text": [
      "(3, 1913, 3)\n",
      "0\n",
      "(1913, 3)\n",
      "1\n",
      "(1913, 3)\n",
      "2\n",
      "(1913, 3)\n",
      "-------- X, y split ------------\n",
      "X input shape is (1879, 3, 28, 3)\n",
      "y input shape is (1879, 3, 7, 1)\n"
     ]
    }
   ],
   "source": [
    "train_input_array, train_target_array = preprocessing.pre_processing_main(\n",
    "    sales_train_validation, \n",
    "    cat_to_dix,\n",
    "    History,\n",
    "    Forward,\n",
    ")"
   ]
  },
  {
   "cell_type": "markdown",
   "metadata": {},
   "source": [
    "## Vlidation set  "
   ]
  },
  {
   "cell_type": "code",
   "execution_count": 72,
   "metadata": {},
   "outputs": [
    {
     "name": "stdout",
     "output_type": "stream",
     "text": [
      "(3, 1941, 3)\n",
      "0\n",
      "(1941, 3)\n",
      "1\n",
      "(1941, 3)\n",
      "2\n",
      "(1941, 3)\n",
      "-------- X, y split ------------\n",
      "X input shape is (1907, 3, 28, 3)\n",
      "y input shape is (1907, 3, 7, 1)\n"
     ]
    }
   ],
   "source": [
    "val_input_array, val_target_array = preprocessing.pre_processing_main(\n",
    "    sales_train_evaluation, \n",
    "    cat_to_dix,\n",
    "    History,\n",
    "    Forward,\n",
    ")"
   ]
  },
  {
   "cell_type": "code",
   "execution_count": 86,
   "metadata": {},
   "outputs": [
    {
     "data": {
      "text/plain": [
       "array([[[7.10306151e-01, 3.26310000e+04, 0.00000000e+00],\n",
       "        [7.16809978e-01, 3.17490000e+04, 0.00000000e+00],\n",
       "        [7.22112433e-01, 2.37830000e+04, 0.00000000e+00],\n",
       "        [7.42877381e-01, 2.54120000e+04, 0.00000000e+00],\n",
       "        [7.62718061e-01, 1.91460000e+04, 0.00000000e+00],\n",
       "        [7.56324672e-01, 2.92110000e+04, 0.00000000e+00],\n",
       "        [7.31524456e-01, 2.80100000e+04, 0.00000000e+00],\n",
       "        [7.31598650e-01, 3.79320000e+04, 0.00000000e+00],\n",
       "        [7.59469697e-01, 3.27360000e+04, 0.00000000e+00],\n",
       "        [7.39128735e-01, 2.55720000e+04, 0.00000000e+00],\n",
       "        [7.35252048e-01, 2.30710000e+04, 0.00000000e+00],\n",
       "        [7.46259194e-01, 2.36580000e+04, 0.00000000e+00],\n",
       "        [7.29920862e-01, 2.37560000e+04, 0.00000000e+00],\n",
       "        [7.19909246e-01, 2.64450000e+04, 0.00000000e+00],\n",
       "        [7.23078690e-01, 3.48330000e+04, 0.00000000e+00],\n",
       "        [7.32710280e-01, 3.63800000e+04, 0.00000000e+00],\n",
       "        [7.34498257e-01, 2.18040000e+04, 0.00000000e+00],\n",
       "        [7.23930204e-01, 2.40700000e+04, 0.00000000e+00],\n",
       "        [7.15897962e-01, 2.14430000e+04, 0.00000000e+00],\n",
       "        [7.03317256e-01, 2.03180000e+04, 0.00000000e+00],\n",
       "        [6.99548923e-01, 2.37210000e+04, 0.00000000e+00],\n",
       "        [6.60734009e-01, 3.16890000e+04, 0.00000000e+00],\n",
       "        [6.83946317e-01, 2.92830000e+04, 0.00000000e+00],\n",
       "        [6.83176166e-01, 2.39660000e+04, 0.00000000e+00],\n",
       "        [6.84990976e-01, 2.05010000e+04, 0.00000000e+00],\n",
       "        [6.71195259e-01, 2.07570000e+04, 0.00000000e+00],\n",
       "        [6.77269813e-01, 2.02770000e+04, 0.00000000e+00],\n",
       "        [6.87114386e-01, 2.25290000e+04, 0.00000000e+00]],\n",
       "\n",
       "       [[1.15350434e-01, 3.26310000e+04, 1.00000000e+00],\n",
       "        [1.05735614e-01, 3.17490000e+04, 1.00000000e+00],\n",
       "        [1.12769625e-01, 2.37830000e+04, 1.00000000e+00],\n",
       "        [1.05029120e-01, 2.54120000e+04, 1.00000000e+00],\n",
       "        [9.47456388e-02, 1.91460000e+04, 1.00000000e+00],\n",
       "        [1.10232447e-01, 2.92110000e+04, 1.00000000e+00],\n",
       "        [1.05105320e-01, 2.80100000e+04, 1.00000000e+00],\n",
       "        [1.05082780e-01, 3.79320000e+04, 1.00000000e+00],\n",
       "        [8.85569404e-02, 3.27360000e+04, 1.00000000e+00],\n",
       "        [1.02260285e-01, 2.55720000e+04, 1.00000000e+00],\n",
       "        [1.10398336e-01, 2.30710000e+04, 1.00000000e+00],\n",
       "        [1.03854933e-01, 2.36580000e+04, 1.00000000e+00],\n",
       "        [1.13655498e-01, 2.37560000e+04, 1.00000000e+00],\n",
       "        [1.06712044e-01, 2.64450000e+04, 1.00000000e+00],\n",
       "        [1.06192404e-01, 3.48330000e+04, 1.00000000e+00],\n",
       "        [9.39252336e-02, 3.63800000e+04, 1.00000000e+00],\n",
       "        [1.02412401e-01, 2.18040000e+04, 1.00000000e+00],\n",
       "        [1.06107187e-01, 2.40700000e+04, 1.00000000e+00],\n",
       "        [1.01198526e-01, 2.14430000e+04, 1.00000000e+00],\n",
       "        [1.00846540e-01, 2.03180000e+04, 1.00000000e+00],\n",
       "        [9.62859913e-02, 2.37210000e+04, 1.00000000e+00],\n",
       "        [1.30707817e-01, 3.16890000e+04, 1.00000000e+00],\n",
       "        [1.01697230e-01, 2.92830000e+04, 1.00000000e+00],\n",
       "        [1.14120003e-01, 2.39660000e+04, 1.00000000e+00],\n",
       "        [1.19945369e-01, 2.05010000e+04, 1.00000000e+00],\n",
       "        [1.32870839e-01, 2.07570000e+04, 1.00000000e+00],\n",
       "        [1.26202101e-01, 2.02770000e+04, 1.00000000e+00],\n",
       "        [1.18735852e-01, 2.25290000e+04, 1.00000000e+00]],\n",
       "\n",
       "       [[1.74343416e-01, 3.26310000e+04, 2.00000000e+00],\n",
       "        [1.77454408e-01, 3.17490000e+04, 2.00000000e+00],\n",
       "        [1.65117941e-01, 2.37830000e+04, 2.00000000e+00],\n",
       "        [1.52093499e-01, 2.54120000e+04, 2.00000000e+00],\n",
       "        [1.42536300e-01, 1.91460000e+04, 2.00000000e+00],\n",
       "        [1.33442881e-01, 2.92110000e+04, 2.00000000e+00],\n",
       "        [1.63370225e-01, 2.80100000e+04, 2.00000000e+00],\n",
       "        [1.63318570e-01, 3.79320000e+04, 2.00000000e+00],\n",
       "        [1.51973363e-01, 3.27360000e+04, 2.00000000e+00],\n",
       "        [1.58610981e-01, 2.55720000e+04, 2.00000000e+00],\n",
       "        [1.54349616e-01, 2.30710000e+04, 2.00000000e+00],\n",
       "        [1.49885874e-01, 2.36580000e+04, 2.00000000e+00],\n",
       "        [1.56423640e-01, 2.37560000e+04, 2.00000000e+00],\n",
       "        [1.73378711e-01, 2.64450000e+04, 2.00000000e+00],\n",
       "        [1.70728906e-01, 3.48330000e+04, 2.00000000e+00],\n",
       "        [1.73364486e-01, 3.63800000e+04, 2.00000000e+00],\n",
       "        [1.63089341e-01, 2.18040000e+04, 2.00000000e+00],\n",
       "        [1.69962609e-01, 2.40700000e+04, 2.00000000e+00],\n",
       "        [1.82903512e-01, 2.14430000e+04, 2.00000000e+00],\n",
       "        [1.95836204e-01, 2.03180000e+04, 2.00000000e+00],\n",
       "        [2.04165086e-01, 2.37210000e+04, 2.00000000e+00],\n",
       "        [2.08558175e-01, 3.16890000e+04, 2.00000000e+00],\n",
       "        [2.14356453e-01, 2.92830000e+04, 2.00000000e+00],\n",
       "        [2.02703830e-01, 2.39660000e+04, 2.00000000e+00],\n",
       "        [1.95063655e-01, 2.05010000e+04, 2.00000000e+00],\n",
       "        [1.95933902e-01, 2.07570000e+04, 2.00000000e+00],\n",
       "        [1.96528086e-01, 2.02770000e+04, 2.00000000e+00],\n",
       "        [1.94149763e-01, 2.25290000e+04, 2.00000000e+00]]])"
      ]
     },
     "execution_count": 86,
     "metadata": {},
     "output_type": "execute_result"
    }
   ],
   "source": [
    "val_input_array[0]"
   ]
  },
  {
   "cell_type": "markdown",
   "metadata": {},
   "source": [
    "## Training "
   ]
  },
  {
   "cell_type": "markdown",
   "metadata": {},
   "source": [
    "### 1. Define the model object "
   ]
  },
  {
   "cell_type": "code",
   "execution_count": 35,
   "metadata": {},
   "outputs": [
    {
     "name": "stdout",
     "output_type": "stream",
     "text": [
      "torch.Size([1879, 3, 28, 3])\n",
      "torch.Size([1879, 3, 7, 1])\n"
     ]
    }
   ],
   "source": [
    "### convert np array into torch array \n",
    "input_tensor = torch.tensor(train_input_array).float()\n",
    "target_tensor = torch.tensor(train_target_array).float()\n",
    "\n",
    "print(input_tensor.shape)\n",
    "print(target_tensor.shape)\n",
    "\n",
    "###---------- dimension on the model hypter-parameters from the paper ------------ ######\n",
    "no_child = 3060 \n",
    "num_hts_embedd = no_child\n",
    "hts_embedd_dim = 8\n",
    "covariate_dim = 0\n",
    "\n",
    "lstm_input_dim = 2 + covariate_dim + hts_embedd_dim\n",
    "lstm_hidden_dim = 48\n",
    "lstm_num_layer = 1\n",
    "lstm_output_dim = 64\n",
    "\n",
    "mha_embedd_dim = lstm_output_dim\n",
    "num_head = 4\n",
    "num_attention_layer = 1\n",
    "mha_output_dim = mha_embedd_dim\n",
    "residual_output_dim = mha_output_dim\n",
    "model_ouput_dim = 1\n",
    "\n",
    "# define the model object\n",
    "p_model = proption_model.proportion_model(\n",
    "    num_hts_embedd,\n",
    "    hts_embedd_dim,  # ts embedding hyper pars\n",
    "    lstm_input_dim,\n",
    "    lstm_hidden_dim,\n",
    "    lstm_num_layer,\n",
    "    lstm_output_dim,  # lstm hyper pars\n",
    "    mha_embedd_dim,\n",
    "    num_head,\n",
    "    num_attention_layer,  # mha hyper pars\n",
    "    mha_output_dim,\n",
    "    residual_output_dim,  # skip connection hyper pars\n",
    "    model_ouput_dim,  # output later hyper pars\n",
    ")\n",
    "\n",
    "###---------- trainign parameters from the paper ------------ ######\n",
    "n_epochs = 50\n",
    "target_len = Forward\n",
    "batch_size = 4\n",
    "l_r = 0.00079"
   ]
  },
  {
   "cell_type": "code",
   "execution_count": 36,
   "metadata": {},
   "outputs": [],
   "source": [
    "## Training without gradient clipping \n",
    "# proption_model.train_model_test(\n",
    "#     p_model, \n",
    "#     input_tensor, \n",
    "#     target_tensor, \n",
    "#     n_epochs, \n",
    "#     target_len, \n",
    "#     batch_size, \n",
    "#     l_r,\n",
    "#     )\n"
   ]
  },
  {
   "cell_type": "markdown",
   "metadata": {},
   "source": [
    "### Adam Opts"
   ]
  },
  {
   "cell_type": "code",
   "execution_count": 39,
   "metadata": {},
   "outputs": [
    {
     "name": "stdout",
     "output_type": "stream",
     "text": [
      "Trainign starting from iteration 0, batch 0\n",
      "There are 470 batches per iteration\n"
     ]
    },
    {
     "name": "stderr",
     "output_type": "stream",
     "text": [
      "  0%|          | 0/50 [00:00<?, ?it/s]"
     ]
    },
    {
     "name": "stdout",
     "output_type": "stream",
     "text": [
      "Trainign for Iteration: 0 starts\n",
      "Training for Iteration: 0 Batch 0 starts\n",
      "Training for Iteration: 0 Batch 1 starts\n",
      "Training for Iteration: 0 Batch 2 starts\n",
      "Training for Iteration: 0 Batch 3 starts\n",
      "Training for Iteration: 0 Batch 4 starts\n",
      "Training for Iteration: 0 Batch 5 starts\n",
      "Training for Iteration: 0 Batch 6 starts\n",
      "Training for Iteration: 0 Batch 7 starts\n",
      "Training for Iteration: 0 Batch 8 starts\n",
      "Training for Iteration: 0 Batch 9 starts\n",
      "Training for Iteration: 0 Batch 10 starts\n",
      "Training for Iteration: 0 Batch 11 starts\n",
      "Training for Iteration: 0 Batch 12 starts\n",
      "Training for Iteration: 0 Batch 13 starts\n",
      "Training for Iteration: 0 Batch 14 starts\n",
      "Training for Iteration: 0 Batch 15 starts\n",
      "Training for Iteration: 0 Batch 16 starts\n",
      "Training for Iteration: 0 Batch 17 starts\n",
      "Training for Iteration: 0 Batch 18 starts\n",
      "Training for Iteration: 0 Batch 19 starts\n",
      "Training for Iteration: 0 Batch 20 starts\n"
     ]
    },
    {
     "data": {
      "image/png": "[encoded data removed]",
      "text/plain": [
       "<Figure size 432x288 with 1 Axes>"
      ]
     },
     "metadata": {
      "needs_background": "light"
     },
     "output_type": "display_data"
    },
    {
     "name": "stdout",
     "output_type": "stream",
     "text": [
      "Training for Iteration: 0 Batch 21 starts\n",
      "Training for Iteration: 0 Batch 22 starts\n",
      "Training for Iteration: 0 Batch 23 starts\n",
      "Training for Iteration: 0 Batch 24 starts\n",
      "Training for Iteration: 0 Batch 25 starts\n",
      "Training for Iteration: 0 Batch 26 starts\n",
      "Training for Iteration: 0 Batch 27 starts\n",
      "Training for Iteration: 0 Batch 28 starts\n",
      "Training for Iteration: 0 Batch 29 starts\n",
      "Training for Iteration: 0 Batch 30 starts\n",
      "Training for Iteration: 0 Batch 31 starts\n",
      "Training for Iteration: 0 Batch 32 starts\n",
      "Training for Iteration: 0 Batch 33 starts\n",
      "Training for Iteration: 0 Batch 34 starts\n",
      "Training for Iteration: 0 Batch 35 starts\n",
      "Training for Iteration: 0 Batch 36 starts\n",
      "Training for Iteration: 0 Batch 37 starts\n",
      "Training for Iteration: 0 Batch 38 starts\n",
      "Training for Iteration: 0 Batch 39 starts\n",
      "Training for Iteration: 0 Batch 40 starts\n"
     ]
    },
    {
     "data": {
      "image/png": "[encoded data removed]",
      "text/plain": [
       "<Figure size 432x288 with 1 Axes>"
      ]
     },
     "metadata": {
      "needs_background": "light"
     },
     "output_type": "display_data"
    },
    {
     "name": "stdout",
     "output_type": "stream",
     "text": [
      "Training for Iteration: 0 Batch 41 starts\n",
      "Training for Iteration: 0 Batch 42 starts\n",
      "Training for Iteration: 0 Batch 43 starts\n",
      "Training for Iteration: 0 Batch 44 starts\n",
      "Training for Iteration: 0 Batch 45 starts\n",
      "Training for Iteration: 0 Batch 46 starts\n",
      "Training for Iteration: 0 Batch 47 starts\n",
      "Training for Iteration: 0 Batch 48 starts\n",
      "Training for Iteration: 0 Batch 49 starts\n",
      "Training for Iteration: 0 Batch 50 starts\n",
      "Training for Iteration: 0 Batch 51 starts\n",
      "Training for Iteration: 0 Batch 52 starts\n",
      "Training for Iteration: 0 Batch 53 starts\n",
      "Training for Iteration: 0 Batch 54 starts\n",
      "Training for Iteration: 0 Batch 55 starts\n",
      "Training for Iteration: 0 Batch 56 starts\n",
      "Training for Iteration: 0 Batch 57 starts\n",
      "Training for Iteration: 0 Batch 58 starts\n",
      "Training for Iteration: 0 Batch 59 starts\n",
      "Training for Iteration: 0 Batch 60 starts\n"
     ]
    },
    {
     "data": {
      "image/png": "[encoded data removed]",
      "text/plain": [
       "<Figure size 432x288 with 1 Axes>"
      ]
     },
     "metadata": {
      "needs_background": "light"
     },
     "output_type": "display_data"
    },
    {
     "name": "stdout",
     "output_type": "stream",
     "text": [
      "Training for Iteration: 0 Batch 61 starts\n",
      "Training for Iteration: 0 Batch 62 starts\n",
      "Training for Iteration: 0 Batch 63 starts\n",
      "Training for Iteration: 0 Batch 64 starts\n",
      "Training for Iteration: 0 Batch 65 starts\n",
      "Training for Iteration: 0 Batch 66 starts\n",
      "Training for Iteration: 0 Batch 67 starts\n",
      "Training for Iteration: 0 Batch 68 starts\n",
      "Training for Iteration: 0 Batch 69 starts\n",
      "Training for Iteration: 0 Batch 70 starts\n",
      "Training for Iteration: 0 Batch 71 starts\n",
      "Training for Iteration: 0 Batch 72 starts\n",
      "Training for Iteration: 0 Batch 73 starts\n",
      "Training for Iteration: 0 Batch 74 starts\n",
      "Training for Iteration: 0 Batch 75 starts\n",
      "Training for Iteration: 0 Batch 76 starts\n",
      "Training for Iteration: 0 Batch 77 starts\n",
      "Training for Iteration: 0 Batch 78 starts\n",
      "Training for Iteration: 0 Batch 79 starts\n",
      "Training for Iteration: 0 Batch 80 starts\n"
     ]
    },
    {
     "data": {
      "image/png": "[encoded data removed]",
      "text/plain": [
       "<Figure size 432x288 with 1 Axes>"
      ]
     },
     "metadata": {
      "needs_background": "light"
     },
     "output_type": "display_data"
    },
    {
     "name": "stdout",
     "output_type": "stream",
     "text": [
      "Training for Iteration: 0 Batch 81 starts\n",
      "Training for Iteration: 0 Batch 82 starts\n",
      "Training for Iteration: 0 Batch 83 starts\n",
      "Training for Iteration: 0 Batch 84 starts\n",
      "Training for Iteration: 0 Batch 85 starts\n",
      "Training for Iteration: 0 Batch 86 starts\n",
      "Training for Iteration: 0 Batch 87 starts\n",
      "Training for Iteration: 0 Batch 88 starts\n",
      "Training for Iteration: 0 Batch 89 starts\n",
      "Training for Iteration: 0 Batch 90 starts\n",
      "Training for Iteration: 0 Batch 91 starts\n",
      "Training for Iteration: 0 Batch 92 starts\n",
      "Training for Iteration: 0 Batch 93 starts\n",
      "Training for Iteration: 0 Batch 94 starts\n",
      "Training for Iteration: 0 Batch 95 starts\n",
      "Training for Iteration: 0 Batch 96 starts\n",
      "Training for Iteration: 0 Batch 97 starts\n",
      "Training for Iteration: 0 Batch 98 starts\n",
      "Training for Iteration: 0 Batch 99 starts\n",
      "Training for Iteration: 0 Batch 100 starts\n"
     ]
    },
    {
     "data": {
      "image/png": "[encoded data removed]",
      "text/plain": [
       "<Figure size 432x288 with 1 Axes>"
      ]
     },
     "metadata": {
      "needs_background": "light"
     },
     "output_type": "display_data"
    },
    {
     "name": "stdout",
     "output_type": "stream",
     "text": [
      "Training for Iteration: 0 Batch 101 starts\n",
      "Training for Iteration: 0 Batch 102 starts\n",
      "Training for Iteration: 0 Batch 103 starts\n",
      "Training for Iteration: 0 Batch 104 starts\n",
      "Training for Iteration: 0 Batch 105 starts\n",
      "Training for Iteration: 0 Batch 106 starts\n",
      "Training for Iteration: 0 Batch 107 starts\n",
      "Training for Iteration: 0 Batch 108 starts\n",
      "Training for Iteration: 0 Batch 109 starts\n",
      "Training for Iteration: 0 Batch 110 starts\n",
      "Training for Iteration: 0 Batch 111 starts\n",
      "Training for Iteration: 0 Batch 112 starts\n",
      "Training for Iteration: 0 Batch 113 starts\n",
      "Training for Iteration: 0 Batch 114 starts\n",
      "Training for Iteration: 0 Batch 115 starts\n",
      "Training for Iteration: 0 Batch 116 starts\n",
      "Training for Iteration: 0 Batch 117 starts\n",
      "Training for Iteration: 0 Batch 118 starts\n",
      "Training for Iteration: 0 Batch 119 starts\n",
      "Training for Iteration: 0 Batch 120 starts\n"
     ]
    },
    {
     "data": {
      "image/png": "[encoded data removed]",
      "text/plain": [
       "<Figure size 432x288 with 1 Axes>"
      ]
     },
     "metadata": {
      "needs_background": "light"
     },
     "output_type": "display_data"
    },
    {
     "name": "stdout",
     "output_type": "stream",
     "text": [
      "Training for Iteration: 0 Batch 121 starts\n",
      "Training for Iteration: 0 Batch 122 starts\n",
      "Training for Iteration: 0 Batch 123 starts\n",
      "Training for Iteration: 0 Batch 124 starts\n",
      "Training for Iteration: 0 Batch 125 starts\n",
      "Training for Iteration: 0 Batch 126 starts\n",
      "Training for Iteration: 0 Batch 127 starts\n",
      "Training for Iteration: 0 Batch 128 starts\n",
      "Training for Iteration: 0 Batch 129 starts\n",
      "Training for Iteration: 0 Batch 130 starts\n",
      "Training for Iteration: 0 Batch 131 starts\n",
      "Training for Iteration: 0 Batch 132 starts\n",
      "Training for Iteration: 0 Batch 133 starts\n",
      "Training for Iteration: 0 Batch 134 starts\n",
      "Training for Iteration: 0 Batch 135 starts\n",
      "Training for Iteration: 0 Batch 136 starts\n",
      "Training for Iteration: 0 Batch 137 starts\n",
      "Training for Iteration: 0 Batch 138 starts\n",
      "Training for Iteration: 0 Batch 139 starts\n",
      "Training for Iteration: 0 Batch 140 starts\n"
     ]
    },
    {
     "data": {
      "image/png": "[encoded data removed]",
      "text/plain": [
       "<Figure size 432x288 with 1 Axes>"
      ]
     },
     "metadata": {
      "needs_background": "light"
     },
     "output_type": "display_data"
    },
    {
     "name": "stdout",
     "output_type": "stream",
     "text": [
      "Training for Iteration: 0 Batch 141 starts\n",
      "Training for Iteration: 0 Batch 142 starts\n",
      "Training for Iteration: 0 Batch 143 starts\n",
      "Training for Iteration: 0 Batch 144 starts\n",
      "Training for Iteration: 0 Batch 145 starts\n",
      "Training for Iteration: 0 Batch 146 starts\n",
      "Training for Iteration: 0 Batch 147 starts\n",
      "Training for Iteration: 0 Batch 148 starts\n",
      "Training for Iteration: 0 Batch 149 starts\n",
      "Training for Iteration: 0 Batch 150 starts\n",
      "Training for Iteration: 0 Batch 151 starts\n",
      "Training for Iteration: 0 Batch 152 starts\n",
      "Training for Iteration: 0 Batch 153 starts\n",
      "Training for Iteration: 0 Batch 154 starts\n",
      "Training for Iteration: 0 Batch 155 starts\n",
      "Training for Iteration: 0 Batch 156 starts\n",
      "Training for Iteration: 0 Batch 157 starts\n",
      "Training for Iteration: 0 Batch 158 starts\n",
      "Training for Iteration: 0 Batch 159 starts\n",
      "Training for Iteration: 0 Batch 160 starts\n"
     ]
    },
    {
     "data": {
      "image/png": "[encoded data removed]",
      "text/plain": [
       "<Figure size 432x288 with 1 Axes>"
      ]
     },
     "metadata": {
      "needs_background": "light"
     },
     "output_type": "display_data"
    },
    {
     "name": "stdout",
     "output_type": "stream",
     "text": [
      "Training for Iteration: 0 Batch 161 starts\n",
      "Training for Iteration: 0 Batch 162 starts\n",
      "Training for Iteration: 0 Batch 163 starts\n",
      "Training for Iteration: 0 Batch 164 starts\n",
      "Training for Iteration: 0 Batch 165 starts\n",
      "Training for Iteration: 0 Batch 166 starts\n",
      "Training for Iteration: 0 Batch 167 starts\n",
      "Training for Iteration: 0 Batch 168 starts\n",
      "Training for Iteration: 0 Batch 169 starts\n",
      "Training for Iteration: 0 Batch 170 starts\n",
      "Training for Iteration: 0 Batch 171 starts\n",
      "Training for Iteration: 0 Batch 172 starts\n",
      "Training for Iteration: 0 Batch 173 starts\n",
      "Training for Iteration: 0 Batch 174 starts\n",
      "Training for Iteration: 0 Batch 175 starts\n",
      "Training for Iteration: 0 Batch 176 starts\n",
      "Training for Iteration: 0 Batch 177 starts\n",
      "Training for Iteration: 0 Batch 178 starts\n",
      "Training for Iteration: 0 Batch 179 starts\n",
      "Training for Iteration: 0 Batch 180 starts\n"
     ]
    },
    {
     "data": {
      "image/png": "[encoded data removed]",
      "text/plain": [
       "<Figure size 432x288 with 1 Axes>"
      ]
     },
     "metadata": {
      "needs_background": "light"
     },
     "output_type": "display_data"
    },
    {
     "name": "stdout",
     "output_type": "stream",
     "text": [
      "Training for Iteration: 0 Batch 181 starts\n",
      "Training for Iteration: 0 Batch 182 starts\n",
      "Training for Iteration: 0 Batch 183 starts\n",
      "Training for Iteration: 0 Batch 184 starts\n",
      "Training for Iteration: 0 Batch 185 starts\n",
      "Training for Iteration: 0 Batch 186 starts\n",
      "Training for Iteration: 0 Batch 187 starts\n",
      "Training for Iteration: 0 Batch 188 starts\n",
      "Training for Iteration: 0 Batch 189 starts\n",
      "Training for Iteration: 0 Batch 190 starts\n",
      "Training for Iteration: 0 Batch 191 starts\n",
      "Training for Iteration: 0 Batch 192 starts\n",
      "Training for Iteration: 0 Batch 193 starts\n",
      "Training for Iteration: 0 Batch 194 starts\n",
      "Training for Iteration: 0 Batch 195 starts\n",
      "Training for Iteration: 0 Batch 196 starts\n",
      "Training for Iteration: 0 Batch 197 starts\n",
      "Training for Iteration: 0 Batch 198 starts\n",
      "Training for Iteration: 0 Batch 199 starts\n",
      "Training for Iteration: 0 Batch 200 starts\n"
     ]
    },
    {
     "data": {
      "image/png": "[encoded data removed]",
      "text/plain": [
       "<Figure size 432x288 with 1 Axes>"
      ]
     },
     "metadata": {
      "needs_background": "light"
     },
     "output_type": "display_data"
    },
    {
     "name": "stdout",
     "output_type": "stream",
     "text": [
      "Training for Iteration: 0 Batch 201 starts\n",
      "Training for Iteration: 0 Batch 202 starts\n",
      "Training for Iteration: 0 Batch 203 starts\n",
      "Training for Iteration: 0 Batch 204 starts\n",
      "Training for Iteration: 0 Batch 205 starts\n",
      "Training for Iteration: 0 Batch 206 starts\n",
      "Training for Iteration: 0 Batch 207 starts\n",
      "Training for Iteration: 0 Batch 208 starts\n",
      "Training for Iteration: 0 Batch 209 starts\n",
      "Training for Iteration: 0 Batch 210 starts\n",
      "Training for Iteration: 0 Batch 211 starts\n",
      "Training for Iteration: 0 Batch 212 starts\n",
      "Training for Iteration: 0 Batch 213 starts\n",
      "Training for Iteration: 0 Batch 214 starts\n",
      "Training for Iteration: 0 Batch 215 starts\n"
     ]
    },
    {
     "name": "stderr",
     "output_type": "stream",
     "text": [
      "  0%|          | 0/50 [01:40<?, ?it/s]\n"
     ]
    },
    {
     "ename": "KeyboardInterrupt",
     "evalue": "",
     "output_type": "error",
     "traceback": [
      "\u001b[0;31m---------------------------------------------------------------------------\u001b[0m",
      "\u001b[0;31mFileNotFoundError\u001b[0m                         Traceback (most recent call last)",
      "File \u001b[0;32m/Library/Developer/CommandLineTools/Library/Frameworks/Python3.framework/Versions/3.8/lib/python3.8/linecache.py:85\u001b[0m, in \u001b[0;36mcheckcache\u001b[0;34m(filename)\u001b[0m\n\u001b[1;32m     84\u001b[0m \u001b[39mtry\u001b[39;00m:\n\u001b[0;32m---> 85\u001b[0m     stat \u001b[39m=\u001b[39m os\u001b[39m.\u001b[39;49mstat(fullname)\n\u001b[1;32m     86\u001b[0m \u001b[39mexcept\u001b[39;00m \u001b[39mOSError\u001b[39;00m:\n",
      "\u001b[0;31mFileNotFoundError\u001b[0m: [Errno 2] No such file or directory: '/var/folders/6t/cwpxfjt13rd3m9sgky7446mm0000gn/T/ipykernel_10497/774869965.py'",
      "\nDuring handling of the above exception, another exception occurred:\n",
      "\u001b[0;31mKeyboardInterrupt\u001b[0m                         Traceback (most recent call last)",
      "\u001b[1;32m/Users/ericliu/Desktop/ML-Side Project/TS Forecasting/ML-Side-Project-HTS-Forecasting/notebook/feature_generation_training.ipynb Cell 44\u001b[0m in \u001b[0;36m<cell line: 2>\u001b[0;34m()\u001b[0m\n\u001b[1;32m      <a href='vscode-notebook-cell:/Users/ericliu/Desktop/ML-Side%20Project/TS%20Forecasting/ML-Side-Project-HTS-Forecasting/notebook/feature_generation_training.ipynb#X61sZmlsZQ%3D%3D?line=0'>1</a>\u001b[0m \u001b[39m## Training without gradient clipping \u001b[39;00m\n\u001b[0;32m----> <a href='vscode-notebook-cell:/Users/ericliu/Desktop/ML-Side%20Project/TS%20Forecasting/ML-Side-Project-HTS-Forecasting/notebook/feature_generation_training.ipynb#X61sZmlsZQ%3D%3D?line=1'>2</a>\u001b[0m model, iter_losses \u001b[39m=\u001b[39m proption_model\u001b[39m.\u001b[39;49mtrain_model(\n\u001b[1;32m      <a href='vscode-notebook-cell:/Users/ericliu/Desktop/ML-Side%20Project/TS%20Forecasting/ML-Side-Project-HTS-Forecasting/notebook/feature_generation_training.ipynb#X61sZmlsZQ%3D%3D?line=2'>3</a>\u001b[0m     p_model, \n\u001b[1;32m      <a href='vscode-notebook-cell:/Users/ericliu/Desktop/ML-Side%20Project/TS%20Forecasting/ML-Side-Project-HTS-Forecasting/notebook/feature_generation_training.ipynb#X61sZmlsZQ%3D%3D?line=3'>4</a>\u001b[0m     input_tensor, \n\u001b[1;32m      <a href='vscode-notebook-cell:/Users/ericliu/Desktop/ML-Side%20Project/TS%20Forecasting/ML-Side-Project-HTS-Forecasting/notebook/feature_generation_training.ipynb#X61sZmlsZQ%3D%3D?line=4'>5</a>\u001b[0m     target_tensor, \n\u001b[1;32m      <a href='vscode-notebook-cell:/Users/ericliu/Desktop/ML-Side%20Project/TS%20Forecasting/ML-Side-Project-HTS-Forecasting/notebook/feature_generation_training.ipynb#X61sZmlsZQ%3D%3D?line=5'>6</a>\u001b[0m     n_epochs, \n\u001b[1;32m      <a href='vscode-notebook-cell:/Users/ericliu/Desktop/ML-Side%20Project/TS%20Forecasting/ML-Side-Project-HTS-Forecasting/notebook/feature_generation_training.ipynb#X61sZmlsZQ%3D%3D?line=6'>7</a>\u001b[0m     target_len, \n\u001b[1;32m      <a href='vscode-notebook-cell:/Users/ericliu/Desktop/ML-Side%20Project/TS%20Forecasting/ML-Side-Project-HTS-Forecasting/notebook/feature_generation_training.ipynb#X61sZmlsZQ%3D%3D?line=7'>8</a>\u001b[0m     batch_size, \n\u001b[1;32m      <a href='vscode-notebook-cell:/Users/ericliu/Desktop/ML-Side%20Project/TS%20Forecasting/ML-Side-Project-HTS-Forecasting/notebook/feature_generation_training.ipynb#X61sZmlsZQ%3D%3D?line=8'>9</a>\u001b[0m     l_r,\n\u001b[1;32m     <a href='vscode-notebook-cell:/Users/ericliu/Desktop/ML-Side%20Project/TS%20Forecasting/ML-Side-Project-HTS-Forecasting/notebook/feature_generation_training.ipynb#X61sZmlsZQ%3D%3D?line=9'>10</a>\u001b[0m     clip \u001b[39m=\u001b[39;49m \u001b[39mTrue\u001b[39;49;00m,\n\u001b[1;32m     <a href='vscode-notebook-cell:/Users/ericliu/Desktop/ML-Side%20Project/TS%20Forecasting/ML-Side-Project-HTS-Forecasting/notebook/feature_generation_training.ipynb#X61sZmlsZQ%3D%3D?line=10'>11</a>\u001b[0m     tracing \u001b[39m=\u001b[39;49m \u001b[39mTrue\u001b[39;49;00m, \n\u001b[1;32m     <a href='vscode-notebook-cell:/Users/ericliu/Desktop/ML-Side%20Project/TS%20Forecasting/ML-Side-Project-HTS-Forecasting/notebook/feature_generation_training.ipynb#X61sZmlsZQ%3D%3D?line=11'>12</a>\u001b[0m     )\n",
      "File \u001b[0;32m~/Desktop/ML-Side Project/TS Forecasting/ML-Side-Project-HTS-Forecasting/src/proption_model.py:505\u001b[0m, in \u001b[0;36mtrain_model\u001b[0;34m(model, input_tensor, target_tensor, n_epochs, target_len, batch_size, learning_rate, PATH, clip, tracing)\u001b[0m\n\u001b[1;32m    502\u001b[0m target \u001b[39m=\u001b[39m target_batch[batch_index, :, :, :] \n\u001b[1;32m    503\u001b[0m \u001b[39m#print(input.shape)\u001b[39;00m\n\u001b[0;32m--> 505\u001b[0m output, decoder_ouputs, value \u001b[39m=\u001b[39m model\u001b[39m.\u001b[39;49mforward(target_len, \u001b[39minput\u001b[39;49m)\n\u001b[1;32m    506\u001b[0m decoder_batch_ouputs[batch_index] \u001b[39m=\u001b[39m decoder_ouputs \n\u001b[1;32m    507\u001b[0m attention_batch_outputs[batch_index] \u001b[39m=\u001b[39m value\n",
      "File \u001b[0;32m~/Desktop/ML-Side Project/TS Forecasting/ML-Side-Project-HTS-Forecasting/src/proption_model.py:400\u001b[0m, in \u001b[0;36mproportion_model.forward\u001b[0;34m(self, target_len, input)\u001b[0m\n\u001b[1;32m    398\u001b[0m attention_inputs \u001b[39m=\u001b[39m decoder_ouputs\n\u001b[1;32m    399\u001b[0m \u001b[39mfor\u001b[39;00m i \u001b[39min\u001b[39;00m \u001b[39mrange\u001b[39m(\u001b[39mself\u001b[39m\u001b[39m.\u001b[39mnum_attention_layer):\n\u001b[0;32m--> 400\u001b[0m     value, attention_weights \u001b[39m=\u001b[39m \u001b[39mself\u001b[39;49m\u001b[39m.\u001b[39;49mmha_with_residual\u001b[39m.\u001b[39;49mforward(attention_inputs)\n\u001b[1;32m    401\u001b[0m     attention_inputs \u001b[39m=\u001b[39m value \n\u001b[1;32m    403\u001b[0m     \u001b[39m##### -------- adding the batch norm to make sure the gradient is under control ------ #### \u001b[39;00m\n\u001b[1;32m    404\u001b[0m \n\u001b[1;32m    405\u001b[0m \u001b[39m# forward prop - linear output \u001b[39;00m\n",
      "File \u001b[0;32m~/Desktop/ML-Side Project/TS Forecasting/ML-Side-Project-HTS-Forecasting/src/proption_model.py:250\u001b[0m, in \u001b[0;36mmha_with_residual.forward\u001b[0;34m(self, x)\u001b[0m\n\u001b[1;32m    248\u001b[0m \u001b[39mdef\u001b[39;00m \u001b[39mforward\u001b[39m(\u001b[39mself\u001b[39m, x):\n\u001b[0;32m--> 250\u001b[0m     values, atten_wieghts \u001b[39m=\u001b[39m \u001b[39mself\u001b[39;49m\u001b[39m.\u001b[39;49mmha(x, x, x)\n\u001b[1;32m    251\u001b[0m     values \u001b[39m=\u001b[39m \u001b[39mself\u001b[39m\u001b[39m.\u001b[39mlinear(values)\n\u001b[1;32m    252\u001b[0m     values \u001b[39m=\u001b[39m values \u001b[39m+\u001b[39m x\n",
      "File \u001b[0;32m~/Library/Python/3.8/lib/python/site-packages/torch/nn/modules/module.py:1110\u001b[0m, in \u001b[0;36mModule._call_impl\u001b[0;34m(self, *input, **kwargs)\u001b[0m\n\u001b[1;32m   1106\u001b[0m \u001b[39m# If we don't have any hooks, we want to skip the rest of the logic in\u001b[39;00m\n\u001b[1;32m   1107\u001b[0m \u001b[39m# this function, and just call forward.\u001b[39;00m\n\u001b[1;32m   1108\u001b[0m \u001b[39mif\u001b[39;00m \u001b[39mnot\u001b[39;00m (\u001b[39mself\u001b[39m\u001b[39m.\u001b[39m_backward_hooks \u001b[39mor\u001b[39;00m \u001b[39mself\u001b[39m\u001b[39m.\u001b[39m_forward_hooks \u001b[39mor\u001b[39;00m \u001b[39mself\u001b[39m\u001b[39m.\u001b[39m_forward_pre_hooks \u001b[39mor\u001b[39;00m _global_backward_hooks\n\u001b[1;32m   1109\u001b[0m         \u001b[39mor\u001b[39;00m _global_forward_hooks \u001b[39mor\u001b[39;00m _global_forward_pre_hooks):\n\u001b[0;32m-> 1110\u001b[0m     \u001b[39mreturn\u001b[39;00m forward_call(\u001b[39m*\u001b[39;49m\u001b[39minput\u001b[39;49m, \u001b[39m*\u001b[39;49m\u001b[39m*\u001b[39;49mkwargs)\n\u001b[1;32m   1111\u001b[0m \u001b[39m# Do not call functions when jit is used\u001b[39;00m\n\u001b[1;32m   1112\u001b[0m full_backward_hooks, non_full_backward_hooks \u001b[39m=\u001b[39m [], []\n",
      "File \u001b[0;32m~/Library/Python/3.8/lib/python/site-packages/torch/nn/modules/activation.py:1038\u001b[0m, in \u001b[0;36mMultiheadAttention.forward\u001b[0;34m(self, query, key, value, key_padding_mask, need_weights, attn_mask, average_attn_weights)\u001b[0m\n\u001b[1;32m   1027\u001b[0m     attn_output, attn_output_weights \u001b[39m=\u001b[39m F\u001b[39m.\u001b[39mmulti_head_attention_forward(\n\u001b[1;32m   1028\u001b[0m         query, key, value, \u001b[39mself\u001b[39m\u001b[39m.\u001b[39membed_dim, \u001b[39mself\u001b[39m\u001b[39m.\u001b[39mnum_heads,\n\u001b[1;32m   1029\u001b[0m         \u001b[39mself\u001b[39m\u001b[39m.\u001b[39min_proj_weight, \u001b[39mself\u001b[39m\u001b[39m.\u001b[39min_proj_bias,\n\u001b[0;32m   (...)\u001b[0m\n\u001b[1;32m   1035\u001b[0m         q_proj_weight\u001b[39m=\u001b[39m\u001b[39mself\u001b[39m\u001b[39m.\u001b[39mq_proj_weight, k_proj_weight\u001b[39m=\u001b[39m\u001b[39mself\u001b[39m\u001b[39m.\u001b[39mk_proj_weight,\n\u001b[1;32m   1036\u001b[0m         v_proj_weight\u001b[39m=\u001b[39m\u001b[39mself\u001b[39m\u001b[39m.\u001b[39mv_proj_weight, average_attn_weights\u001b[39m=\u001b[39maverage_attn_weights)\n\u001b[1;32m   1037\u001b[0m \u001b[39melse\u001b[39;00m:\n\u001b[0;32m-> 1038\u001b[0m     attn_output, attn_output_weights \u001b[39m=\u001b[39m F\u001b[39m.\u001b[39;49mmulti_head_attention_forward(\n\u001b[1;32m   1039\u001b[0m         query, key, value, \u001b[39mself\u001b[39;49m\u001b[39m.\u001b[39;49membed_dim, \u001b[39mself\u001b[39;49m\u001b[39m.\u001b[39;49mnum_heads,\n\u001b[1;32m   1040\u001b[0m         \u001b[39mself\u001b[39;49m\u001b[39m.\u001b[39;49min_proj_weight, \u001b[39mself\u001b[39;49m\u001b[39m.\u001b[39;49min_proj_bias,\n\u001b[1;32m   1041\u001b[0m         \u001b[39mself\u001b[39;49m\u001b[39m.\u001b[39;49mbias_k, \u001b[39mself\u001b[39;49m\u001b[39m.\u001b[39;49mbias_v, \u001b[39mself\u001b[39;49m\u001b[39m.\u001b[39;49madd_zero_attn,\n\u001b[1;32m   1042\u001b[0m         \u001b[39mself\u001b[39;49m\u001b[39m.\u001b[39;49mdropout, \u001b[39mself\u001b[39;49m\u001b[39m.\u001b[39;49mout_proj\u001b[39m.\u001b[39;49mweight, \u001b[39mself\u001b[39;49m\u001b[39m.\u001b[39;49mout_proj\u001b[39m.\u001b[39;49mbias,\n\u001b[1;32m   1043\u001b[0m         training\u001b[39m=\u001b[39;49m\u001b[39mself\u001b[39;49m\u001b[39m.\u001b[39;49mtraining,\n\u001b[1;32m   1044\u001b[0m         key_padding_mask\u001b[39m=\u001b[39;49mkey_padding_mask, need_weights\u001b[39m=\u001b[39;49mneed_weights,\n\u001b[1;32m   1045\u001b[0m         attn_mask\u001b[39m=\u001b[39;49mattn_mask, average_attn_weights\u001b[39m=\u001b[39;49maverage_attn_weights)\n\u001b[1;32m   1046\u001b[0m \u001b[39mif\u001b[39;00m \u001b[39mself\u001b[39m\u001b[39m.\u001b[39mbatch_first \u001b[39mand\u001b[39;00m is_batched:\n\u001b[1;32m   1047\u001b[0m     \u001b[39mreturn\u001b[39;00m attn_output\u001b[39m.\u001b[39mtranspose(\u001b[39m1\u001b[39m, \u001b[39m0\u001b[39m), attn_output_weights\n",
      "File \u001b[0;32m~/Library/Python/3.8/lib/python/site-packages/torch/nn/functional.py:5366\u001b[0m, in \u001b[0;36mmulti_head_attention_forward\u001b[0;34m(query, key, value, embed_dim_to_check, num_heads, in_proj_weight, in_proj_bias, bias_k, bias_v, add_zero_attn, dropout_p, out_proj_weight, out_proj_bias, training, key_padding_mask, need_weights, attn_mask, use_separate_proj_weight, q_proj_weight, k_proj_weight, v_proj_weight, static_k, static_v, average_attn_weights)\u001b[0m\n\u001b[1;32m   5364\u001b[0m attn_output_weights \u001b[39m=\u001b[39m attn_output_weights\u001b[39m.\u001b[39mview(bsz, num_heads, tgt_len, src_len)\n\u001b[1;32m   5365\u001b[0m \u001b[39mif\u001b[39;00m average_attn_weights:\n\u001b[0;32m-> 5366\u001b[0m     attn_output_weights \u001b[39m=\u001b[39m attn_output_weights\u001b[39m.\u001b[39;49msum(dim\u001b[39m=\u001b[39;49m\u001b[39m1\u001b[39;49m) \u001b[39m/\u001b[39m num_heads\n\u001b[1;32m   5368\u001b[0m \u001b[39mif\u001b[39;00m \u001b[39mnot\u001b[39;00m is_batched:\n\u001b[1;32m   5369\u001b[0m     \u001b[39m# squeeze the output if input was unbatched\u001b[39;00m\n\u001b[1;32m   5370\u001b[0m     attn_output \u001b[39m=\u001b[39m attn_output\u001b[39m.\u001b[39msqueeze(\u001b[39m1\u001b[39m)\n",
      "File \u001b[0;32m/Library/Developer/CommandLineTools/Library/Frameworks/Python3.framework/Versions/3.8/lib/python3.8/traceback.py:197\u001b[0m, in \u001b[0;36mformat_stack\u001b[0;34m(f, limit)\u001b[0m\n\u001b[1;32m    195\u001b[0m \u001b[39mif\u001b[39;00m f \u001b[39mis\u001b[39;00m \u001b[39mNone\u001b[39;00m:\n\u001b[1;32m    196\u001b[0m     f \u001b[39m=\u001b[39m sys\u001b[39m.\u001b[39m_getframe()\u001b[39m.\u001b[39mf_back\n\u001b[0;32m--> 197\u001b[0m \u001b[39mreturn\u001b[39;00m format_list(extract_stack(f, limit\u001b[39m=\u001b[39;49mlimit))\n",
      "File \u001b[0;32m/Library/Developer/CommandLineTools/Library/Frameworks/Python3.framework/Versions/3.8/lib/python3.8/traceback.py:211\u001b[0m, in \u001b[0;36mextract_stack\u001b[0;34m(f, limit)\u001b[0m\n\u001b[1;32m    209\u001b[0m \u001b[39mif\u001b[39;00m f \u001b[39mis\u001b[39;00m \u001b[39mNone\u001b[39;00m:\n\u001b[1;32m    210\u001b[0m     f \u001b[39m=\u001b[39m sys\u001b[39m.\u001b[39m_getframe()\u001b[39m.\u001b[39mf_back\n\u001b[0;32m--> 211\u001b[0m stack \u001b[39m=\u001b[39m StackSummary\u001b[39m.\u001b[39;49mextract(walk_stack(f), limit\u001b[39m=\u001b[39;49mlimit)\n\u001b[1;32m    212\u001b[0m stack\u001b[39m.\u001b[39mreverse()\n\u001b[1;32m    213\u001b[0m \u001b[39mreturn\u001b[39;00m stack\n",
      "File \u001b[0;32m/Library/Developer/CommandLineTools/Library/Frameworks/Python3.framework/Versions/3.8/lib/python3.8/traceback.py:362\u001b[0m, in \u001b[0;36mStackSummary.extract\u001b[0;34m(klass, frame_gen, limit, lookup_lines, capture_locals)\u001b[0m\n\u001b[1;32m    359\u001b[0m     result\u001b[39m.\u001b[39mappend(FrameSummary(\n\u001b[1;32m    360\u001b[0m         filename, lineno, name, lookup_line\u001b[39m=\u001b[39m\u001b[39mFalse\u001b[39;00m, \u001b[39mlocals\u001b[39m\u001b[39m=\u001b[39mf_locals))\n\u001b[1;32m    361\u001b[0m \u001b[39mfor\u001b[39;00m filename \u001b[39min\u001b[39;00m fnames:\n\u001b[0;32m--> 362\u001b[0m     linecache\u001b[39m.\u001b[39;49mcheckcache(filename)\n\u001b[1;32m    363\u001b[0m \u001b[39m# If immediate lookup was desired, trigger lookups now.\u001b[39;00m\n\u001b[1;32m    364\u001b[0m \u001b[39mif\u001b[39;00m lookup_lines:\n",
      "File \u001b[0;32m~/Library/Python/3.8/lib/python/site-packages/IPython/core/compilerop.py:193\u001b[0m, in \u001b[0;36mcheck_linecache_ipython\u001b[0;34m(*args)\u001b[0m\n\u001b[1;32m    190\u001b[0m \u001b[39m\"\"\"Call linecache.checkcache() safely protecting our cached values.\u001b[39;00m\n\u001b[1;32m    191\u001b[0m \u001b[39m\"\"\"\u001b[39;00m\n\u001b[1;32m    192\u001b[0m \u001b[39m# First call the original checkcache as intended\u001b[39;00m\n\u001b[0;32m--> 193\u001b[0m linecache\u001b[39m.\u001b[39;49m_checkcache_ori(\u001b[39m*\u001b[39;49margs)\n\u001b[1;32m    194\u001b[0m \u001b[39m# Then, update back the cache with our data, so that tracebacks related\u001b[39;00m\n\u001b[1;32m    195\u001b[0m \u001b[39m# to our compiled codes can be produced.\u001b[39;00m\n\u001b[1;32m    196\u001b[0m linecache\u001b[39m.\u001b[39mcache\u001b[39m.\u001b[39mupdate(linecache\u001b[39m.\u001b[39m_ipython_cache)\n",
      "File \u001b[0;32m/Library/Developer/CommandLineTools/Library/Frameworks/Python3.framework/Versions/3.8/lib/python3.8/linecache.py:85\u001b[0m, in \u001b[0;36mcheckcache\u001b[0;34m(filename)\u001b[0m\n\u001b[1;32m     83\u001b[0m     \u001b[39mcontinue\u001b[39;00m   \u001b[39m# no-op for files loaded via a __loader__\u001b[39;00m\n\u001b[1;32m     84\u001b[0m \u001b[39mtry\u001b[39;00m:\n\u001b[0;32m---> 85\u001b[0m     stat \u001b[39m=\u001b[39m os\u001b[39m.\u001b[39;49mstat(fullname)\n\u001b[1;32m     86\u001b[0m \u001b[39mexcept\u001b[39;00m \u001b[39mOSError\u001b[39;00m:\n\u001b[1;32m     87\u001b[0m     cache\u001b[39m.\u001b[39mpop(filename, \u001b[39mNone\u001b[39;00m)\n",
      "\u001b[0;31mKeyboardInterrupt\u001b[0m: "
     ]
    },
    {
     "data": {
      "image/png": "[encoded data removed]",
      "text/plain": [
       "<Figure size 432x288 with 1 Axes>"
      ]
     },
     "metadata": {
      "needs_background": "light"
     },
     "output_type": "display_data"
    }
   ],
   "source": [
    "## Training without gradient clipping \n",
    "model, iter_losses = proption_model.train_model(\n",
    "    p_model, \n",
    "    input_tensor, \n",
    "    target_tensor, \n",
    "    n_epochs, \n",
    "    target_len, \n",
    "    batch_size, \n",
    "    l_r,\n",
    "    clip = True,\n",
    "    tracing = True, \n",
    "    )\n"
   ]
  },
  {
   "cell_type": "markdown",
   "metadata": {},
   "source": [
    "- ## PROD CODE FOLLOWING "
   ]
  },
  {
   "cell_type": "code",
   "execution_count": 70,
   "metadata": {},
   "outputs": [
    {
     "data": {
      "text/html": [
       "<div>\n",
       "<style scoped>\n",
       "    .dataframe tbody tr th:only-of-type {\n",
       "        vertical-align: middle;\n",
       "    }\n",
       "\n",
       "    .dataframe tbody tr th {\n",
       "        vertical-align: top;\n",
       "    }\n",
       "\n",
       "    .dataframe thead th {\n",
       "        text-align: right;\n",
       "    }\n",
       "</style>\n",
       "<table border=\"1\" class=\"dataframe\">\n",
       "  <thead>\n",
       "    <tr style=\"text-align: right;\">\n",
       "      <th></th>\n",
       "      <th>cat_id</th>\n",
       "      <th>dept_id</th>\n",
       "      <th>item_id</th>\n",
       "      <th>id</th>\n",
       "    </tr>\n",
       "  </thead>\n",
       "  <tbody>\n",
       "    <tr>\n",
       "      <th>0</th>\n",
       "      <td>FOODS</td>\n",
       "      <td>FOODS_1</td>\n",
       "      <td>FOODS_1_001</td>\n",
       "      <td>10</td>\n",
       "    </tr>\n",
       "    <tr>\n",
       "      <th>1</th>\n",
       "      <td>FOODS</td>\n",
       "      <td>FOODS_1</td>\n",
       "      <td>FOODS_1_002</td>\n",
       "      <td>10</td>\n",
       "    </tr>\n",
       "    <tr>\n",
       "      <th>2</th>\n",
       "      <td>FOODS</td>\n",
       "      <td>FOODS_1</td>\n",
       "      <td>FOODS_1_003</td>\n",
       "      <td>10</td>\n",
       "    </tr>\n",
       "    <tr>\n",
       "      <th>3</th>\n",
       "      <td>FOODS</td>\n",
       "      <td>FOODS_1</td>\n",
       "      <td>FOODS_1_004</td>\n",
       "      <td>10</td>\n",
       "    </tr>\n",
       "    <tr>\n",
       "      <th>4</th>\n",
       "      <td>FOODS</td>\n",
       "      <td>FOODS_1</td>\n",
       "      <td>FOODS_1_005</td>\n",
       "      <td>10</td>\n",
       "    </tr>\n",
       "  </tbody>\n",
       "</table>\n",
       "</div>"
      ],
      "text/plain": [
       "  cat_id  dept_id      item_id  id\n",
       "0  FOODS  FOODS_1  FOODS_1_001  10\n",
       "1  FOODS  FOODS_1  FOODS_1_002  10\n",
       "2  FOODS  FOODS_1  FOODS_1_003  10\n",
       "3  FOODS  FOODS_1  FOODS_1_004  10\n",
       "4  FOODS  FOODS_1  FOODS_1_005  10"
      ]
     },
     "execution_count": 70,
     "metadata": {},
     "output_type": "execute_result"
    }
   ],
   "source": [
    "hl_prod = sales_train_validation.groupby(groupby_list[2:]).count()[['id']].reset_index()\n",
    "hl_prod.head()"
   ]
  },
  {
   "cell_type": "code",
   "execution_count": 75,
   "metadata": {},
   "outputs": [],
   "source": [
    "df_left = hl_prod\n",
    "df_right = sales_train_validation.groupby('item_id').sum()\n",
    "df = df_left.merge(df_right, left_on='item_id', right_index=True, how='inner').drop(columns=['id'])\n",
    "df.rename(columns=d_to_date, inplace=True)"
   ]
  },
  {
   "cell_type": "code",
   "execution_count": 76,
   "metadata": {},
   "outputs": [
    {
     "data": {
      "text/html": [
       "<div>\n",
       "<style scoped>\n",
       "    .dataframe tbody tr th:only-of-type {\n",
       "        vertical-align: middle;\n",
       "    }\n",
       "\n",
       "    .dataframe tbody tr th {\n",
       "        vertical-align: top;\n",
       "    }\n",
       "\n",
       "    .dataframe thead th {\n",
       "        text-align: right;\n",
       "    }\n",
       "</style>\n",
       "<table border=\"1\" class=\"dataframe\">\n",
       "  <thead>\n",
       "    <tr style=\"text-align: right;\">\n",
       "      <th></th>\n",
       "      <th>cat_id</th>\n",
       "      <th>dept_id</th>\n",
       "      <th>item_id</th>\n",
       "      <th>2011-01-29</th>\n",
       "      <th>2011-01-30</th>\n",
       "      <th>2011-01-31</th>\n",
       "      <th>2011-02-01</th>\n",
       "      <th>2011-02-02</th>\n",
       "      <th>2011-02-03</th>\n",
       "      <th>2011-02-04</th>\n",
       "      <th>...</th>\n",
       "      <th>2016-04-15</th>\n",
       "      <th>2016-04-16</th>\n",
       "      <th>2016-04-17</th>\n",
       "      <th>2016-04-18</th>\n",
       "      <th>2016-04-19</th>\n",
       "      <th>2016-04-20</th>\n",
       "      <th>2016-04-21</th>\n",
       "      <th>2016-04-22</th>\n",
       "      <th>2016-04-23</th>\n",
       "      <th>2016-04-24</th>\n",
       "    </tr>\n",
       "  </thead>\n",
       "  <tbody>\n",
       "    <tr>\n",
       "      <th>0</th>\n",
       "      <td>FOODS</td>\n",
       "      <td>FOODS_1</td>\n",
       "      <td>FOODS_1_001</td>\n",
       "      <td>6</td>\n",
       "      <td>6</td>\n",
       "      <td>4</td>\n",
       "      <td>6</td>\n",
       "      <td>7</td>\n",
       "      <td>18</td>\n",
       "      <td>10</td>\n",
       "      <td>...</td>\n",
       "      <td>4</td>\n",
       "      <td>4</td>\n",
       "      <td>30</td>\n",
       "      <td>7</td>\n",
       "      <td>5</td>\n",
       "      <td>3</td>\n",
       "      <td>6</td>\n",
       "      <td>2</td>\n",
       "      <td>16</td>\n",
       "      <td>6</td>\n",
       "    </tr>\n",
       "    <tr>\n",
       "      <th>1</th>\n",
       "      <td>FOODS</td>\n",
       "      <td>FOODS_1</td>\n",
       "      <td>FOODS_1_002</td>\n",
       "      <td>4</td>\n",
       "      <td>5</td>\n",
       "      <td>7</td>\n",
       "      <td>4</td>\n",
       "      <td>3</td>\n",
       "      <td>4</td>\n",
       "      <td>1</td>\n",
       "      <td>...</td>\n",
       "      <td>5</td>\n",
       "      <td>9</td>\n",
       "      <td>4</td>\n",
       "      <td>1</td>\n",
       "      <td>3</td>\n",
       "      <td>5</td>\n",
       "      <td>5</td>\n",
       "      <td>3</td>\n",
       "      <td>3</td>\n",
       "      <td>1</td>\n",
       "    </tr>\n",
       "    <tr>\n",
       "      <th>2</th>\n",
       "      <td>FOODS</td>\n",
       "      <td>FOODS_1</td>\n",
       "      <td>FOODS_1_003</td>\n",
       "      <td>14</td>\n",
       "      <td>8</td>\n",
       "      <td>3</td>\n",
       "      <td>6</td>\n",
       "      <td>3</td>\n",
       "      <td>8</td>\n",
       "      <td>13</td>\n",
       "      <td>...</td>\n",
       "      <td>7</td>\n",
       "      <td>3</td>\n",
       "      <td>5</td>\n",
       "      <td>6</td>\n",
       "      <td>3</td>\n",
       "      <td>4</td>\n",
       "      <td>4</td>\n",
       "      <td>3</td>\n",
       "      <td>11</td>\n",
       "      <td>5</td>\n",
       "    </tr>\n",
       "    <tr>\n",
       "      <th>3</th>\n",
       "      <td>FOODS</td>\n",
       "      <td>FOODS_1</td>\n",
       "      <td>FOODS_1_004</td>\n",
       "      <td>0</td>\n",
       "      <td>0</td>\n",
       "      <td>0</td>\n",
       "      <td>0</td>\n",
       "      <td>0</td>\n",
       "      <td>0</td>\n",
       "      <td>0</td>\n",
       "      <td>...</td>\n",
       "      <td>0</td>\n",
       "      <td>0</td>\n",
       "      <td>0</td>\n",
       "      <td>0</td>\n",
       "      <td>0</td>\n",
       "      <td>0</td>\n",
       "      <td>0</td>\n",
       "      <td>0</td>\n",
       "      <td>0</td>\n",
       "      <td>0</td>\n",
       "    </tr>\n",
       "    <tr>\n",
       "      <th>4</th>\n",
       "      <td>FOODS</td>\n",
       "      <td>FOODS_1</td>\n",
       "      <td>FOODS_1_005</td>\n",
       "      <td>34</td>\n",
       "      <td>32</td>\n",
       "      <td>13</td>\n",
       "      <td>20</td>\n",
       "      <td>10</td>\n",
       "      <td>21</td>\n",
       "      <td>18</td>\n",
       "      <td>...</td>\n",
       "      <td>16</td>\n",
       "      <td>14</td>\n",
       "      <td>14</td>\n",
       "      <td>18</td>\n",
       "      <td>18</td>\n",
       "      <td>27</td>\n",
       "      <td>12</td>\n",
       "      <td>15</td>\n",
       "      <td>38</td>\n",
       "      <td>9</td>\n",
       "    </tr>\n",
       "    <tr>\n",
       "      <th>...</th>\n",
       "      <td>...</td>\n",
       "      <td>...</td>\n",
       "      <td>...</td>\n",
       "      <td>...</td>\n",
       "      <td>...</td>\n",
       "      <td>...</td>\n",
       "      <td>...</td>\n",
       "      <td>...</td>\n",
       "      <td>...</td>\n",
       "      <td>...</td>\n",
       "      <td>...</td>\n",
       "      <td>...</td>\n",
       "      <td>...</td>\n",
       "      <td>...</td>\n",
       "      <td>...</td>\n",
       "      <td>...</td>\n",
       "      <td>...</td>\n",
       "      <td>...</td>\n",
       "      <td>...</td>\n",
       "      <td>...</td>\n",
       "      <td>...</td>\n",
       "    </tr>\n",
       "    <tr>\n",
       "      <th>3044</th>\n",
       "      <td>HOUSEHOLD</td>\n",
       "      <td>HOUSEHOLD_2</td>\n",
       "      <td>HOUSEHOLD_2_512</td>\n",
       "      <td>5</td>\n",
       "      <td>4</td>\n",
       "      <td>1</td>\n",
       "      <td>3</td>\n",
       "      <td>2</td>\n",
       "      <td>4</td>\n",
       "      <td>2</td>\n",
       "      <td>...</td>\n",
       "      <td>6</td>\n",
       "      <td>7</td>\n",
       "      <td>9</td>\n",
       "      <td>13</td>\n",
       "      <td>12</td>\n",
       "      <td>2</td>\n",
       "      <td>8</td>\n",
       "      <td>6</td>\n",
       "      <td>10</td>\n",
       "      <td>5</td>\n",
       "    </tr>\n",
       "    <tr>\n",
       "      <th>3045</th>\n",
       "      <td>HOUSEHOLD</td>\n",
       "      <td>HOUSEHOLD_2</td>\n",
       "      <td>HOUSEHOLD_2_513</td>\n",
       "      <td>0</td>\n",
       "      <td>0</td>\n",
       "      <td>0</td>\n",
       "      <td>0</td>\n",
       "      <td>0</td>\n",
       "      <td>0</td>\n",
       "      <td>0</td>\n",
       "      <td>...</td>\n",
       "      <td>9</td>\n",
       "      <td>3</td>\n",
       "      <td>3</td>\n",
       "      <td>3</td>\n",
       "      <td>2</td>\n",
       "      <td>4</td>\n",
       "      <td>6</td>\n",
       "      <td>7</td>\n",
       "      <td>4</td>\n",
       "      <td>11</td>\n",
       "    </tr>\n",
       "    <tr>\n",
       "      <th>3046</th>\n",
       "      <td>HOUSEHOLD</td>\n",
       "      <td>HOUSEHOLD_2</td>\n",
       "      <td>HOUSEHOLD_2_514</td>\n",
       "      <td>4</td>\n",
       "      <td>8</td>\n",
       "      <td>2</td>\n",
       "      <td>1</td>\n",
       "      <td>1</td>\n",
       "      <td>2</td>\n",
       "      <td>3</td>\n",
       "      <td>...</td>\n",
       "      <td>1</td>\n",
       "      <td>2</td>\n",
       "      <td>2</td>\n",
       "      <td>0</td>\n",
       "      <td>1</td>\n",
       "      <td>0</td>\n",
       "      <td>0</td>\n",
       "      <td>2</td>\n",
       "      <td>2</td>\n",
       "      <td>2</td>\n",
       "    </tr>\n",
       "    <tr>\n",
       "      <th>3047</th>\n",
       "      <td>HOUSEHOLD</td>\n",
       "      <td>HOUSEHOLD_2</td>\n",
       "      <td>HOUSEHOLD_2_515</td>\n",
       "      <td>0</td>\n",
       "      <td>0</td>\n",
       "      <td>0</td>\n",
       "      <td>0</td>\n",
       "      <td>0</td>\n",
       "      <td>0</td>\n",
       "      <td>0</td>\n",
       "      <td>...</td>\n",
       "      <td>1</td>\n",
       "      <td>3</td>\n",
       "      <td>2</td>\n",
       "      <td>0</td>\n",
       "      <td>0</td>\n",
       "      <td>1</td>\n",
       "      <td>1</td>\n",
       "      <td>1</td>\n",
       "      <td>5</td>\n",
       "      <td>1</td>\n",
       "    </tr>\n",
       "    <tr>\n",
       "      <th>3048</th>\n",
       "      <td>HOUSEHOLD</td>\n",
       "      <td>HOUSEHOLD_2</td>\n",
       "      <td>HOUSEHOLD_2_516</td>\n",
       "      <td>2</td>\n",
       "      <td>4</td>\n",
       "      <td>0</td>\n",
       "      <td>3</td>\n",
       "      <td>1</td>\n",
       "      <td>2</td>\n",
       "      <td>2</td>\n",
       "      <td>...</td>\n",
       "      <td>4</td>\n",
       "      <td>1</td>\n",
       "      <td>1</td>\n",
       "      <td>0</td>\n",
       "      <td>0</td>\n",
       "      <td>1</td>\n",
       "      <td>2</td>\n",
       "      <td>1</td>\n",
       "      <td>0</td>\n",
       "      <td>1</td>\n",
       "    </tr>\n",
       "  </tbody>\n",
       "</table>\n",
       "<p>3049 rows × 1916 columns</p>\n",
       "</div>"
      ],
      "text/plain": [
       "         cat_id      dept_id          item_id  2011-01-29  2011-01-30  \\\n",
       "0         FOODS      FOODS_1      FOODS_1_001           6           6   \n",
       "1         FOODS      FOODS_1      FOODS_1_002           4           5   \n",
       "2         FOODS      FOODS_1      FOODS_1_003          14           8   \n",
       "3         FOODS      FOODS_1      FOODS_1_004           0           0   \n",
       "4         FOODS      FOODS_1      FOODS_1_005          34          32   \n",
       "...         ...          ...              ...         ...         ...   \n",
       "3044  HOUSEHOLD  HOUSEHOLD_2  HOUSEHOLD_2_512           5           4   \n",
       "3045  HOUSEHOLD  HOUSEHOLD_2  HOUSEHOLD_2_513           0           0   \n",
       "3046  HOUSEHOLD  HOUSEHOLD_2  HOUSEHOLD_2_514           4           8   \n",
       "3047  HOUSEHOLD  HOUSEHOLD_2  HOUSEHOLD_2_515           0           0   \n",
       "3048  HOUSEHOLD  HOUSEHOLD_2  HOUSEHOLD_2_516           2           4   \n",
       "\n",
       "      2011-01-31  2011-02-01  2011-02-02  2011-02-03  2011-02-04  ...  \\\n",
       "0              4           6           7          18          10  ...   \n",
       "1              7           4           3           4           1  ...   \n",
       "2              3           6           3           8          13  ...   \n",
       "3              0           0           0           0           0  ...   \n",
       "4             13          20          10          21          18  ...   \n",
       "...          ...         ...         ...         ...         ...  ...   \n",
       "3044           1           3           2           4           2  ...   \n",
       "3045           0           0           0           0           0  ...   \n",
       "3046           2           1           1           2           3  ...   \n",
       "3047           0           0           0           0           0  ...   \n",
       "3048           0           3           1           2           2  ...   \n",
       "\n",
       "      2016-04-15  2016-04-16  2016-04-17  2016-04-18  2016-04-19  2016-04-20  \\\n",
       "0              4           4          30           7           5           3   \n",
       "1              5           9           4           1           3           5   \n",
       "2              7           3           5           6           3           4   \n",
       "3              0           0           0           0           0           0   \n",
       "4             16          14          14          18          18          27   \n",
       "...          ...         ...         ...         ...         ...         ...   \n",
       "3044           6           7           9          13          12           2   \n",
       "3045           9           3           3           3           2           4   \n",
       "3046           1           2           2           0           1           0   \n",
       "3047           1           3           2           0           0           1   \n",
       "3048           4           1           1           0           0           1   \n",
       "\n",
       "      2016-04-21  2016-04-22  2016-04-23  2016-04-24  \n",
       "0              6           2          16           6  \n",
       "1              5           3           3           1  \n",
       "2              4           3          11           5  \n",
       "3              0           0           0           0  \n",
       "4             12          15          38           9  \n",
       "...          ...         ...         ...         ...  \n",
       "3044           8           6          10           5  \n",
       "3045           6           7           4          11  \n",
       "3046           0           2           2           2  \n",
       "3047           1           1           5           1  \n",
       "3048           2           1           0           1  \n",
       "\n",
       "[3049 rows x 1916 columns]"
      ]
     },
     "execution_count": 76,
     "metadata": {},
     "output_type": "execute_result"
    }
   ],
   "source": [
    "df "
   ]
  },
  {
   "cell_type": "code",
   "execution_count": null,
   "metadata": {},
   "outputs": [],
   "source": []
  },
  {
   "cell_type": "markdown",
   "metadata": {},
   "source": [
    "## Time related covariates: \n",
    "\n",
    "- Wehther it is weekend/not, we observed sales are high overweekend across three categories "
   ]
  },
  {
   "cell_type": "code",
   "execution_count": 4,
   "metadata": {},
   "outputs": [],
   "source": [
    "date = [d_to_date[d] for d in sales_train_validation.columns[6:]]"
   ]
  },
  {
   "cell_type": "code",
   "execution_count": 5,
   "metadata": {},
   "outputs": [
    {
     "name": "stdout",
     "output_type": "stream",
     "text": [
      "The statrting date is 2011-01-29\n",
      "The statrting date is 2016-04-24\n"
     ]
    }
   ],
   "source": [
    "print(f'The statrting date is {date[0]}')\n",
    "print(f'The statrting date is {date[-1]}')"
   ]
  },
  {
   "cell_type": "code",
   "execution_count": 6,
   "metadata": {},
   "outputs": [
    {
     "name": "stdout",
     "output_type": "stream",
     "text": [
      "Given data is weekday.\n"
     ]
    }
   ],
   "source": [
    "d = datetime.strptime(date[2], '%Y-%m-%d')\n",
    "if d.weekday() > 4:\n",
    "    print ('Given date is weekend.')\n",
    "else:\n",
    "    print ('Given data is weekday.')"
   ]
  },
  {
   "cell_type": "code",
   "execution_count": 7,
   "metadata": {},
   "outputs": [
    {
     "data": {
      "text/plain": [
       "0"
      ]
     },
     "execution_count": 7,
     "metadata": {},
     "output_type": "execute_result"
    }
   ],
   "source": [
    "d.weekday()"
   ]
  },
  {
   "cell_type": "code",
   "execution_count": 8,
   "metadata": {},
   "outputs": [
    {
     "name": "stdout",
     "output_type": "stream",
     "text": [
      "1913\n"
     ]
    }
   ],
   "source": [
    "weekend_binary = [1 if (datetime.strptime(d, '%Y-%m-%d')).weekday() > 4 else 0 for d in date]\n",
    "print(len(weekend_binary))"
   ]
  },
  {
   "cell_type": "markdown",
   "metadata": {},
   "source": [
    "## Proportions"
   ]
  },
  {
   "cell_type": "code",
   "execution_count": 9,
   "metadata": {},
   "outputs": [
    {
     "name": "stdout",
     "output_type": "stream",
     "text": [
      "(1913, 30490)\n"
     ]
    }
   ],
   "source": [
    "stv = sales_train_validation[sales_train_validation.columns[6:]]\n",
    "stv = stv.T\n",
    "print(stv.shape)"
   ]
  },
  {
   "cell_type": "code",
   "execution_count": 10,
   "metadata": {},
   "outputs": [
    {
     "data": {
      "text/plain": [
       "1913"
      ]
     },
     "execution_count": 10,
     "metadata": {},
     "output_type": "execute_result"
    }
   ],
   "source": [
    "len(stv.sum(axis=1).values)"
   ]
  },
  {
   "cell_type": "markdown",
   "metadata": {},
   "source": [
    "## Time series embeddings "
   ]
  },
  {
   "cell_type": "code",
   "execution_count": 13,
   "metadata": {},
   "outputs": [
    {
     "name": "stdout",
     "output_type": "stream",
     "text": [
      "torch.Size([1913, 30490, 1])\n"
     ]
    }
   ],
   "source": [
    "hie_index = torch.arange(stv.shape[1])\n",
    "\n",
    "hie_index_2d = hie_index.expand(stv.shape[0], stv.shape[1])\n",
    "\n",
    "hie_index_3d = hie_index_2d.reshape(\n",
    "    hie_index_2d.shape[0], hie_index_2d.shape[-1], 1\n",
    ")\n",
    "\n",
    "print(hie_index_3d.shape)\n"
   ]
  },
  {
   "cell_type": "code",
   "execution_count": 14,
   "metadata": {},
   "outputs": [
    {
     "name": "stdout",
     "output_type": "stream",
     "text": [
      "1913.0\n",
      "(1913, 30490, 1)\n",
      "torch.Size([1913, 30490, 1])\n"
     ]
    }
   ],
   "source": [
    "stv_proportions = np.divide(stv.values, stv.sum(axis=1).values.reshape(-1,1))\n",
    "print(stv_proportions.sum(axis=1).sum())\n",
    "\n",
    "stv_proportions_3d = stv_proportions.reshape(stv_proportions.shape[0], stv_proportions.shape[1], 1)\n",
    "print(stv_proportions_3d.shape)\n",
    "\n",
    "proportions_tensor = torch.tensor(stv_proportions_3d)\n",
    "print(proportions_tensor.shape)"
   ]
  },
  {
   "cell_type": "code",
   "execution_count": 15,
   "metadata": {},
   "outputs": [
    {
     "name": "stdout",
     "output_type": "stream",
     "text": [
      "torch.Size([1913, 30490, 1])\n",
      "tensor([1])\n",
      "tensor([0])\n"
     ]
    }
   ],
   "source": [
    "\n",
    "weekend_binary_tensor = torch.tensor(weekend_binary).unsqueeze_(-1).unsqueeze_(-1)\n",
    "weekend_binary_tensor = weekend_binary_tensor.expand(stv_proportions.shape[0], stv_proportions.shape[1], weekend_binary_tensor.shape[-1])\n",
    "print(weekend_binary_tensor.shape)\n",
    "print(weekend_binary_tensor[1,0])\n",
    "print(weekend_binary_tensor[2,0])\n"
   ]
  },
  {
   "cell_type": "code",
   "execution_count": 16,
   "metadata": {},
   "outputs": [
    {
     "name": "stdout",
     "output_type": "stream",
     "text": [
      "torch.Size([1913, 30490, 1])\n"
     ]
    }
   ],
   "source": [
    "parent_sales_tensor = torch.tensor(parent_sales).unsqueeze_(-1).unsqueeze_(-1)\n",
    "parent_sales_tensor = parent_sales_tensor.expand(stv_proportions.shape[0], stv_proportions.shape[1], parent_sales_tensor.shape[-1])\n",
    "print(parent_sales_tensor.shape)"
   ]
  },
  {
   "cell_type": "code",
   "execution_count": 17,
   "metadata": {},
   "outputs": [
    {
     "name": "stdout",
     "output_type": "stream",
     "text": [
      "torch.Size([1913, 30490, 4])\n"
     ]
    }
   ],
   "source": [
    "data_3d = torch.cat((proportions_tensor, parent_sales_tensor,weekend_binary_tensor, hie_index_3d), -1)\n",
    "data_3d = data_3d.double()\n",
    "print(data_3d.shape)"
   ]
  },
  {
   "cell_type": "code",
   "execution_count": 18,
   "metadata": {},
   "outputs": [
    {
     "name": "stdout",
     "output_type": "stream",
     "text": [
      "torch.Size([1858, 56, 30490, 4])\n",
      "torch.Size([56, 30490, 4])\n",
      "data correctly processed to generate time-bacted tensor\n",
      "torch.Size([1858, 28, 30490, 4])\n",
      "torch.Size([1858, 28, 30490, 1])\n",
      "Entering the training pipeline\n",
      "torch.Size([1858, 28, 30490, 4])\n",
      "torch.Size([1858, 28, 30490, 1])\n"
     ]
    }
   ],
   "source": [
    "# dimension about the dataset\n",
    "no_child = proportions_tensor.shape[1]\n",
    "History = 28\n",
    "Forward = 28\n",
    "\n",
    "number_observations = data_3d.shape[0] - (History + Forward) + 1\n",
    "\n",
    "data_3d_time_batched = torch.empty(\n",
    "    number_observations, History + Forward, data_3d.shape[1], data_3d.shape[2]\n",
    ")\n",
    "\n",
    "for i in range(number_observations):\n",
    "\n",
    "    data_3d_time_batched[i, :, :, :] = data_3d[i : i + History + Forward, :, :]\n",
    "\n",
    "print(data_3d_time_batched.shape)\n",
    "print(data_3d_time_batched[-1,:,:,:].shape)\n",
    "\n",
    "\n",
    "#if torch.equal(data_3d_time_batched[-1, -1, :, :].double(), data_3d[-1, :, :].double()):\n",
    "\n",
    "print(\"data correctly processed to generate time-bacted tensor\")\n",
    "\n",
    "input_tensor = torch.empty(\n",
    "    number_observations,\n",
    "    History,\n",
    "    data_3d_time_batched.shape[-2],\n",
    "    data_3d_time_batched.shape[-1],\n",
    ")\n",
    "\n",
    "## We first use the recursive predicitng mechanism in LSTM, in the future we release more blocks that adapt to teacher-forcing/mixed training\n",
    "target_tensor = torch.empty(\n",
    "    number_observations,\n",
    "    Forward,\n",
    "    data_3d_time_batched.shape[-2],\n",
    "    1\n",
    "    # data_3d_time_batched.shape[-1]\n",
    ")\n",
    "\n",
    "print(input_tensor.shape)\n",
    "print(target_tensor.shape)\n",
    "\n",
    "print(\"Entering the training pipeline\")\n",
    "\n",
    "for i in range(data_3d_time_batched.shape[0]):\n",
    "\n",
    "    input_tensor[i] = data_3d_time_batched[i, :History, :, :]\n",
    "    target_2d = data_3d_time_batched[i, History:, :, 0]\n",
    "    target_tensor[i] = target_2d.reshape(\n",
    "        target_2d.shape[0], target_2d.shape[1], 1\n",
    "    )\n",
    "\n",
    "    # print(input_tensor.shape)\n",
    "    # print(target_tensor.shape)\n",
    "\n",
    "print(input_tensor.shape)\n",
    "print(target_tensor.shape)\n",
    "    # print(target_tensor[-1,0,:,:].sum())"
   ]
  },
  {
   "cell_type": "code",
   "execution_count": null,
   "metadata": {},
   "outputs": [],
   "source": []
  }
 ],
 "metadata": {
  "kernelspec": {
   "display_name": "Python 3.8.9 64-bit",
   "language": "python",
   "name": "python3"
  },
  "language_info": {
   "codemirror_mode": {
    "name": "ipython",
    "version": 3
   },
   "file_extension": ".py",
   "mimetype": "text/x-python",
   "name": "python",
   "nbconvert_exporter": "python",
   "pygments_lexer": "ipython3",
   "version": "3.8.9"
  },
  "orig_nbformat": 4,
  "vscode": {
   "interpreter": {
    "hash": "31f2aee4e71d21fbe5cf8b01ff0e069b9275f58929596ceb00d14d90e3e16cd6"
   }
  }
 },
 "nbformat": 4,
 "nbformat_minor": 2
}
