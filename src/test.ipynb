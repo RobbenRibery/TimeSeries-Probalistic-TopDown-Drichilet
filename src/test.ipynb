{
 "cells": [
  {
   "cell_type": "code",
   "execution_count": 2,
   "metadata": {},
   "outputs": [],
   "source": [
    "\n",
    "%load_ext autoreload\n",
    "%autoreload 2\n",
    "\n",
    "import torch \n",
    "import numpy as np \n",
    "from dirichlet import * \n",
    "import torch\n",
    "%matplotlib inline\n",
    "import numpy as np\n",
    "import matplotlib.pyplot as plt\n",
    "import matplotlib.tri as tri "
   ]
  },
  {
   "cell_type": "code",
   "execution_count": 3,
   "metadata": {},
   "outputs": [],
   "source": [
    "input = torch.tensor([[1,2,3],[3,4,6]])"
   ]
  },
  {
   "cell_type": "code",
   "execution_count": 4,
   "metadata": {},
   "outputs": [],
   "source": [
    "import pyro.distributions as dist \n",
    "from pyro.contrib.forecast import eval_crps "
   ]
  },
  {
   "cell_type": "code",
   "execution_count": 5,
   "metadata": {},
   "outputs": [
    {
     "name": "stdout",
     "output_type": "stream",
     "text": [
      "torch.Size([7, 3])\n",
      "torch.Size([7, 3])\n"
     ]
    },
    {
     "data": {
      "text/plain": [
       "tensor([1.3975, 1.0940, 0.9886, 0.9475, 0.8947, 0.8240, 0.7980])"
      ]
     },
     "execution_count": 5,
     "metadata": {},
     "output_type": "execute_result"
    }
   ],
   "source": [
    "## by Pyro\n",
    "input = torch.tensor(\n",
    "    [[2.5335, 1.0041, 0.7144],\n",
    "    [1.6092, 0.8942, 0.5548],\n",
    "    [1.2650, 0.8000, 0.5933],\n",
    "    [1.0805, 0.7738, 0.6637],\n",
    "    [0.9782, 0.7739, 0.7240],\n",
    "    [0.9198, 0.7838, 0.7656],\n",
    "    [0.8854, 0.7958, 0.7913]]\n",
    ")\n",
    "print(input.shape)\n",
    "\n",
    "drichilet = dist.Dirichlet(concentration=input)\n",
    "\n",
    "target = torch.tensor(\n",
    "    [[0.6655, 0.1367, 0.1978],\n",
    "    [0.7197, 0.0738, 0.2065],\n",
    "    [0.7093, 0.0834, 0.2073],\n",
    "    [0.7244, 0.0801, 0.1955],\n",
    "    [0.7356, 0.0760, 0.1884],\n",
    "    [0.7345, 0.0790, 0.1865],\n",
    "    [0.7429, 0.0701, 0.1870]]\n",
    ")\n",
    "\n",
    "value = 1e-08\n",
    "\n",
    "target += value\n",
    "print(target.shape)\n",
    "\n",
    "drichilet.log_prob(target)"
   ]
  },
  {
   "cell_type": "code",
   "execution_count": 6,
   "metadata": {},
   "outputs": [
    {
     "name": "stdout",
     "output_type": "stream",
     "text": [
      "2.3538526683702e+17\n"
     ]
    }
   ],
   "source": [
    "loss = -40 \n",
    "log_likelihood = 40 \n",
    "pdf = np.exp(log_likelihood)\n",
    "print(pdf)"
   ]
  },
  {
   "cell_type": "code",
   "execution_count": 7,
   "metadata": {},
   "outputs": [
    {
     "name": "stdout",
     "output_type": "stream",
     "text": [
      "torch.Size([7, 3])\n"
     ]
    },
    {
     "data": {
      "text/plain": [
       "tensor([-0.6118, -0.5378, -0.5531, -0.5392, -0.5271, -0.5302, -0.5164])"
      ]
     },
     "execution_count": 7,
     "metadata": {},
     "output_type": "execute_result"
    }
   ],
   "source": [
    "## by Pyro\n",
    "input = torch.tensor(\n",
    "    [[2.5335, 1.0041, 0.7144],\n",
    "    [1.6092, 0.8942, 0.5548],\n",
    "    [1.2650, 0.8000, 0.5933],\n",
    "    [1.0805, 0.7738, 0.6637],\n",
    "    [0.9782, 0.7739, 0.7240],\n",
    "    [0.9198, 0.7838, 0.7656],\n",
    "    [0.8854, 0.7958, 0.7913]]\n",
    ")\n",
    "\n",
    "\n",
    "target = torch.tensor(\n",
    "    [[0.6655, 0.1367, 0.1978],\n",
    "    [0.7197, 0.0738, 0.2065],\n",
    "    [0.7093, 0.0834, 0.2073],\n",
    "    [0.7244, 0.0801, 0.1955],\n",
    "    [0.7356, 0.0760, 0.1884],\n",
    "    [0.7345, 0.0790, 0.1865],\n",
    "    [0.7429, 0.0701, 0.1870]]\n",
    ")\n",
    "\n",
    "\n",
    "\n",
    "drichilet = dist.Dirichlet(concentration=target)\n",
    "\n",
    "\n",
    "value = 1e-08\n",
    "\n",
    "target += value\n",
    "print(target.shape)\n",
    "\n",
    "drichilet.log_prob(target)"
   ]
  },
  {
   "cell_type": "code",
   "execution_count": 10,
   "metadata": {},
   "outputs": [
    {
     "name": "stdout",
     "output_type": "stream",
     "text": [
      "tensor([[5.0000e-01, 2.0000e-01, 3.0000e-01],\n",
      "        [1.0000e+00, 1.0000e-08, 1.0000e-08]])\n"
     ]
    },
    {
     "data": {
      "text/plain": [
       "tensor([ 0.8417, 10.4662])"
      ]
     },
     "execution_count": 10,
     "metadata": {},
     "output_type": "execute_result"
    }
   ],
   "source": [
    "## by Pyro\n",
    "input = torch.tensor(\n",
    "    [[2.5335, 1.0041, 0.7144],\n",
    "    [1.6092, 0.8942, 0.5548],]\n",
    ")\n",
    "\n",
    "drichilet = dist.Dirichlet(concentration=input)\n",
    "\n",
    "target = torch.tensor(\n",
    "    [[0.5,0.2, 0.3],\n",
    "    [1.0, 0., 0.]]\n",
    ")\n",
    "\n",
    "value = 1e-08\n",
    "\n",
    "target += value\n",
    "print(target)\n",
    "\n",
    "drichilet.log_prob(target)"
   ]
  },
  {
   "cell_type": "code",
   "execution_count": 11,
   "metadata": {},
   "outputs": [
    {
     "data": {
      "text/plain": [
       "tensor([ 0.8417, 10.4662])"
      ]
     },
     "execution_count": 11,
     "metadata": {},
     "output_type": "execute_result"
    }
   ],
   "source": [
    "drichilet_2 = Dirichlet(concentration=input)\n",
    "target = torch.tensor(\n",
    "    [[0.5,0.2, 0.3],[1.0, 0., 0.]]\n",
    ")\n",
    "\n",
    "drichilet_2.log_prob(target, value)"
   ]
  },
  {
   "cell_type": "code",
   "execution_count": 12,
   "metadata": {},
   "outputs": [
    {
     "name": "stdout",
     "output_type": "stream",
     "text": [
      "<class 'pyro.distributions.torch.Dirichlet'>\n"
     ]
    }
   ],
   "source": [
    "input = torch.tensor(\n",
    "    [0.5,0.2, 0.3]\n",
    ")\n",
    "inference_drichilet = dist.Dirichlet(concentration=input)\n",
    "val_target_tensor = torch.tensor(\n",
    "    [0.5,0.2, 0.3]\n",
    ")\n",
    "print(type(inference_drichilet))"
   ]
  },
  {
   "cell_type": "code",
   "execution_count": null,
   "metadata": {},
   "outputs": [],
   "source": [
    "#eval_crps -\n",
    "\n",
    "## step 1: geenrate n_samples of the target from the empirical distrbution, (parameterised by the output)\n",
    "## step 2: compute the divergence between two distributions (1 == empircal ; 2 = observed values (cdf = step fucniton))"
   ]
  },
  {
   "cell_type": "code",
   "execution_count": 13,
   "metadata": {},
   "outputs": [
    {
     "data": {
      "image/png": "[encoded data removed]",
      "text/plain": [
       "<Figure size 432x288 with 1 Axes>"
      ]
     },
     "metadata": {
      "needs_background": "light"
     },
     "output_type": "display_data"
    }
   ],
   "source": [
    "crps = []\n",
    "n_samples = 200\n",
    "for i in range(1,n_samples):\n",
    "    samples = inference_drichilet.sample([i])\n",
    "    crps.append(eval_crps(samples, val_target_tensor))\n",
    "    \n",
    "plt.figure()\n",
    "plt.plot(\n",
    "    list(range(1,n_samples)),\n",
    "    crps\n",
    ")\n",
    "plt.show()\n",
    "\n",
    "#samples"
   ]
  },
  {
   "cell_type": "code",
   "execution_count": 56,
   "metadata": {},
   "outputs": [
    {
     "data": {
      "text/plain": [
       "tensor([1.0000, 1.0000, 1.0000, 1.0000, 1.0000, 1.0000, 1.0000, 1.0000, 1.0000,\n",
       "        1.0000, 1.0000, 1.0000, 1.0000, 1.0000, 1.0000, 1.0000, 1.0000, 1.0000,\n",
       "        1.0000, 1.0000, 1.0000, 1.0000, 1.0000, 1.0000, 1.0000, 1.0000, 1.0000,\n",
       "        1.0000, 1.0000, 1.0000, 1.0000, 1.0000, 1.0000, 1.0000, 1.0000, 1.0000,\n",
       "        1.0000, 1.0000, 1.0000, 1.0000])"
      ]
     },
     "execution_count": 56,
     "metadata": {},
     "output_type": "execute_result"
    }
   ],
   "source": [
    "torch.sum(samples, dim = -1)"
   ]
  },
  {
   "cell_type": "code",
   "execution_count": 57,
   "metadata": {},
   "outputs": [
    {
     "data": {
      "text/plain": [
       "0.11650083214044571"
      ]
     },
     "execution_count": 57,
     "metadata": {},
     "output_type": "execute_result"
    }
   ],
   "source": [
    "eval_crps(samples, val_target_tensor)"
   ]
  },
  {
   "cell_type": "code",
   "execution_count": null,
   "metadata": {},
   "outputs": [],
   "source": [
    "eval_crps()"
   ]
  },
  {
   "cell_type": "code",
   "execution_count": null,
   "metadata": {},
   "outputs": [],
   "source": [
    "distributions = Dirichlet(concentration=input)\n",
    "distributions.concentration"
   ]
  },
  {
   "cell_type": "code",
   "execution_count": null,
   "metadata": {},
   "outputs": [],
   "source": [
    "corners = np.array([[0, 0], [1, 0], [0.5, 0.75**0.5]])\n",
    "AREA = 0.5 * 1 * 0.75**0.5\n",
    "triangle = tri.Triangulation(corners[:, 0], corners[:, 1])"
   ]
  },
  {
   "cell_type": "code",
   "execution_count": null,
   "metadata": {},
   "outputs": [],
   "source": [
    "# For each corner of the triangle, the pair of other corners\n",
    "pairs = [corners[np.roll(range(3), -i)[1:]] for i in range(3)]\n",
    "# The area of the triangle formed by point xy and another pair or points\n",
    "tri_area = lambda xy, pair: 0.5 * np.linalg.norm(np.cross(*(pair - xy)))\n",
    "\n",
    "def xy2bc(xy, tol=1.e-4):\n",
    "    '''Converts 2D Cartesian coordinates to barycentric.'''\n",
    "    coords = np.array([tri_area(xy, p) for p in pairs]) / AREA\n",
    "    return np.clip(coords, tol, 1.0 - tol)"
   ]
  },
  {
   "cell_type": "code",
   "execution_count": null,
   "metadata": {},
   "outputs": [],
   "source": [
    "class Dirichlet(object):\n",
    "    def __init__(self, alpha):\n",
    "        from math import gamma\n",
    "        from operator import mul\n",
    "        self._alpha = np.array(alpha)\n",
    "        self._coef = gamma(np.sum(self._alpha)) / \\\n",
    "                           np.multiply.reduce([gamma(a) for a in self._alpha])\n",
    "    def pdf(self, x):\n",
    "        '''Returns pdf value for `x`.'''\n",
    "        from operator import mul\n",
    "        return self._coef * np.multiply.reduce([xx ** (aa - 1)\n",
    "                                               for (xx, aa)in zip(x, self._alpha)])\n",
    "\n",
    "def draw_pdf_contours(dist, nlevels=200, subdiv=8, **kwargs):\n",
    "    import math\n",
    "\n",
    "    refiner = tri.UniformTriRefiner(triangle)\n",
    "    trimesh = refiner.refine_triangulation(subdiv=subdiv)\n",
    "    pvals = [dist.pdf(xy2bc(xy)) for xy in zip(trimesh.x, trimesh.y)]\n",
    "\n",
    "    plt.tricontourf(trimesh, pvals, nlevels, cmap='jet', **kwargs)\n",
    "    plt.axis('equal')\n",
    "    plt.xlim(0, 1)\n",
    "    plt.ylim(0, 0.75**0.5)\n",
    "    plt.axis('off')"
   ]
  },
  {
   "cell_type": "code",
   "execution_count": null,
   "metadata": {},
   "outputs": [],
   "source": [
    "a = torch.tensor([0.9036, 0.9208, 0.9173])\n",
    "b = torch.tensor([0.7231, 0.1062, 0.1707]) \n",
    "\n",
    "diff = a-b \n",
    "\n",
    "print(diff)\n",
    "\n",
    "print(torch.norm(a-b,))\n",
    "print(torch.norm(diff,))"
   ]
  },
  {
   "cell_type": "code",
   "execution_count": null,
   "metadata": {},
   "outputs": [],
   "source": [
    "np.sqrt(0.1805**2 + 0.8146**2 + 0.7466**2)"
   ]
  },
  {
   "cell_type": "code",
   "execution_count": null,
   "metadata": {},
   "outputs": [],
   "source": [
    "import matplotlib.pyplot as plt \n",
    "plt.figure() \n",
    "plt.plot([1,2,3], [0,1,2], 'rs', )\n",
    "plt.plot([1,2,3,4], [0,1,2,3], 'rs', )\n",
    "\n",
    "plt.figure() \n",
    "plt.plot([1,2,3], [0,1,2], 'rs', )\n",
    "plt.plot([1,2,3,4], [0,1,2,3], 'rs', )\n",
    "\n",
    "\n",
    "\n",
    "plt.figure() \n",
    "plt.plot(1, 2,'rs')"
   ]
  },
  {
   "cell_type": "code",
   "execution_count": null,
   "metadata": {},
   "outputs": [],
   "source": [
    "list(range(0+1))"
   ]
  },
  {
   "cell_type": "code",
   "execution_count": null,
   "metadata": {},
   "outputs": [],
   "source": [
    "output = [0.8077, 0.7874, 0.7990]\n",
    "target = torch.tensor(\n",
    "    [0.7231, 0.1062, 0.1707]\n",
    ")"
   ]
  },
  {
   "cell_type": "code",
   "execution_count": null,
   "metadata": {},
   "outputs": [],
   "source": [
    "output =  torch.tensor(\n",
    "    \n",
    ")\n",
    "print(output)"
   ]
  },
  {
   "cell_type": "code",
   "execution_count": null,
   "metadata": {},
   "outputs": [],
   "source": [
    "distribution = Dirichlet(output)\n",
    "distribution.rsample()"
   ]
  },
  {
   "cell_type": "code",
   "execution_count": null,
   "metadata": {},
   "outputs": [],
   "source": [
    "distribution.log_prob(target)"
   ]
  },
  {
   "cell_type": "code",
   "execution_count": null,
   "metadata": {},
   "outputs": [],
   "source": [
    "distribution.sample_n(4)"
   ]
  },
  {
   "cell_type": "code",
   "execution_count": null,
   "metadata": {},
   "outputs": [],
   "source": [
    "import math\n",
    "\n",
    "def lbeta(alpha):\n",
    "    return sum(math.lgamma(a) for a in alpha) - math.lgamma(sum(alpha))\n",
    "\n",
    "def ldirichlet_pdf(alpha, theta):\n",
    "    kernel = sum((a - 1) * math.log(t) for a, t in zip(alpha, theta))\n",
    "    return kernel - lbeta(alpha)\n"
   ]
  },
  {
   "cell_type": "code",
   "execution_count": null,
   "metadata": {},
   "outputs": [],
   "source": [
    "ldirichlet_pdf(output, target)"
   ]
  },
  {
   "cell_type": "code",
   "execution_count": null,
   "metadata": {},
   "outputs": [],
   "source": [
    "m = torch.nn.Softmax(dim=1)  \n",
    "input = torch.randn(2, 3) \n",
    "print(input)\n",
    "print()\n",
    "output = m(input) \n",
    "print(output)\n",
    "print()\n",
    "output_exp = torch.exp(output)\n",
    "print(output_exp)"
   ]
  },
  {
   "cell_type": "code",
   "execution_count": null,
   "metadata": {},
   "outputs": [],
   "source": [
    "draw_pdf_contours(Dirichlet(output_exp[0]))"
   ]
  },
  {
   "cell_type": "code",
   "execution_count": null,
   "metadata": {},
   "outputs": [],
   "source": [
    "torch.clip(torch.tensor([100,200,1]), min = None, max = 100)"
   ]
  },
  {
   "cell_type": "code",
   "execution_count": null,
   "metadata": {},
   "outputs": [],
   "source": [
    "1879%4"
   ]
  },
  {
   "cell_type": "code",
   "execution_count": null,
   "metadata": {},
   "outputs": [],
   "source": [
    "1879//4"
   ]
  },
  {
   "cell_type": "code",
   "execution_count": null,
   "metadata": {},
   "outputs": [],
   "source": [
    "469 * 4 "
   ]
  },
  {
   "cell_type": "code",
   "execution_count": null,
   "metadata": {},
   "outputs": [],
   "source": [
    "468*4 "
   ]
  },
  {
   "cell_type": "code",
   "execution_count": null,
   "metadata": {},
   "outputs": [],
   "source": [
    "469*4"
   ]
  },
  {
   "cell_type": "code",
   "execution_count": null,
   "metadata": {},
   "outputs": [],
   "source": []
  }
 ],
 "metadata": {
  "kernelspec": {
   "display_name": "Python 3.8.9 64-bit",
   "language": "python",
   "name": "python3"
  },
  "language_info": {
   "codemirror_mode": {
    "name": "ipython",
    "version": 3
   },
   "file_extension": ".py",
   "mimetype": "text/x-python",
   "name": "python",
   "nbconvert_exporter": "python",
   "pygments_lexer": "ipython3",
   "version": "3.8.9"
  },
  "orig_nbformat": 4,
  "vscode": {
   "interpreter": {
    "hash": "31f2aee4e71d21fbe5cf8b01ff0e069b9275f58929596ceb00d14d90e3e16cd6"
   }
  }
 },
 "nbformat": 4,
 "nbformat_minor": 2
}
