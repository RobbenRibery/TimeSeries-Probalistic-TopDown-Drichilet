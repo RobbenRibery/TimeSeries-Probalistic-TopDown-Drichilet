{
 "cells": [
  {
   "cell_type": "code",
   "execution_count": 157,
   "metadata": {},
   "outputs": [
    {
     "name": "stdout",
     "output_type": "stream",
     "text": [
      "The autoreload extension is already loaded. To reload it, use:\n",
      "  %reload_ext autoreload\n"
     ]
    }
   ],
   "source": [
    "\n",
    "%load_ext autoreload\n",
    "%autoreload 2\n",
    "\n",
    "import torch \n",
    "import numpy as np \n",
    "from dirichlet import * \n",
    "import torch\n",
    "import numpy as np\n",
    "import matplotlib.pyplot as plt\n",
    "%matplotlib inline\n",
    "import matplotlib.tri as tri \n",
    "import pyro.distributions as dist \n",
    "from pyro.contrib.forecast import eval_crps "
   ]
  },
  {
   "cell_type": "code",
   "execution_count": 158,
   "metadata": {},
   "outputs": [],
   "source": [
    "corners = np.array([[0, 0], [1, 0], [0.5, 0.75**0.5]])\n",
    "AREA = 0.5 * 1 * 0.75**0.5\n",
    "triangle = tri.Triangulation(corners[:, 0], corners[:, 1])"
   ]
  },
  {
   "cell_type": "code",
   "execution_count": 159,
   "metadata": {},
   "outputs": [],
   "source": [
    "# For each corner of the triangle, the pair of other corners\n",
    "pairs = [corners[np.roll(range(3), -i)[1:]] for i in range(3)]\n",
    "# The area of the triangle formed by point xy and another pair or points\n",
    "tri_area = lambda xy, pair: 0.5 * np.linalg.norm(np.cross(*(pair - xy)))\n",
    "\n",
    "def xy2bc(xy, tol=1.e-4):\n",
    "    '''Converts 2D Cartesian coordinates to barycentric.'''\n",
    "    coords = np.array([tri_area(xy, p) for p in pairs]) / AREA\n",
    "    return np.clip(coords, tol, 1.0 - tol)"
   ]
  },
  {
   "cell_type": "code",
   "execution_count": 162,
   "metadata": {},
   "outputs": [],
   "source": [
    "class Dirichlet_exp(object):\n",
    "    def __init__(self, alpha):\n",
    "        from math import gamma\n",
    "        from operator import mul\n",
    "        self._alpha = np.array(alpha)\n",
    "        self._coef = gamma(np.sum(self._alpha)) / \\\n",
    "                           np.multiply.reduce([gamma(a) for a in self._alpha])\n",
    "    def pdf(self, x):\n",
    "        '''Returns pdf value for `x`.'''\n",
    "        from operator import mul\n",
    "        return self._coef * np.multiply.reduce([xx ** (aa - 1)\n",
    "                                               for (xx, aa)in zip(x, self._alpha)])\n",
    "\n",
    "def draw_pdf_contours(dist, nlevels=200, subdiv=8, **kwargs):\n",
    "    import math\n",
    "\n",
    "    refiner = tri.UniformTriRefiner(triangle)\n",
    "    trimesh = refiner.refine_triangulation(subdiv=subdiv)\n",
    "    pvals = [dist.pdf(xy2bc(xy)) for xy in zip(trimesh.x, trimesh.y)]\n",
    "\n",
    "    plt.tricontourf(trimesh, pvals, nlevels, cmap='jet', **kwargs)\n",
    "    plt.axis('equal')\n",
    "    plt.xlim(0, 1)\n",
    "    plt.ylim(0, 0.75**0.5)\n",
    "    plt.axis('off')"
   ]
  },
  {
   "cell_type": "code",
   "execution_count": 170,
   "metadata": {},
   "outputs": [
    {
     "name": "stdout",
     "output_type": "stream",
     "text": [
      "torch.Size([7, 3])\n"
     ]
    },
    {
     "data": {
      "text/plain": [
       "tensor([-3.6606, -0.3697,  0.3781,  0.4463,     inf,  0.5146,  0.5443])"
      ]
     },
     "execution_count": 170,
     "metadata": {},
     "output_type": "execute_result"
    }
   ],
   "source": [
    "input = torch.tensor(\n",
    "    [\n",
    "        [1.3955, 4.0055, 0.4982],\n",
    "        [0.9365, 1.7348, 0.6538],\n",
    "        [0.8418, 1.1311, 0.8694],\n",
    "        [0.7831, 0.9672, 1.0033],\n",
    "        [0.7733, 0.9115, 1.0390],\n",
    "        [0.7841, 0.8904, 1.0234],\n",
    "        [0.8023, 0.8820, 0.9917]\n",
    "    ]\n",
    ")\n",
    "print(input.shape)\n",
    "\n",
    "drichilet = dist.Dirichlet(concentration=input)\n",
    "\n",
    "target = torch.tensor(\n",
    "    [\n",
    "        [0.6423, 0.1130, 0.2447],\n",
    "        [0.6529, 0.1083, 0.2388],\n",
    "        [0.6555, 0.1102, 0.2343],\n",
    "        [0.6846, 0.0941, 0.2213],\n",
    "        [0.9286, 0.0000, 0.0714],\n",
    "        [0.5860, 0.1297, 0.2843],\n",
    "        [0.6083, 0.1157, 0.2760]\n",
    "    ]\n",
    ")\n",
    "\n",
    "# value = 1e-08\n",
    "\n",
    "# target += value\n",
    "# print(target.shape)\n",
    "\n",
    "drichilet.log_prob(target)"
   ]
  },
  {
   "cell_type": "markdown",
   "metadata": {},
   "source": [
    "- Algo requirments: \n",
    "    - scan through the 2 dimensional tensor and find places where the number is smaller than 1e-08 or larger than 1-1e-08"
   ]
  },
  {
   "cell_type": "code",
   "execution_count": 188,
   "metadata": {},
   "outputs": [],
   "source": [
    "## GET LOSS V1 \n",
    "def get_loss(output:torch.tensor, target:torch.tensor, epsilon:float = 1e-08, threshold: float = 1e-08):\n",
    "\n",
    "    drichilet = dist.Dirichlet(concentration=output)\n",
    "    # output \n",
    "    # print(f\"the batch shape is {output.shape[:-1]}\")\n",
    "    # print(f\"the event shape is {output.shape[-1:]}\")\n",
    "    # print(drichilet)\n",
    "\n",
    "    # target += epsilon\n",
    "    # print(target.shape) \n",
    "    # print(target)\n",
    "    \n",
    "    # scan greater values \n",
    "    row_indexs = (target >= 1-threshold).nonzero()[:,0]\n",
    "    col_indexs = (target >= 1-threshold).nonzero()[:,1]\n",
    "\n",
    "    for i in range(len(row_indexs)): \n",
    "        target[row_indexs[i],col_indexs[i]] -= epsilon\n",
    "\n",
    "        target[row_indexs[i],0:col_indexs[i]] += epsilon/2\n",
    "        target[row_indexs[i],col_indexs[i]+1:] += epsilon/2\n",
    "    print(target)\n",
    "    \n",
    "    # scan smaller values \n",
    "    row_indexs = (target <= threshold).nonzero()[:,0]\n",
    "    col_indexs = (target <= threshold).nonzero()[:,1]\n",
    "\n",
    "    for i in range(len(row_indexs)): \n",
    "        target[row_indexs[i],col_indexs[i]] += epsilon\n",
    "\n",
    "        target[row_indexs[i],0:col_indexs[i]] -= epsilon/2\n",
    "        target[row_indexs[i],col_indexs[i]+1:] -= epsilon/2\n",
    "    \n",
    "    print(target)\n",
    "    print(target.shape)\n",
    "    print(output.shape)\n",
    "    # print(target.sum(dim=1))\n",
    "\n",
    "    loss = drichilet.log_prob(target)\n",
    "    loss_sum = loss.sum(-1)\n",
    "\n",
    "    return -loss_sum"
   ]
  },
  {
   "cell_type": "code",
   "execution_count": 189,
   "metadata": {},
   "outputs": [],
   "source": [
    "input = torch.tensor(\n",
    "    [\n",
    "        [1.3955, 4.0055, 0.4982],\n",
    "        [0.9365, 1.7348, 0.6538],\n",
    "        [0.8418, 1.1311, 0.8694],\n",
    "        [0.7831, 0.9672, 1.0033],\n",
    "        [0.7733, 0.9115, 1.0390],\n",
    "        [0.7841, 0.8904, 1.0234],\n",
    "        [0.8023, 0.8820, 0.9917]\n",
    "    ]\n",
    ")\n",
    "\n",
    "target = torch.tensor(\n",
    "    [\n",
    "        [0.6423, 0.1130, 0.2447],\n",
    "        [0.6529, 0.1083, 0.2388],\n",
    "        [0.6555, 0.1102, 0.2343],\n",
    "        [0.6846, 0.0941, 0.2213],\n",
    "        [1, 0, 0],\n",
    "        [0.5860, 0.1297, 0.2843],\n",
    "        [0.6083, 0.1157, 0.2760]\n",
    "    ]\n",
    ")"
   ]
  },
  {
   "cell_type": "code",
   "execution_count": 190,
   "metadata": {},
   "outputs": [
    {
     "name": "stdout",
     "output_type": "stream",
     "text": [
      "tensor([[6.4230e-01, 1.1300e-01, 2.4470e-01],\n",
      "        [6.5290e-01, 1.0830e-01, 2.3880e-01],\n",
      "        [6.5550e-01, 1.1020e-01, 2.3430e-01],\n",
      "        [6.8460e-01, 9.4100e-02, 2.2130e-01],\n",
      "        [1.0000e+00, 5.0000e-08, 5.0000e-08],\n",
      "        [5.8600e-01, 1.2970e-01, 2.8430e-01],\n",
      "        [6.0830e-01, 1.1570e-01, 2.7600e-01]])\n",
      "tensor([[6.4230e-01, 1.1300e-01, 2.4470e-01],\n",
      "        [6.5290e-01, 1.0830e-01, 2.3880e-01],\n",
      "        [6.5550e-01, 1.1020e-01, 2.3430e-01],\n",
      "        [6.8460e-01, 9.4100e-02, 2.2130e-01],\n",
      "        [1.0000e+00, 5.0000e-08, 5.0000e-08],\n",
      "        [5.8600e-01, 1.2970e-01, 2.8430e-01],\n",
      "        [6.0830e-01, 1.1570e-01, 2.7600e-01]])\n",
      "torch.Size([7, 3])\n",
      "torch.Size([7, 3])\n"
     ]
    },
    {
     "data": {
      "text/plain": [
       "tensor(1.0761)"
      ]
     },
     "execution_count": 190,
     "metadata": {},
     "output_type": "execute_result"
    }
   ],
   "source": [
    "get_loss(output=input, target=target, epsilon=1e-07, threshold = 1e-08)"
   ]
  },
  {
   "cell_type": "code",
   "execution_count": 163,
   "metadata": {},
   "outputs": [
    {
     "data": {
      "image/png": "[encoded data removed]",
      "text/plain": [
       "<Figure size 432x288 with 1 Axes>"
      ]
     },
     "metadata": {
      "needs_background": "light"
     },
     "output_type": "display_data"
    }
   ],
   "source": [
    "draw_pdf_contours(Dirichlet_exp(alpha = input[4]))"
   ]
  },
  {
   "cell_type": "code",
   "execution_count": 5,
   "metadata": {},
   "outputs": [
    {
     "name": "stdout",
     "output_type": "stream",
     "text": [
      "torch.Size([7, 3])\n",
      "torch.Size([7, 3])\n"
     ]
    },
    {
     "data": {
      "text/plain": [
       "tensor([1.3975, 1.0940, 0.9886, 0.9475, 0.8947, 0.8240, 0.7980])"
      ]
     },
     "execution_count": 5,
     "metadata": {},
     "output_type": "execute_result"
    }
   ],
   "source": [
    "## by Pyro\n",
    "input = torch.tensor(\n",
    "    [[2.5335, 1.0041, 0.7144],\n",
    "    [1.6092, 0.8942, 0.5548],\n",
    "    [1.2650, 0.8000, 0.5933],\n",
    "    [1.0805, 0.7738, 0.6637],\n",
    "    [0.9782, 0.7739, 0.7240],\n",
    "    [0.9198, 0.7838, 0.7656],\n",
    "    [0.8854, 0.7958, 0.7913]]\n",
    ")\n",
    "print(input.shape)\n",
    "\n",
    "drichilet = dist.Dirichlet(concentration=input)\n",
    "\n",
    "target = torch.tensor(\n",
    "    [[0.6655, 0.1367, 0.1978],\n",
    "    [0.7197, 0.0738, 0.2065],\n",
    "    [0.7093, 0.0834, 0.2073],\n",
    "    [0.7244, 0.0801, 0.1955],\n",
    "    [0.7356, 0.0760, 0.1884],\n",
    "    [0.7345, 0.0790, 0.1865],\n",
    "    [0.7429, 0.0701, 0.1870]]\n",
    ")\n",
    "\n",
    "value = 1e-08\n",
    "\n",
    "target += value\n",
    "print(target.shape)\n",
    "\n",
    "drichilet.log_prob(target)"
   ]
  },
  {
   "cell_type": "code",
   "execution_count": 6,
   "metadata": {},
   "outputs": [
    {
     "name": "stdout",
     "output_type": "stream",
     "text": [
      "2.3538526683702e+17\n"
     ]
    }
   ],
   "source": [
    "loss = -40 \n",
    "log_likelihood = 40 \n",
    "pdf = np.exp(log_likelihood)\n",
    "print(pdf)"
   ]
  },
  {
   "cell_type": "code",
   "execution_count": 7,
   "metadata": {},
   "outputs": [
    {
     "name": "stdout",
     "output_type": "stream",
     "text": [
      "torch.Size([7, 3])\n"
     ]
    },
    {
     "data": {
      "text/plain": [
       "tensor([-0.6118, -0.5378, -0.5531, -0.5392, -0.5271, -0.5302, -0.5164])"
      ]
     },
     "execution_count": 7,
     "metadata": {},
     "output_type": "execute_result"
    }
   ],
   "source": [
    "## by Pyro\n",
    "input = torch.tensor(\n",
    "    [[2.5335, 1.0041, 0.7144],\n",
    "    [1.6092, 0.8942, 0.5548],\n",
    "    [1.2650, 0.8000, 0.5933],\n",
    "    [1.0805, 0.7738, 0.6637],\n",
    "    [0.9782, 0.7739, 0.7240],\n",
    "    [0.9198, 0.7838, 0.7656],\n",
    "    [0.8854, 0.7958, 0.7913]]\n",
    ")\n",
    "\n",
    "\n",
    "target = torch.tensor(\n",
    "    [[0.6655, 0.1367, 0.1978],\n",
    "    [0.7197, 0.0738, 0.2065],\n",
    "    [0.7093, 0.0834, 0.2073],\n",
    "    [0.7244, 0.0801, 0.1955],\n",
    "    [0.7356, 0.0760, 0.1884],\n",
    "    [0.7345, 0.0790, 0.1865],\n",
    "    [0.7429, 0.0701, 0.1870]]\n",
    ")\n",
    "\n",
    "\n",
    "\n",
    "drichilet = dist.Dirichlet(concentration=target)\n",
    "\n",
    "\n",
    "value = 1e-08\n",
    "\n",
    "target += value\n",
    "print(target.shape)\n",
    "\n",
    "drichilet.log_prob(target)"
   ]
  },
  {
   "cell_type": "code",
   "execution_count": null,
   "metadata": {},
   "outputs": [],
   "source": [
    "Dirichlet"
   ]
  },
  {
   "cell_type": "code",
   "execution_count": 99,
   "metadata": {},
   "outputs": [
    {
     "name": "stdout",
     "output_type": "stream",
     "text": [
      "tensor([[0.5000, 0.2000, 0.3000],\n",
      "        [1.0000, 0.0000, 0.0000],\n",
      "        [1.0000, 0.0000, 0.0000]])\n",
      "tensor([-0.8417,     inf,     inf])\n",
      "row indexes: tensor([1, 2])\n",
      "col indexes: tensor([0, 0])\n",
      "tensor([[5.0000e-01, 2.0000e-01, 3.0000e-01],\n",
      "        [9.9999e-01, 5.0000e-06, 5.0000e-06],\n",
      "        [9.9999e-01, 5.0000e-06, 5.0000e-06]])\n",
      "tensor([1., 1., 1.])\n",
      "tensor([-8.4167e-01,  1.0817e+03,  1.9985e+03])\n"
     ]
    }
   ],
   "source": [
    "## by Pyro\n",
    "input = torch.tensor(\n",
    "    [\n",
    "        [2.5335, 1.0041, 0.7144],\n",
    "        [200, 100, 10,],\n",
    "        [200, 100, 100,],\n",
    "    ]\n",
    ")\n",
    "\n",
    "drichilet = dist.Dirichlet(concentration=input)\n",
    "\n",
    "target = torch.tensor(\n",
    "    [[0.5,0.2, 0.3],\n",
    "    [1.0, 0., 0.],\n",
    "    [1.0, 0., 0.],\n",
    "    ]\n",
    ")\n",
    "\n",
    "print(target)\n",
    "\n",
    "epsilon = 1e-08\n",
    "\n",
    "print(-drichilet.log_prob(target)) \n",
    "\n",
    "indexs = (target >= 0.99).nonzero()\n",
    "row_indexs = (target >= 0.99).nonzero()[:,0]\n",
    "print (f\"row indexes: {row_indexs}\")\n",
    "col_indexs = (target >= 0.99).nonzero()[:,1]\n",
    "print (f\"col indexes: {col_indexs}\")\n",
    "\n",
    "epsilon = 1e-05\n",
    "for i in range(len(row_indexs)): \n",
    "    target[row_indexs[i],col_indexs[i]] -= epsilon\n",
    "\n",
    "    target[row_indexs[i],0:col_indexs[i]] += epsilon/2\n",
    "    target[row_indexs[i],col_indexs[i]+1:] += epsilon/2\n",
    "\n",
    "print(target)\n",
    "print(target.sum(dim=1))\n",
    "\n",
    "print(-drichilet.log_prob(target))"
   ]
  },
  {
   "cell_type": "code",
   "execution_count": 93,
   "metadata": {},
   "outputs": [
    {
     "name": "stdout",
     "output_type": "stream",
     "text": [
      "tensor([0.5000])\n",
      "tensor([0.3000])\n"
     ]
    }
   ],
   "source": [
    "print(target[0,0:1])\n",
    "print(target[0,1+1:])"
   ]
  },
  {
   "cell_type": "code",
   "execution_count": 54,
   "metadata": {},
   "outputs": [
    {
     "data": {
      "text/plain": [
       "tensor([[5.0000e-01, 2.0000e-01, 3.0000e-01],\n",
       "        [9.9990e-01, 5.0010e-05, 5.0010e-05],\n",
       "        [9.9999e-01, 5.0100e-06, 5.0100e-06]])"
      ]
     },
     "execution_count": 54,
     "metadata": {},
     "output_type": "execute_result"
    }
   ],
   "source": [
    "target"
   ]
  },
  {
   "cell_type": "code",
   "execution_count": 55,
   "metadata": {},
   "outputs": [
    {
     "data": {
      "text/plain": [
       "tensor([[5.0000e-01, 2.0000e-01, 3.0000e-01],\n",
       "        [9.9990e-01, 5.0010e-05, 5.0010e-05],\n",
       "        [9.9999e-01, 5.0100e-06, 5.0100e-06]])"
      ]
     },
     "execution_count": 55,
     "metadata": {},
     "output_type": "execute_result"
    }
   ],
   "source": [
    "target"
   ]
  },
  {
   "cell_type": "code",
   "execution_count": 56,
   "metadata": {},
   "outputs": [
    {
     "data": {
      "text/plain": [
       "tensor([[0, 0],\n",
       "        [0, 1],\n",
       "        [0, 2],\n",
       "        [1, 0],\n",
       "        [1, 1],\n",
       "        [1, 2],\n",
       "        [2, 0],\n",
       "        [2, 1],\n",
       "        [2, 2]])"
      ]
     },
     "execution_count": 56,
     "metadata": {},
     "output_type": "execute_result"
    }
   ],
   "source": [
    "target.nonzero()"
   ]
  },
  {
   "cell_type": "code",
   "execution_count": 68,
   "metadata": {},
   "outputs": [
    {
     "name": "stdout",
     "output_type": "stream",
     "text": [
      "row indexes: tensor([1, 2])\n",
      "col indexes: tensor([0, 0])\n"
     ]
    }
   ],
   "source": [
    "indexs = (target >= 0.99).nonzero()\n",
    "row_indexs = (target >= 0.99).nonzero()[:,0]\n",
    "print (f\"row indexes: {row_indexs}\")\n",
    "col_indexs = (target >= 0.99).nonzero()[:,1]\n",
    "print (f\"col indexes: {col_indexs}\")"
   ]
  },
  {
   "cell_type": "code",
   "execution_count": 78,
   "metadata": {},
   "outputs": [],
   "source": [
    "epsilon = 1e-05\n",
    "target[row_indexs,col_indexs] -= epsilon \n",
    "target[row_indexs,~col_indexs] += epsilon/2"
   ]
  },
  {
   "cell_type": "code",
   "execution_count": 76,
   "metadata": {},
   "outputs": [
    {
     "data": {
      "text/plain": [
       "tensor([[5.0000e-01, 2.0000e-01, 3.0000e-01],\n",
       "        [9.9880e-01, 5.0010e-05, 6.0001e-04],\n",
       "        [9.9889e-01, 5.0100e-06, 5.5501e-04]])"
      ]
     },
     "execution_count": 76,
     "metadata": {},
     "output_type": "execute_result"
    }
   ],
   "source": [
    "target"
   ]
  },
  {
   "cell_type": "code",
   "execution_count": 77,
   "metadata": {},
   "outputs": [
    {
     "ename": "ValueError",
     "evalue": "Expected value argument (Tensor of shape (3, 3)) to be within the support (Simplex()) of the distribution Dirichlet(concentration: torch.Size([3, 3])), but found invalid values:\ntensor([[5.0000e-01, 2.0000e-01, 3.0000e-01],\n        [9.9880e-01, 5.0010e-05, 6.0001e-04],\n        [9.9889e-01, 5.0100e-06, 5.5501e-04]])",
     "output_type": "error",
     "traceback": [
      "\u001b[0;31m---------------------------------------------------------------------------\u001b[0m",
      "\u001b[0;31mValueError\u001b[0m                                Traceback (most recent call last)",
      "\u001b[1;32m/Users/ericliu/Desktop/ML-Side Project/TS Forecasting/ML-Side-Project-HTS-Forecasting/src/test.ipynb Cell 14\u001b[0m in \u001b[0;36m<cell line: 1>\u001b[0;34m()\u001b[0m\n\u001b[0;32m----> <a href='vscode-notebook-cell:/Users/ericliu/Desktop/ML-Side%20Project/TS%20Forecasting/ML-Side-Project-HTS-Forecasting/src/test.ipynb#X65sZmlsZQ%3D%3D?line=0'>1</a>\u001b[0m \u001b[39mprint\u001b[39m(\u001b[39m-\u001b[39mdrichilet\u001b[39m.\u001b[39;49mlog_prob(target))\n",
      "File \u001b[0;32m~/Library/Python/3.8/lib/python/site-packages/torch/distributions/dirichlet.py:69\u001b[0m, in \u001b[0;36mDirichlet.log_prob\u001b[0;34m(self, value)\u001b[0m\n\u001b[1;32m     67\u001b[0m \u001b[39mdef\u001b[39;00m \u001b[39mlog_prob\u001b[39m(\u001b[39mself\u001b[39m, value):\n\u001b[1;32m     68\u001b[0m     \u001b[39mif\u001b[39;00m \u001b[39mself\u001b[39m\u001b[39m.\u001b[39m_validate_args:\n\u001b[0;32m---> 69\u001b[0m         \u001b[39mself\u001b[39;49m\u001b[39m.\u001b[39;49m_validate_sample(value)\n\u001b[1;32m     70\u001b[0m     \u001b[39mreturn\u001b[39;00m ((torch\u001b[39m.\u001b[39mlog(value) \u001b[39m*\u001b[39m (\u001b[39mself\u001b[39m\u001b[39m.\u001b[39mconcentration \u001b[39m-\u001b[39m \u001b[39m1.0\u001b[39m))\u001b[39m.\u001b[39msum(\u001b[39m-\u001b[39m\u001b[39m1\u001b[39m) \u001b[39m+\u001b[39m\n\u001b[1;32m     71\u001b[0m             torch\u001b[39m.\u001b[39mlgamma(\u001b[39mself\u001b[39m\u001b[39m.\u001b[39mconcentration\u001b[39m.\u001b[39msum(\u001b[39m-\u001b[39m\u001b[39m1\u001b[39m)) \u001b[39m-\u001b[39m\n\u001b[1;32m     72\u001b[0m             torch\u001b[39m.\u001b[39mlgamma(\u001b[39mself\u001b[39m\u001b[39m.\u001b[39mconcentration)\u001b[39m.\u001b[39msum(\u001b[39m-\u001b[39m\u001b[39m1\u001b[39m))\n",
      "File \u001b[0;32m~/Library/Python/3.8/lib/python/site-packages/torch/distributions/distribution.py:286\u001b[0m, in \u001b[0;36mDistribution._validate_sample\u001b[0;34m(self, value)\u001b[0m\n\u001b[1;32m    284\u001b[0m valid \u001b[39m=\u001b[39m support\u001b[39m.\u001b[39mcheck(value)\n\u001b[1;32m    285\u001b[0m \u001b[39mif\u001b[39;00m \u001b[39mnot\u001b[39;00m valid\u001b[39m.\u001b[39mall():\n\u001b[0;32m--> 286\u001b[0m     \u001b[39mraise\u001b[39;00m \u001b[39mValueError\u001b[39;00m(\n\u001b[1;32m    287\u001b[0m         \u001b[39m\"\u001b[39m\u001b[39mExpected value argument \u001b[39m\u001b[39m\"\u001b[39m\n\u001b[1;32m    288\u001b[0m         \u001b[39mf\u001b[39m\u001b[39m\"\u001b[39m\u001b[39m(\u001b[39m\u001b[39m{\u001b[39;00m\u001b[39mtype\u001b[39m(value)\u001b[39m.\u001b[39m\u001b[39m__name__\u001b[39m\u001b[39m}\u001b[39;00m\u001b[39m of shape \u001b[39m\u001b[39m{\u001b[39;00m\u001b[39mtuple\u001b[39m(value\u001b[39m.\u001b[39mshape)\u001b[39m}\u001b[39;00m\u001b[39m) \u001b[39m\u001b[39m\"\u001b[39m\n\u001b[1;32m    289\u001b[0m         \u001b[39mf\u001b[39m\u001b[39m\"\u001b[39m\u001b[39mto be within the support (\u001b[39m\u001b[39m{\u001b[39;00m\u001b[39mrepr\u001b[39m(support)\u001b[39m}\u001b[39;00m\u001b[39m) \u001b[39m\u001b[39m\"\u001b[39m\n\u001b[1;32m    290\u001b[0m         \u001b[39mf\u001b[39m\u001b[39m\"\u001b[39m\u001b[39mof the distribution \u001b[39m\u001b[39m{\u001b[39;00m\u001b[39mrepr\u001b[39m(\u001b[39mself\u001b[39m)\u001b[39m}\u001b[39;00m\u001b[39m, \u001b[39m\u001b[39m\"\u001b[39m\n\u001b[1;32m    291\u001b[0m         \u001b[39mf\u001b[39m\u001b[39m\"\u001b[39m\u001b[39mbut found invalid values:\u001b[39m\u001b[39m\\n\u001b[39;00m\u001b[39m{\u001b[39;00mvalue\u001b[39m}\u001b[39;00m\u001b[39m\"\u001b[39m\n\u001b[1;32m    292\u001b[0m     )\n",
      "\u001b[0;31mValueError\u001b[0m: Expected value argument (Tensor of shape (3, 3)) to be within the support (Simplex()) of the distribution Dirichlet(concentration: torch.Size([3, 3])), but found invalid values:\ntensor([[5.0000e-01, 2.0000e-01, 3.0000e-01],\n        [9.9880e-01, 5.0010e-05, 6.0001e-04],\n        [9.9889e-01, 5.0100e-06, 5.5501e-04]])"
     ]
    }
   ],
   "source": [
    "print(-drichilet.log_prob(target))"
   ]
  },
  {
   "cell_type": "code",
   "execution_count": 64,
   "metadata": {},
   "outputs": [
    {
     "data": {
      "text/plain": [
       "tensor(5.0010e-05)"
      ]
     },
     "execution_count": 64,
     "metadata": {},
     "output_type": "execute_result"
    }
   ],
   "source": [
    "target[row_indexs[0],~col_indexs[0]]"
   ]
  },
  {
   "cell_type": "code",
   "execution_count": 51,
   "metadata": {},
   "outputs": [
    {
     "data": {
      "text/plain": [
       "tensor([[1., 1., 1.],\n",
       "        [1., 1., 1.],\n",
       "        [1., 1., 1.]])"
      ]
     },
     "execution_count": 51,
     "metadata": {},
     "output_type": "execute_result"
    }
   ],
   "source": [
    "row_indexs = (target >= 0.99).nonzero()[:,0]\n",
    "col_indexs = (target >= 0.99).nonzero()[:,1]\n",
    "\n",
    "(target >= 0.99)"
   ]
  },
  {
   "cell_type": "code",
   "execution_count": 25,
   "metadata": {},
   "outputs": [
    {
     "data": {
      "text/plain": [
       "(tensor([1]), tensor([0]))"
      ]
     },
     "execution_count": 25,
     "metadata": {},
     "output_type": "execute_result"
    }
   ],
   "source": [
    "(target >= 0.99).nonzero(as_tuple=True)"
   ]
  },
  {
   "cell_type": "code",
   "execution_count": 11,
   "metadata": {},
   "outputs": [
    {
     "data": {
      "text/plain": [
       "tensor([ 0.8417, 10.4662])"
      ]
     },
     "execution_count": 11,
     "metadata": {},
     "output_type": "execute_result"
    }
   ],
   "source": [
    "drichilet_2 = Dirichlet(concentration=input)\n",
    "target = torch.tensor(\n",
    "    [[0.5,0.2, 0.3],[1.0, 0., 0.]]\n",
    ")\n",
    "\n",
    "drichilet_2.log_prob(target, value)"
   ]
  },
  {
   "cell_type": "code",
   "execution_count": 12,
   "metadata": {},
   "outputs": [
    {
     "name": "stdout",
     "output_type": "stream",
     "text": [
      "<class 'pyro.distributions.torch.Dirichlet'>\n"
     ]
    }
   ],
   "source": [
    "input = torch.tensor(\n",
    "    [0.5,0.2, 0.3]\n",
    ")\n",
    "inference_drichilet = dist.Dirichlet(concentration=input)\n",
    "val_target_tensor = torch.tensor(\n",
    "    [0.5,0.2, 0.3]\n",
    ")\n",
    "print(type(inference_drichilet))"
   ]
  },
  {
   "cell_type": "code",
   "execution_count": null,
   "metadata": {},
   "outputs": [],
   "source": [
    "#eval_crps -\n",
    "\n",
    "## step 1: geenrate n_samples of the target from the empirical distrbution, (parameterised by the output)\n",
    "## step 2: compute the divergence between two distributions (1 == empircal ; 2 = observed values (cdf = step fucniton))"
   ]
  },
  {
   "cell_type": "code",
   "execution_count": 13,
   "metadata": {},
   "outputs": [
    {
     "data": {
      "image/png": "[encoded data removed]",
      "text/plain": [
       "<Figure size 432x288 with 1 Axes>"
      ]
     },
     "metadata": {
      "needs_background": "light"
     },
     "output_type": "display_data"
    }
   ],
   "source": [
    "crps = []\n",
    "n_samples = 200\n",
    "for i in range(1,n_samples):\n",
    "    samples = inference_drichilet.sample([i])\n",
    "    crps.append(eval_crps(samples, val_target_tensor))\n",
    "    \n",
    "plt.figure()\n",
    "plt.plot(\n",
    "    list(range(1,n_samples)),\n",
    "    crps\n",
    ")\n",
    "plt.show()\n",
    "\n",
    "#samples"
   ]
  },
  {
   "cell_type": "code",
   "execution_count": 110,
   "metadata": {},
   "outputs": [
    {
     "name": "stdout",
     "output_type": "stream",
     "text": [
      "Overwriting test_plot.py\n"
     ]
    }
   ],
   "source": [
    "%%writefile test_plot.py \n",
    "import matplotlib.pyplot as plt\n",
    "import numpy as np\n",
    "\n",
    "def main():\n",
    "    # Some example data to display\n",
    "    x = np.linspace(0, 2 * np.pi, 400)\n",
    "    y = np.sin(x ** 2) \n",
    "\n",
    "    fig, ax = plt.subplots()\n",
    "    ax.set_title('A single plot')\n",
    "    ax.plot(x, y)\n",
    "\n",
    "    return fig "
   ]
  },
  {
   "cell_type": "code",
   "execution_count": 111,
   "metadata": {},
   "outputs": [
    {
     "data": {
      "image/png": "[encoded data removed]",
      "text/plain": [
       "<Figure size 432x288 with 1 Axes>"
      ]
     },
     "execution_count": 111,
     "metadata": {},
     "output_type": "execute_result"
    },
    {
     "data": {
      "image/png": "[encoded data removed]",
      "text/plain": [
       "<Figure size 432x288 with 1 Axes>"
      ]
     },
     "metadata": {
      "needs_background": "light"
     },
     "output_type": "display_data"
    }
   ],
   "source": [
    "import test_plot \n",
    "\n",
    "test_plot.main()"
   ]
  },
  {
   "cell_type": "code",
   "execution_count": 114,
   "metadata": {},
   "outputs": [
    {
     "data": {
      "image/png": "[encoded data removed]",
      "text/plain": [
       "<Figure size 432x288 with 3 Axes>"
      ]
     },
     "metadata": {
      "needs_background": "light"
     },
     "output_type": "display_data"
    }
   ],
   "source": [
    "import matplotlib.pyplot as plt\n",
    "import numpy as np\n",
    "import math\n",
    "  \n",
    "# Placing the plots in the plane\n",
    "plot1 = plt.subplot2grid((3, 3), (0, 0), colspan=2)\n",
    "plot2 = plt.subplot2grid((3, 3), (0, 2), rowspan=3, colspan=2)\n",
    "plot3 = plt.subplot2grid((3, 3), (1, 0), rowspan=2)\n",
    "  \n",
    "# Using Numpy to create an array x\n",
    "x = np.arange(1, 10)\n",
    "  \n",
    "# Plot for square root\n",
    "plot2.plot(x, x**0.5)\n",
    "plot2.set_title('Square Root')\n",
    "  \n",
    "# Plot for exponent\n",
    "plot1.plot(x, np.exp(x))\n",
    "plot1.set_title('Exponent')\n",
    "  \n",
    "# Plot for Square\n",
    "plot3.plot(x, x*x)\n",
    "plot3.set_title('Square')\n",
    "  \n",
    "# Packing all the plots and displaying them\n",
    "plt.tight_layout()\n",
    "plt.show()"
   ]
  },
  {
   "cell_type": "code",
   "execution_count": 125,
   "metadata": {},
   "outputs": [
    {
     "data": {
      "text/plain": [
       "<AxesSubplot:>"
      ]
     },
     "execution_count": 125,
     "metadata": {},
     "output_type": "execute_result"
    },
    {
     "data": {
      "image/png": "[encoded data removed]",
      "text/plain": [
       "<Figure size 432x288 with 1 Axes>"
      ]
     },
     "metadata": {
      "needs_background": "light"
     },
     "output_type": "display_data"
    }
   ],
   "source": [
    "plt.subplot(2,1,1)\n"
   ]
  },
  {
   "cell_type": "code",
   "execution_count": 131,
   "metadata": {},
   "outputs": [
    {
     "data": {
      "text/plain": [
       "tensor([1.0000, 1.0000, 1.0000, 1.0000, 1.0000, 1.0000, 1.0000, 1.0000, 1.0000,\n",
       "        1.0000, 1.0000, 1.0000, 1.0000, 1.0000, 1.0000, 1.0000, 1.0000, 1.0000,\n",
       "        1.0000, 1.0000, 1.0000, 1.0000, 1.0000, 1.0000, 1.0000, 1.0000, 1.0000,\n",
       "        1.0000, 1.0000, 1.0000, 1.0000, 1.0000, 1.0000, 1.0000, 1.0000, 1.0000,\n",
       "        1.0000, 1.0000, 1.0000, 1.0000, 1.0000, 1.0000, 1.0000, 1.0000, 1.0000,\n",
       "        1.0000, 1.0000, 1.0000, 1.0000, 1.0000, 1.0000, 1.0000, 1.0000, 1.0000,\n",
       "        1.0000, 1.0000, 1.0000, 1.0000, 1.0000, 1.0000, 1.0000, 1.0000, 1.0000,\n",
       "        1.0000, 1.0000, 1.0000, 1.0000, 1.0000, 1.0000, 1.0000, 1.0000, 1.0000,\n",
       "        1.0000, 1.0000, 1.0000, 1.0000, 1.0000, 1.0000, 1.0000, 1.0000, 1.0000,\n",
       "        1.0000, 1.0000, 1.0000, 1.0000, 1.0000, 1.0000, 1.0000, 1.0000, 1.0000,\n",
       "        1.0000, 1.0000, 1.0000, 1.0000, 1.0000, 1.0000, 1.0000, 1.0000, 1.0000,\n",
       "        1.0000, 1.0000, 1.0000, 1.0000, 1.0000, 1.0000, 1.0000, 1.0000, 1.0000,\n",
       "        1.0000, 1.0000, 1.0000, 1.0000, 1.0000, 1.0000, 1.0000, 1.0000, 1.0000,\n",
       "        1.0000, 1.0000, 1.0000, 1.0000, 1.0000, 1.0000, 1.0000, 1.0000, 1.0000,\n",
       "        1.0000, 1.0000, 1.0000, 1.0000, 1.0000, 1.0000, 1.0000, 1.0000, 1.0000,\n",
       "        1.0000, 1.0000, 1.0000, 1.0000, 1.0000, 1.0000, 1.0000, 1.0000, 1.0000,\n",
       "        1.0000, 1.0000, 1.0000, 1.0000, 1.0000, 1.0000, 1.0000, 1.0000, 1.0000,\n",
       "        1.0000, 1.0000, 1.0000, 1.0000, 1.0000, 1.0000, 1.0000, 1.0000, 1.0000,\n",
       "        1.0000, 1.0000, 1.0000, 1.0000, 1.0000, 1.0000, 1.0000, 1.0000, 1.0000,\n",
       "        1.0000, 1.0000, 1.0000, 1.0000, 1.0000, 1.0000, 1.0000, 1.0000, 1.0000,\n",
       "        1.0000, 1.0000, 1.0000, 1.0000, 1.0000, 1.0000, 1.0000, 1.0000, 1.0000,\n",
       "        1.0000, 1.0000, 1.0000, 1.0000, 1.0000, 1.0000, 1.0000, 1.0000, 1.0000,\n",
       "        1.0000])"
      ]
     },
     "execution_count": 131,
     "metadata": {},
     "output_type": "execute_result"
    }
   ],
   "source": [
    "torch.sum(samples, dim = -1)"
   ]
  },
  {
   "cell_type": "code",
   "execution_count": 132,
   "metadata": {},
   "outputs": [
    {
     "data": {
      "text/plain": [
       "0.10883140563964844"
      ]
     },
     "execution_count": 132,
     "metadata": {},
     "output_type": "execute_result"
    }
   ],
   "source": [
    "eval_crps(samples, val_target_tensor)"
   ]
  },
  {
   "cell_type": "code",
   "execution_count": 134,
   "metadata": {},
   "outputs": [
    {
     "data": {
      "text/plain": [
       "tensor([[1.3955, 4.0055, 0.4982],\n",
       "        [0.9365, 1.7348, 0.6538],\n",
       "        [0.8418, 1.1311, 0.8694],\n",
       "        [0.7831, 0.9672, 1.0033],\n",
       "        [0.7733, 0.9115, 1.0390],\n",
       "        [0.7841, 0.8904, 1.0234],\n",
       "        [0.8023, 0.8820, 0.9917]])"
      ]
     },
     "execution_count": 134,
     "metadata": {},
     "output_type": "execute_result"
    }
   ],
   "source": [
    "distributions = Dirichlet(concentration=input)\n",
    "distributions.concentration"
   ]
  },
  {
   "cell_type": "code",
   "execution_count": 135,
   "metadata": {},
   "outputs": [],
   "source": [
    "corners = np.array([[0, 0], [1, 0], [0.5, 0.75**0.5]])\n",
    "AREA = 0.5 * 1 * 0.75**0.5\n",
    "triangle = tri.Triangulation(corners[:, 0], corners[:, 1])"
   ]
  },
  {
   "cell_type": "code",
   "execution_count": 136,
   "metadata": {},
   "outputs": [],
   "source": [
    "# For each corner of the triangle, the pair of other corners\n",
    "pairs = [corners[np.roll(range(3), -i)[1:]] for i in range(3)]\n",
    "# The area of the triangle formed by point xy and another pair or points\n",
    "tri_area = lambda xy, pair: 0.5 * np.linalg.norm(np.cross(*(pair - xy)))\n",
    "\n",
    "def xy2bc(xy, tol=1.e-4):\n",
    "    '''Converts 2D Cartesian coordinates to barycentric.'''\n",
    "    coords = np.array([tri_area(xy, p) for p in pairs]) / AREA\n",
    "    return np.clip(coords, tol, 1.0 - tol)"
   ]
  },
  {
   "cell_type": "code",
   "execution_count": 137,
   "metadata": {},
   "outputs": [],
   "source": [
    "class Dirichlet(object):\n",
    "    def __init__(self, alpha):\n",
    "        from math import gamma\n",
    "        from operator import mul\n",
    "        self._alpha = np.array(alpha)\n",
    "        self._coef = gamma(np.sum(self._alpha)) / \\\n",
    "                           np.multiply.reduce([gamma(a) for a in self._alpha])\n",
    "    def pdf(self, x):\n",
    "        '''Returns pdf value for `x`.'''\n",
    "        from operator import mul\n",
    "        return self._coef * np.multiply.reduce([xx ** (aa - 1)\n",
    "                                               for (xx, aa)in zip(x, self._alpha)])\n",
    "\n",
    "def draw_pdf_contours(dist, nlevels=200, subdiv=8, **kwargs):\n",
    "    import math\n",
    "\n",
    "    refiner = tri.UniformTriRefiner(triangle)\n",
    "    trimesh = refiner.refine_triangulation(subdiv=subdiv)\n",
    "    pvals = [dist.pdf(xy2bc(xy)) for xy in zip(trimesh.x, trimesh.y)]\n",
    "\n",
    "    plt.tricontourf(trimesh, pvals, nlevels, cmap='jet', **kwargs)\n",
    "    plt.axis('equal')\n",
    "    plt.xlim(0, 1)\n",
    "    plt.ylim(0, 0.75**0.5)\n",
    "    plt.axis('off')"
   ]
  },
  {
   "cell_type": "code",
   "execution_count": 138,
   "metadata": {},
   "outputs": [
    {
     "name": "stdout",
     "output_type": "stream",
     "text": [
      "tensor([0.1805, 0.8146, 0.7466])\n",
      "tensor(1.1196)\n",
      "tensor(1.1196)\n"
     ]
    }
   ],
   "source": [
    "a = torch.tensor([0.9036, 0.9208, 0.9173])\n",
    "b = torch.tensor([0.7231, 0.1062, 0.1707]) \n",
    "\n",
    "diff = a-b \n",
    "\n",
    "print(diff)\n",
    "\n",
    "print(torch.norm(a-b,))\n",
    "print(torch.norm(diff,))"
   ]
  },
  {
   "cell_type": "code",
   "execution_count": 139,
   "metadata": {},
   "outputs": [
    {
     "data": {
      "text/plain": [
       "1.119627156691012"
      ]
     },
     "execution_count": 139,
     "metadata": {},
     "output_type": "execute_result"
    }
   ],
   "source": [
    "np.sqrt(0.1805**2 + 0.8146**2 + 0.7466**2)"
   ]
  },
  {
   "cell_type": "code",
   "execution_count": 140,
   "metadata": {},
   "outputs": [
    {
     "data": {
      "text/plain": [
       "[<matplotlib.lines.Line2D at 0x10949a520>]"
      ]
     },
     "execution_count": 140,
     "metadata": {},
     "output_type": "execute_result"
    },
    {
     "data": {
      "image/png": "[encoded data removed]",
      "text/plain": [
       "<Figure size 432x288 with 1 Axes>"
      ]
     },
     "metadata": {
      "needs_background": "light"
     },
     "output_type": "display_data"
    },
    {
     "data": {
      "image/png": "[encoded data removed]",
      "text/plain": [
       "<Figure size 432x288 with 1 Axes>"
      ]
     },
     "metadata": {
      "needs_background": "light"
     },
     "output_type": "display_data"
    },
    {
     "data": {
      "image/png": "[encoded data removed]",
      "text/plain": [
       "<Figure size 432x288 with 1 Axes>"
      ]
     },
     "metadata": {
      "needs_background": "light"
     },
     "output_type": "display_data"
    }
   ],
   "source": [
    "import matplotlib.pyplot as plt \n",
    "plt.figure() \n",
    "plt.plot([1,2,3], [0,1,2], 'rs', )\n",
    "plt.plot([1,2,3,4], [0,1,2,3], 'rs', )\n",
    "\n",
    "plt.figure() \n",
    "plt.plot([1,2,3], [0,1,2], 'rs', )\n",
    "plt.plot([1,2,3,4], [0,1,2,3], 'rs', )\n",
    "\n",
    "\n",
    "\n",
    "plt.figure() \n",
    "plt.plot(1, 2,'rs')"
   ]
  },
  {
   "cell_type": "code",
   "execution_count": 141,
   "metadata": {},
   "outputs": [
    {
     "data": {
      "text/plain": [
       "[0]"
      ]
     },
     "execution_count": 141,
     "metadata": {},
     "output_type": "execute_result"
    }
   ],
   "source": [
    "list(range(0+1))"
   ]
  },
  {
   "cell_type": "code",
   "execution_count": 142,
   "metadata": {},
   "outputs": [],
   "source": [
    "output = [0.8077, 0.7874, 0.7990]\n",
    "target = torch.tensor(\n",
    "    [0.7231, 0.1062, 0.1707]\n",
    ")"
   ]
  },
  {
   "cell_type": "code",
   "execution_count": 143,
   "metadata": {},
   "outputs": [
    {
     "ename": "TypeError",
     "evalue": "tensor() missing 1 required positional arguments: \"data\"",
     "output_type": "error",
     "traceback": [
      "\u001b[0;31m---------------------------------------------------------------------------\u001b[0m",
      "\u001b[0;31mTypeError\u001b[0m                                 Traceback (most recent call last)",
      "\u001b[1;32m/Users/ericliu/Desktop/ML-Side Project/TS Forecasting/ML-Side-Project-HTS-Forecasting/src/test.ipynb Cell 39\u001b[0m in \u001b[0;36m<cell line: 1>\u001b[0;34m()\u001b[0m\n\u001b[0;32m----> <a href='vscode-notebook-cell:/Users/ericliu/Desktop/ML-Side%20Project/TS%20Forecasting/ML-Side-Project-HTS-Forecasting/src/test.ipynb#X32sZmlsZQ%3D%3D?line=0'>1</a>\u001b[0m output \u001b[39m=\u001b[39m  torch\u001b[39m.\u001b[39;49mtensor(\n\u001b[1;32m      <a href='vscode-notebook-cell:/Users/ericliu/Desktop/ML-Side%20Project/TS%20Forecasting/ML-Side-Project-HTS-Forecasting/src/test.ipynb#X32sZmlsZQ%3D%3D?line=1'>2</a>\u001b[0m     \n\u001b[1;32m      <a href='vscode-notebook-cell:/Users/ericliu/Desktop/ML-Side%20Project/TS%20Forecasting/ML-Side-Project-HTS-Forecasting/src/test.ipynb#X32sZmlsZQ%3D%3D?line=2'>3</a>\u001b[0m )\n\u001b[1;32m      <a href='vscode-notebook-cell:/Users/ericliu/Desktop/ML-Side%20Project/TS%20Forecasting/ML-Side-Project-HTS-Forecasting/src/test.ipynb#X32sZmlsZQ%3D%3D?line=3'>4</a>\u001b[0m \u001b[39mprint\u001b[39m(output)\n",
      "\u001b[0;31mTypeError\u001b[0m: tensor() missing 1 required positional arguments: \"data\""
     ]
    }
   ],
   "source": [
    "output =  torch.tensor(\n",
    "    \n",
    ")\n",
    "print(output)"
   ]
  },
  {
   "cell_type": "code",
   "execution_count": 144,
   "metadata": {},
   "outputs": [
    {
     "ename": "AttributeError",
     "evalue": "'Dirichlet' object has no attribute 'rsample'",
     "output_type": "error",
     "traceback": [
      "\u001b[0;31m---------------------------------------------------------------------------\u001b[0m",
      "\u001b[0;31mAttributeError\u001b[0m                            Traceback (most recent call last)",
      "\u001b[1;32m/Users/ericliu/Desktop/ML-Side Project/TS Forecasting/ML-Side-Project-HTS-Forecasting/src/test.ipynb Cell 40\u001b[0m in \u001b[0;36m<cell line: 2>\u001b[0;34m()\u001b[0m\n\u001b[1;32m      <a href='vscode-notebook-cell:/Users/ericliu/Desktop/ML-Side%20Project/TS%20Forecasting/ML-Side-Project-HTS-Forecasting/src/test.ipynb#X33sZmlsZQ%3D%3D?line=0'>1</a>\u001b[0m distribution \u001b[39m=\u001b[39m Dirichlet(output)\n\u001b[0;32m----> <a href='vscode-notebook-cell:/Users/ericliu/Desktop/ML-Side%20Project/TS%20Forecasting/ML-Side-Project-HTS-Forecasting/src/test.ipynb#X33sZmlsZQ%3D%3D?line=1'>2</a>\u001b[0m distribution\u001b[39m.\u001b[39;49mrsample()\n",
      "\u001b[0;31mAttributeError\u001b[0m: 'Dirichlet' object has no attribute 'rsample'"
     ]
    }
   ],
   "source": [
    "distribution = Dirichlet(output)\n",
    "distribution.rsample()"
   ]
  },
  {
   "cell_type": "code",
   "execution_count": 145,
   "metadata": {},
   "outputs": [
    {
     "ename": "AttributeError",
     "evalue": "'Dirichlet' object has no attribute 'log_prob'",
     "output_type": "error",
     "traceback": [
      "\u001b[0;31m---------------------------------------------------------------------------\u001b[0m",
      "\u001b[0;31mAttributeError\u001b[0m                            Traceback (most recent call last)",
      "\u001b[1;32m/Users/ericliu/Desktop/ML-Side Project/TS Forecasting/ML-Side-Project-HTS-Forecasting/src/test.ipynb Cell 41\u001b[0m in \u001b[0;36m<cell line: 1>\u001b[0;34m()\u001b[0m\n\u001b[0;32m----> <a href='vscode-notebook-cell:/Users/ericliu/Desktop/ML-Side%20Project/TS%20Forecasting/ML-Side-Project-HTS-Forecasting/src/test.ipynb#X34sZmlsZQ%3D%3D?line=0'>1</a>\u001b[0m distribution\u001b[39m.\u001b[39;49mlog_prob(target)\n",
      "\u001b[0;31mAttributeError\u001b[0m: 'Dirichlet' object has no attribute 'log_prob'"
     ]
    }
   ],
   "source": [
    "distribution.log_prob(target)"
   ]
  },
  {
   "cell_type": "code",
   "execution_count": 146,
   "metadata": {},
   "outputs": [
    {
     "ename": "AttributeError",
     "evalue": "'Dirichlet' object has no attribute 'sample_n'",
     "output_type": "error",
     "traceback": [
      "\u001b[0;31m---------------------------------------------------------------------------\u001b[0m",
      "\u001b[0;31mAttributeError\u001b[0m                            Traceback (most recent call last)",
      "\u001b[1;32m/Users/ericliu/Desktop/ML-Side Project/TS Forecasting/ML-Side-Project-HTS-Forecasting/src/test.ipynb Cell 42\u001b[0m in \u001b[0;36m<cell line: 1>\u001b[0;34m()\u001b[0m\n\u001b[0;32m----> <a href='vscode-notebook-cell:/Users/ericliu/Desktop/ML-Side%20Project/TS%20Forecasting/ML-Side-Project-HTS-Forecasting/src/test.ipynb#X35sZmlsZQ%3D%3D?line=0'>1</a>\u001b[0m distribution\u001b[39m.\u001b[39;49msample_n(\u001b[39m4\u001b[39m)\n",
      "\u001b[0;31mAttributeError\u001b[0m: 'Dirichlet' object has no attribute 'sample_n'"
     ]
    }
   ],
   "source": [
    "distribution.sample_n(4)"
   ]
  },
  {
   "cell_type": "code",
   "execution_count": 147,
   "metadata": {},
   "outputs": [],
   "source": [
    "import math\n",
    "\n",
    "def lbeta(alpha):\n",
    "    return sum(math.lgamma(a) for a in alpha) - math.lgamma(sum(alpha))\n",
    "\n",
    "def ldirichlet_pdf(alpha, theta):\n",
    "    kernel = sum((a - 1) * math.log(t) for a, t in zip(alpha, theta))\n",
    "    return kernel - lbeta(alpha)\n"
   ]
  },
  {
   "cell_type": "code",
   "execution_count": 148,
   "metadata": {},
   "outputs": [
    {
     "data": {
      "text/plain": [
       "0.6453139766208054"
      ]
     },
     "execution_count": 148,
     "metadata": {},
     "output_type": "execute_result"
    }
   ],
   "source": [
    "ldirichlet_pdf(output, target)"
   ]
  },
  {
   "cell_type": "code",
   "execution_count": 149,
   "metadata": {},
   "outputs": [
    {
     "name": "stdout",
     "output_type": "stream",
     "text": [
      "tensor([[ 1.1272, -0.8463,  0.9369],\n",
      "        [-1.6684,  0.0504,  0.9693]])\n",
      "\n",
      "tensor([[0.5087, 0.0707, 0.4206],\n",
      "        [0.0486, 0.2713, 0.6800]])\n",
      "\n",
      "tensor([[1.6632, 1.0733, 1.5228],\n",
      "        [1.0498, 1.3117, 1.9740]])\n"
     ]
    }
   ],
   "source": [
    "m = torch.nn.Softmax(dim=1)  \n",
    "input = torch.randn(2, 3) \n",
    "print(input)\n",
    "print()\n",
    "output = m(input) \n",
    "print(output)\n",
    "print()\n",
    "output_exp = torch.exp(output)\n",
    "print(output_exp)"
   ]
  },
  {
   "cell_type": "code",
   "execution_count": 150,
   "metadata": {},
   "outputs": [
    {
     "data": {
      "image/png": "[encoded data removed]",
      "text/plain": [
       "<Figure size 432x288 with 1 Axes>"
      ]
     },
     "metadata": {
      "needs_background": "light"
     },
     "output_type": "display_data"
    }
   ],
   "source": [
    "draw_pdf_contours(Dirichlet(output_exp[0]))"
   ]
  },
  {
   "cell_type": "code",
   "execution_count": 151,
   "metadata": {},
   "outputs": [
    {
     "data": {
      "text/plain": [
       "tensor([100, 100,   1])"
      ]
     },
     "execution_count": 151,
     "metadata": {},
     "output_type": "execute_result"
    }
   ],
   "source": [
    "torch.clip(torch.tensor([100,200,1]), min = None, max = 100)"
   ]
  },
  {
   "cell_type": "code",
   "execution_count": 152,
   "metadata": {},
   "outputs": [
    {
     "data": {
      "text/plain": [
       "3"
      ]
     },
     "execution_count": 152,
     "metadata": {},
     "output_type": "execute_result"
    }
   ],
   "source": [
    "1879%4"
   ]
  },
  {
   "cell_type": "code",
   "execution_count": null,
   "metadata": {},
   "outputs": [],
   "source": [
    "1879//4"
   ]
  },
  {
   "cell_type": "code",
   "execution_count": null,
   "metadata": {},
   "outputs": [],
   "source": [
    "469 * 4 "
   ]
  },
  {
   "cell_type": "code",
   "execution_count": null,
   "metadata": {},
   "outputs": [],
   "source": [
    "468*4 "
   ]
  },
  {
   "cell_type": "code",
   "execution_count": null,
   "metadata": {},
   "outputs": [],
   "source": [
    "469*4"
   ]
  },
  {
   "cell_type": "code",
   "execution_count": null,
   "metadata": {},
   "outputs": [],
   "source": []
  }
 ],
 "metadata": {
  "kernelspec": {
   "display_name": "Python 3.8.9 64-bit",
   "language": "python",
   "name": "python3"
  },
  "language_info": {
   "codemirror_mode": {
    "name": "ipython",
    "version": 3
   },
   "file_extension": ".py",
   "mimetype": "text/x-python",
   "name": "python",
   "nbconvert_exporter": "python",
   "pygments_lexer": "ipython3",
   "version": "3.8.9"
  },
  "orig_nbformat": 4,
  "vscode": {
   "interpreter": {
    "hash": "31f2aee4e71d21fbe5cf8b01ff0e069b9275f58929596ceb00d14d90e3e16cd6"
   }
  }
 },
 "nbformat": 4,
 "nbformat_minor": 2
}
