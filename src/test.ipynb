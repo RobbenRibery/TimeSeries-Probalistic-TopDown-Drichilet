{
 "cells": [
  {
   "cell_type": "code",
   "execution_count": 33,
   "metadata": {},
   "outputs": [],
   "source": [
    "\n",
    "import torch \n",
    "import numpy as np \n",
    "from dirichlet import * \n",
    "import torch\n",
    "%matplotlib inline\n",
    "import numpy as np\n",
    "import matplotlib.pyplot as plt\n",
    "import matplotlib.tri as tri "
   ]
  },
  {
   "cell_type": "code",
   "execution_count": 37,
   "metadata": {},
   "outputs": [],
   "source": [
    "corners = np.array([[0, 0], [1, 0], [0.5, 0.75**0.5]])\n",
    "AREA = 0.5 * 1 * 0.75**0.5\n",
    "triangle = tri.Triangulation(corners[:, 0], corners[:, 1])"
   ]
  },
  {
   "cell_type": "code",
   "execution_count": 38,
   "metadata": {},
   "outputs": [],
   "source": [
    "# For each corner of the triangle, the pair of other corners\n",
    "pairs = [corners[np.roll(range(3), -i)[1:]] for i in range(3)]\n",
    "# The area of the triangle formed by point xy and another pair or points\n",
    "tri_area = lambda xy, pair: 0.5 * np.linalg.norm(np.cross(*(pair - xy)))\n",
    "\n",
    "def xy2bc(xy, tol=1.e-4):\n",
    "    '''Converts 2D Cartesian coordinates to barycentric.'''\n",
    "    coords = np.array([tri_area(xy, p) for p in pairs]) / AREA\n",
    "    return np.clip(coords, tol, 1.0 - tol)"
   ]
  },
  {
   "cell_type": "code",
   "execution_count": 39,
   "metadata": {},
   "outputs": [],
   "source": [
    "class Dirichlet(object):\n",
    "    def __init__(self, alpha):\n",
    "        from math import gamma\n",
    "        from operator import mul\n",
    "        self._alpha = np.array(alpha)\n",
    "        self._coef = gamma(np.sum(self._alpha)) / \\\n",
    "                           np.multiply.reduce([gamma(a) for a in self._alpha])\n",
    "    def pdf(self, x):\n",
    "        '''Returns pdf value for `x`.'''\n",
    "        from operator import mul\n",
    "        return self._coef * np.multiply.reduce([xx ** (aa - 1)\n",
    "                                               for (xx, aa)in zip(x, self._alpha)])\n",
    "\n",
    "def draw_pdf_contours(dist, nlevels=200, subdiv=8, **kwargs):\n",
    "    import math\n",
    "\n",
    "    refiner = tri.UniformTriRefiner(triangle)\n",
    "    trimesh = refiner.refine_triangulation(subdiv=subdiv)\n",
    "    pvals = [dist.pdf(xy2bc(xy)) for xy in zip(trimesh.x, trimesh.y)]\n",
    "\n",
    "    plt.tricontourf(trimesh, pvals, nlevels, cmap='jet', **kwargs)\n",
    "    plt.axis('equal')\n",
    "    plt.xlim(0, 1)\n",
    "    plt.ylim(0, 0.75**0.5)\n",
    "    plt.axis('off')"
   ]
  },
  {
   "cell_type": "code",
   "execution_count": 40,
   "metadata": {},
   "outputs": [
    {
     "name": "stdout",
     "output_type": "stream",
     "text": [
      "tensor([0.1805, 0.8146, 0.7466])\n",
      "tensor(1.1196)\n",
      "tensor(1.1196)\n"
     ]
    }
   ],
   "source": [
    "a = torch.tensor([0.9036, 0.9208, 0.9173])\n",
    "b = torch.tensor([0.7231, 0.1062, 0.1707]) \n",
    "\n",
    "diff = a-b \n",
    "\n",
    "print(diff)\n",
    "\n",
    "print(torch.norm(a-b,))\n",
    "print(torch.norm(diff,))"
   ]
  },
  {
   "cell_type": "code",
   "execution_count": 26,
   "metadata": {},
   "outputs": [
    {
     "data": {
      "text/plain": [
       "1.119627156691012"
      ]
     },
     "execution_count": 26,
     "metadata": {},
     "output_type": "execute_result"
    }
   ],
   "source": [
    "np.sqrt(0.1805**2 + 0.8146**2 + 0.7466**2)"
   ]
  },
  {
   "cell_type": "code",
   "execution_count": 14,
   "metadata": {},
   "outputs": [
    {
     "data": {
      "text/plain": [
       "[<matplotlib.lines.Line2D at 0x12a811df0>]"
      ]
     },
     "execution_count": 14,
     "metadata": {},
     "output_type": "execute_result"
    },
    {
     "data": {
      "image/png": "[encoded data removed]",
      "text/plain": [
       "<Figure size 432x288 with 1 Axes>"
      ]
     },
     "metadata": {
      "needs_background": "light"
     },
     "output_type": "display_data"
    },
    {
     "data": {
      "image/png": "[encoded data removed]",
      "text/plain": [
       "<Figure size 432x288 with 1 Axes>"
      ]
     },
     "metadata": {
      "needs_background": "light"
     },
     "output_type": "display_data"
    }
   ],
   "source": [
    "import matplotlib.pyplot as plt \n",
    "plt.figure() \n",
    "plt.plot([1,2,3], [0,1,2], 'rs', )\n",
    "plt.plot([1,2,3,4], [0,1,2,3], 'rs', )\n",
    "\n",
    "plt.figure() \n",
    "plt.plot([1,2,3], [0,1,2], 'rs', )\n",
    "plt.plot([1,2,3,4], [0,1,2,3], 'rs', )"
   ]
  },
  {
   "cell_type": "code",
   "execution_count": 9,
   "metadata": {},
   "outputs": [
    {
     "data": {
      "text/plain": [
       "[0]"
      ]
     },
     "execution_count": 9,
     "metadata": {},
     "output_type": "execute_result"
    }
   ],
   "source": [
    "list(range(0+1))"
   ]
  },
  {
   "cell_type": "code",
   "execution_count": 35,
   "metadata": {},
   "outputs": [],
   "source": [
    "output = [0.8077, 0.7874, 0.7990]\n",
    "target = torch.tensor(\n",
    "    [0.7231, 0.1062, 0.1707]\n",
    ")"
   ]
  },
  {
   "cell_type": "code",
   "execution_count": 42,
   "metadata": {},
   "outputs": [
    {
     "name": "stdout",
     "output_type": "stream",
     "text": [
      "tensor([inf, inf, inf])\n"
     ]
    },
    {
     "name": "stderr",
     "output_type": "stream",
     "text": [
      "/var/folders/6t/cwpxfjt13rd3m9sgky7446mm0000gn/T/ipykernel_64274/1854029330.py:2: RuntimeWarning: overflow encountered in exp\n",
      "  np.exp(output)\n",
      "/var/folders/6t/cwpxfjt13rd3m9sgky7446mm0000gn/T/ipykernel_64274/1854029330.py:1: UserWarning: To copy construct from a tensor, it is recommended to use sourceTensor.clone().detach() or sourceTensor.clone().detach().requires_grad_(True), rather than torch.tensor(sourceTensor).\n",
      "  output =  torch.tensor(\n"
     ]
    }
   ],
   "source": [
    "output =  torch.tensor(\n",
    "    \n",
    ")\n",
    "print(output)"
   ]
  },
  {
   "cell_type": "code",
   "execution_count": 40,
   "metadata": {},
   "outputs": [
    {
     "data": {
      "text/plain": [
       "tensor([0.3646, 0.3000, 0.3354])"
      ]
     },
     "execution_count": 40,
     "metadata": {},
     "output_type": "execute_result"
    }
   ],
   "source": [
    "distribution = Dirichlet(output)\n",
    "distribution.rsample()"
   ]
  },
  {
   "cell_type": "code",
   "execution_count": 41,
   "metadata": {},
   "outputs": [
    {
     "data": {
      "text/plain": [
       "tensor(-2508.0156)"
      ]
     },
     "execution_count": 41,
     "metadata": {},
     "output_type": "execute_result"
    }
   ],
   "source": [
    "distribution.log_prob(target)"
   ]
  },
  {
   "cell_type": "code",
   "execution_count": 17,
   "metadata": {},
   "outputs": [
    {
     "name": "stderr",
     "output_type": "stream",
     "text": [
      "/Users/ericliu/Library/Python/3.8/lib/python/site-packages/torch/distributions/distribution.py:159: UserWarning: sample_n will be deprecated. Use .sample((n,)) instead\n",
      "  warnings.warn('sample_n will be deprecated. Use .sample((n,)) instead', UserWarning)\n"
     ]
    },
    {
     "data": {
      "text/plain": [
       "tensor([[0.5845, 0.3917, 0.0238],\n",
       "        [0.5317, 0.3187, 0.1496],\n",
       "        [0.0215, 0.9209, 0.0577],\n",
       "        [0.6684, 0.3200, 0.0116]])"
      ]
     },
     "execution_count": 17,
     "metadata": {},
     "output_type": "execute_result"
    }
   ],
   "source": [
    "distribution.sample_n(4)"
   ]
  },
  {
   "cell_type": "code",
   "execution_count": 18,
   "metadata": {},
   "outputs": [],
   "source": [
    "import math\n",
    "\n",
    "def lbeta(alpha):\n",
    "    return sum(math.lgamma(a) for a in alpha) - math.lgamma(sum(alpha))\n",
    "\n",
    "def ldirichlet_pdf(alpha, theta):\n",
    "    kernel = sum((a - 1) * math.log(t) for a, t in zip(alpha, theta))\n",
    "    return kernel - lbeta(alpha)\n"
   ]
  },
  {
   "cell_type": "code",
   "execution_count": 19,
   "metadata": {},
   "outputs": [
    {
     "data": {
      "text/plain": [
       "tensor(0.6453)"
      ]
     },
     "execution_count": 19,
     "metadata": {},
     "output_type": "execute_result"
    }
   ],
   "source": [
    "ldirichlet_pdf(output, target)"
   ]
  },
  {
   "cell_type": "code",
   "execution_count": 44,
   "metadata": {},
   "outputs": [
    {
     "name": "stdout",
     "output_type": "stream",
     "text": [
      "tensor([[ 1.4491,  0.0366,  0.9236],\n",
      "        [-1.1179, -0.1849,  0.5777]])\n",
      "\n",
      "tensor([[0.5450, 0.1327, 0.3223],\n",
      "        [0.1112, 0.2827, 0.6061]])\n",
      "\n",
      "tensor([[1.7246, 1.1419, 1.3802],\n",
      "        [1.1176, 1.3267, 1.8332]])\n"
     ]
    }
   ],
   "source": [
    "m = torch.nn.Softmax(dim=1)  \n",
    "input = torch.randn(2, 3) \n",
    "print(input)\n",
    "print()\n",
    "output = m(input) \n",
    "print(output)\n",
    "print()\n",
    "output_exp = torch.exp(output)\n",
    "print(output_exp)"
   ]
  },
  {
   "cell_type": "code",
   "execution_count": 50,
   "metadata": {},
   "outputs": [
    {
     "data": {
      "image/png": "[encoded data removed]",
      "text/plain": [
       "<Figure size 432x288 with 1 Axes>"
      ]
     },
     "metadata": {
      "needs_background": "light"
     },
     "output_type": "display_data"
    }
   ],
   "source": [
    "draw_pdf_contours(Dirichlet(output_exp[0]))"
   ]
  },
  {
   "cell_type": "code",
   "execution_count": 53,
   "metadata": {},
   "outputs": [
    {
     "data": {
      "text/plain": [
       "tensor([100, 100,   1])"
      ]
     },
     "execution_count": 53,
     "metadata": {},
     "output_type": "execute_result"
    }
   ],
   "source": [
    "torch.clip(torch.tensor([100,200,1]), min = None, max = 100)"
   ]
  },
  {
   "cell_type": "code",
   "execution_count": null,
   "metadata": {},
   "outputs": [],
   "source": []
  }
 ],
 "metadata": {
  "kernelspec": {
   "display_name": "Python 3.8.9 64-bit",
   "language": "python",
   "name": "python3"
  },
  "language_info": {
   "codemirror_mode": {
    "name": "ipython",
    "version": 3
   },
   "file_extension": ".py",
   "mimetype": "text/x-python",
   "name": "python",
   "nbconvert_exporter": "python",
   "pygments_lexer": "ipython3",
   "version": "3.8.9"
  },
  "orig_nbformat": 4,
  "vscode": {
   "interpreter": {
    "hash": "31f2aee4e71d21fbe5cf8b01ff0e069b9275f58929596ceb00d14d90e3e16cd6"
   }
  }
 },
 "nbformat": 4,
 "nbformat_minor": 2
}
